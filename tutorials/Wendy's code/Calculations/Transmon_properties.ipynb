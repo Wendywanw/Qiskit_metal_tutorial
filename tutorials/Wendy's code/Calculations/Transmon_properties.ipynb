{
 "cells": [
  {
   "cell_type": "code",
   "execution_count": 3,
   "metadata": {},
   "outputs": [],
   "source": [
    "import numpy as np\n",
    "import astropy.units as u\n",
    "import astropy.constants as c"
   ]
  },
  {
   "cell_type": "code",
   "execution_count": 24,
   "metadata": {},
   "outputs": [],
   "source": [
    "phi0 = c.h/2/c.e.si\n",
    "T = 30*u.mK\n",
    "epsilon_r = 11.7\n"
   ]
  },
  {
   "attachments": {},
   "cell_type": "markdown",
   "metadata": {},
   "source": [
    "### Define some Transmon parameters and calculate transmon only numbers"
   ]
  },
  {
   "cell_type": "code",
   "execution_count": 5,
   "metadata": {},
   "outputs": [],
   "source": [
    "Cq = 94*u.fF\n",
    "Lj = 10*u.nH\n",
    "Ec = (c.e.si**2/2/Cq).to(u.J)\n",
    "Ej = ((phi0/2/np.pi)**2/Lj).to(u.J)\n",
    "# epsilon1 = -Ec*2**9\n",
    "wq = (np.sqrt(8*Ej*Ec)-Ec)/c.hbar\n",
    "fq = wq/2/np.pi\n",
    "alpha = Ec/c.h"
   ]
  },
  {
   "cell_type": "code",
   "execution_count": 9,
   "metadata": {},
   "outputs": [
    {
     "name": "stdout",
     "output_type": "stream",
     "text": [
      "Transmon Frequency is: 4.98499559779205 GHz\n",
      "The anharmonicity is: 206.06626941126723 MHz\n"
     ]
    }
   ],
   "source": [
    "print('Transmon Frequency is:',fq.to(u.GHz))\n",
    "print('The anharmonicity is:', alpha.to(u.MHz))"
   ]
  },
  {
   "attachments": {},
   "cell_type": "markdown",
   "metadata": {},
   "source": [
    "### Define some Resonator parameters and resonator only numbers"
   ]
  },
  {
   "cell_type": "code",
   "execution_count": 110,
   "metadata": {},
   "outputs": [],
   "source": [
    "fr = 7*u.GHz\n",
    "wr = fr*2*np.pi\n",
    "lam  = c.c*(1/fr).to(u.s)#why is this the speed of light?\n",
    "cc = 165*u.pF/u.m\n",
    "\n",
    "L= lam/4\n",
    "Cr = cc*L\n",
    "# v0 = \n",
    "\n",
    "lr = (1/Cr/wr**2).to(u.nH)\n",
    "delta = wq-wr\n",
    "delta_f = delta/2/np.pi\n",
    "\n",
    "n = (np.exp(c.hbar*wr/c.k_B/T)-1)**(-1)#probability of particle in the excited state of the transmon"
   ]
  },
  {
   "cell_type": "code",
   "execution_count": 111,
   "metadata": {},
   "outputs": [
    {
     "name": "stdout",
     "output_type": "stream",
     "text": [
      "The detuning between transmon and resonator is: -2.0150044022079507 GHz\n",
      "The probability of states in the excited state is: 1.369855590072293e-05\n"
     ]
    }
   ],
   "source": [
    "print('The detuning between transmon and resonator is:', delta_f.to(u.GHz))\n",
    "print('The probability of states in the excited state is:', n)"
   ]
  },
  {
   "attachments": {},
   "cell_type": "markdown",
   "metadata": {},
   "source": [
    "### Qubit-Resonator Coupling Parameters"
   ]
  },
  {
   "cell_type": "code",
   "execution_count": 153,
   "metadata": {},
   "outputs": [],
   "source": [
    "Cg = 5*u.fF\n",
    "C_sum = Cq+Cg\n",
    "\n",
    "\n",
    "Zvac = np.sqrt(c.mu0/c.eps0).to(u.Ohm)\n",
    "Zr = np.sqrt(lr/Cr).to(u.Ohm)\n",
    "alpha_fine = 1/4/np.pi/c.eps0*c.e.si**2/c.hbar/c.c\n",
    "Rk = c.h/c.e.si**2\n",
    "\n",
    "g_1 = wr*Cg/C_sum*(Ej/2/Ec)**(1/4)*np.sqrt(Zr/Zvac)*np.sqrt(2*np.pi*alpha_fine)\n",
    "g_2 = wr*Cg/C_sum*(Ej/2/Ec)**(1/4)*np.sqrt(np.pi*Zr/Rk)\n",
    "chi = -g_1**2*Ec/c.hbar/delta/(delta-Ec/c.hbar)\n",
    "wr_coupled = wr-g**2/(delta-Ec/c.hbar)\n",
    "wq_coupled = wq+g**2/delta\n",
    "kappa = 2*chi.decompose()"
   ]
  },
  {
   "cell_type": "code",
   "execution_count": 147,
   "metadata": {},
   "outputs": [
    {
     "name": "stdout",
     "output_type": "stream",
     "text": [
      "The coupling strength between the resonator and the transmon (g) is: 35.113373443825814 MHz\n",
      "The dispersive shift of the cavity is: -0.356692116818387 MHz\n",
      "The qubit frequency changed from  4.984995597792049 GHz  to  4.977605262313667 GHz\n",
      "The cavity frequency changed from  7.0 GHz  to  7.006704675683226 GHz\n"
     ]
    }
   ],
   "source": [
    "print('The coupling strength between the resonator and the transmon (g) is:', g_1.to(u.MHz)/2/np.pi)\n",
    "print('The dispersive shift of the cavity is:', chi.to(u.MHz))\n",
    "print('The qubit frequency changed from ', wq.to(u.GHz)/2/np.pi, ' to ', wq_coupled.to(u.GHz)/2/np.pi)\n",
    "print('The cavity frequency changed from ', wr.to(u.GHz)/2/np.pi, ' to ', wr_coupled.to(u.GHz)/2/np.pi)"
   ]
  },
  {
   "cell_type": "code",
   "execution_count": 148,
   "metadata": {},
   "outputs": [],
   "source": [
    "n_crit = 1/3*(np.absolute(delta-Ec/c.hbar)**2/4/g_1**2-1)"
   ]
  },
  {
   "cell_type": "code",
   "execution_count": 150,
   "metadata": {},
   "outputs": [
    {
     "name": "stdout",
     "output_type": "stream",
     "text": [
      "A conservative estimate of critical photon numbers in the system gives: 333.09184956222174\n"
     ]
    }
   ],
   "source": [
    "print('A conservative estimate of critical photon numbers in the system gives:', n_crit)"
   ]
  },
  {
   "cell_type": "code",
   "execution_count": 154,
   "metadata": {},
   "outputs": [
    {
     "data": {
      "text/latex": [
       "$-713384.23 \\; \\mathrm{\\frac{1}{s}}$"
      ],
      "text/plain": [
       "<Quantity -713384.23363677 1 / s>"
      ]
     },
     "execution_count": 154,
     "metadata": {},
     "output_type": "execute_result"
    }
   ],
   "source": [
    "kappa"
   ]
  },
  {
   "cell_type": "code",
   "execution_count": 117,
   "metadata": {},
   "outputs": [
    {
     "data": {
      "text/latex": [
       "$2.2442338 \\times 10^{8} \\; \\mathrm{\\frac{1}{s}}$"
      ],
      "text/plain": [
       "<Quantity 2.24423376e+08 1 / s>"
      ]
     },
     "execution_count": 117,
     "metadata": {},
     "output_type": "execute_result"
    }
   ],
   "source": [
    "g_2.decompose()"
   ]
  },
  {
   "cell_type": "code",
   "execution_count": 51,
   "metadata": {},
   "outputs": [
    {
     "data": {
      "text/latex": [
       "$25812.807 \\; \\mathrm{\\Omega}$"
      ],
      "text/plain": [
       "<Quantity 25812.8074593 Ohm>"
      ]
     },
     "execution_count": 51,
     "metadata": {},
     "output_type": "execute_result"
    }
   ],
   "source": [
    "c.e.si"
   ]
  },
  {
   "cell_type": "code",
   "execution_count": 132,
   "metadata": {},
   "outputs": [],
   "source": [
    "cc = 165*u.pF/u.m\n",
    "cr = cc*L\n",
    "beta = Cg/(Cq+Cg)\n",
    "\n",
    "V0 = np.sqrt(c.hbar*wr/cr.to(u.F)).decompose()\n",
    "gg = c.e.si*V0/c.hbar*beta*np.sqrt(2)*(Ej/8/Ec)**(1/4)\n"
   ]
  },
  {
   "cell_type": "code",
   "execution_count": 133,
   "metadata": {},
   "outputs": [
    {
     "data": {
      "text/latex": [
       "$312.00922 \\; \\mathrm{MHz}$"
      ],
      "text/plain": [
       "<Quantity 312.00921555 MHz>"
      ]
     },
     "execution_count": 133,
     "metadata": {},
     "output_type": "execute_result"
    }
   ],
   "source": [
    "gg.to(u.MHz)"
   ]
  },
  {
   "cell_type": "code",
   "execution_count": 134,
   "metadata": {},
   "outputs": [
    {
     "data": {
      "text/latex": [
       "$0.050505051 \\; \\mathrm{}$"
      ],
      "text/plain": [
       "<Quantity 0.05050505>"
      ]
     },
     "execution_count": 134,
     "metadata": {},
     "output_type": "execute_result"
    }
   ],
   "source": [
    "beta"
   ]
  },
  {
   "cell_type": "code",
   "execution_count": 72,
   "metadata": {},
   "outputs": [
    {
     "data": {
      "text/latex": [
       "$8 \\times 10^{-15} \\; \\mathrm{F}$"
      ],
      "text/plain": [
       "<Quantity 8.e-15 F>"
      ]
     },
     "execution_count": 72,
     "metadata": {},
     "output_type": "execute_result"
    }
   ],
   "source": [
    "(8*u.fF).to(u.F)"
   ]
  },
  {
   "cell_type": "code",
   "execution_count": 82,
   "metadata": {},
   "outputs": [
    {
     "data": {
      "text/latex": [
       "$1 \\times 10^{-12} \\; \\mathrm{F}$"
      ],
      "text/plain": [
       "<Quantity 1.e-12 F>"
      ]
     },
     "execution_count": 82,
     "metadata": {},
     "output_type": "execute_result"
    }
   ],
   "source": [
    "(1*u.pF).to(u.F)"
   ]
  },
  {
   "cell_type": "code",
   "execution_count": 83,
   "metadata": {},
   "outputs": [
    {
     "data": {
      "text/latex": [
       "$0.010706874 \\; \\mathrm{m}$"
      ],
      "text/plain": [
       "<Quantity 0.01070687 m>"
      ]
     },
     "execution_count": 83,
     "metadata": {},
     "output_type": "execute_result"
    }
   ],
   "source": [
    "L"
   ]
  },
  {
   "cell_type": "code",
   "execution_count": 95,
   "metadata": {},
   "outputs": [
    {
     "data": {
      "text/latex": [
       "$1.7666341 \\; \\mathrm{pF}$"
      ],
      "text/plain": [
       "<Quantity 1.76663413 pF>"
      ]
     },
     "execution_count": 95,
     "metadata": {},
     "output_type": "execute_result"
    }
   ],
   "source": [
    "cr"
   ]
  },
  {
   "cell_type": "code",
   "execution_count": 124,
   "metadata": {},
   "outputs": [
    {
     "data": {
      "text/latex": [
       "$1.7666341 \\; \\mathrm{pF}$"
      ],
      "text/plain": [
       "<Quantity 1.76663413 pF>"
      ]
     },
     "execution_count": 124,
     "metadata": {},
     "output_type": "execute_result"
    }
   ],
   "source": [
    "Cr"
   ]
  },
  {
   "cell_type": "code",
   "execution_count": 125,
   "metadata": {},
   "outputs": [
    {
     "data": {
      "text/latex": [
       "$1.7666341 \\; \\mathrm{pF}$"
      ],
      "text/plain": [
       "<Quantity 1.76663413 pF>"
      ]
     },
     "execution_count": 125,
     "metadata": {},
     "output_type": "execute_result"
    }
   ],
   "source": [
    "cr"
   ]
  },
  {
   "cell_type": "code",
   "execution_count": 120,
   "metadata": {},
   "outputs": [
    {
     "data": {
      "text/latex": [
       "$4.5510252 \\times 10^{10} \\; \\mathrm{\\frac{1}{s}}$"
      ],
      "text/plain": [
       "<Quantity 4.55102524e+10 1 / s>"
      ]
     },
     "execution_count": 120,
     "metadata": {},
     "output_type": "execute_result"
    }
   ],
   "source": [
    "(1/np.sqrt(lr*cr)).decompose()"
   ]
  },
  {
   "cell_type": "code",
   "execution_count": 121,
   "metadata": {},
   "outputs": [
    {
     "data": {
      "text/latex": [
       "$43.982297 \\; \\mathrm{GHz}$"
      ],
      "text/plain": [
       "<Quantity 43.98229715 GHz>"
      ]
     },
     "execution_count": 121,
     "metadata": {},
     "output_type": "execute_result"
    }
   ],
   "source": [
    "wr"
   ]
  },
  {
   "cell_type": "code",
   "execution_count": 122,
   "metadata": {},
   "outputs": [
    {
     "data": {
      "text/latex": [
       "$7 \\; \\mathrm{GHz}$"
      ],
      "text/plain": [
       "<Quantity 7. GHz>"
      ]
     },
     "execution_count": 122,
     "metadata": {},
     "output_type": "execute_result"
    }
   ],
   "source": [
    "fr"
   ]
  },
  {
   "cell_type": "code",
   "execution_count": 127,
   "metadata": {},
   "outputs": [
    {
     "data": {
      "text/latex": [
       "$0.71928445 \\; \\mathrm{}$"
      ],
      "text/plain": [
       "<Quantity 0.71928445>"
      ]
     },
     "execution_count": 127,
     "metadata": {},
     "output_type": "execute_result"
    }
   ],
   "source": [
    "(g_1/gg).decompose()"
   ]
  },
  {
   "cell_type": "code",
   "execution_count": 128,
   "metadata": {},
   "outputs": [
    {
     "data": {
      "text/plain": [
       "0.15915494309189535"
      ]
     },
     "execution_count": 128,
     "metadata": {},
     "output_type": "execute_result"
    }
   ],
   "source": [
    "1/2/np.pi"
   ]
  },
  {
   "cell_type": "code",
   "execution_count": 130,
   "metadata": {},
   "outputs": [
    {
     "data": {
      "text/latex": [
       "$312.00922 \\; \\mathrm{MHz}$"
      ],
      "text/plain": [
       "<Quantity 312.00921555 MHz>"
      ]
     },
     "execution_count": 130,
     "metadata": {},
     "output_type": "execute_result"
    }
   ],
   "source": [
    "gg.to(u.MHz)"
   ]
  },
  {
   "cell_type": "code",
   "execution_count": 137,
   "metadata": {},
   "outputs": [
    {
     "data": {
      "text/latex": [
       "$0.3396289 \\; \\mathrm{}$"
      ],
      "text/plain": [
       "<Quantity 0.3396289>"
      ]
     },
     "execution_count": 137,
     "metadata": {},
     "output_type": "execute_result"
    }
   ],
   "source": [
    "(600*u.fF/Cr).decompose()"
   ]
  },
  {
   "cell_type": "code",
   "execution_count": null,
   "metadata": {},
   "outputs": [],
   "source": []
  }
 ],
 "metadata": {
  "kernelspec": {
   "display_name": "qutip-env",
   "language": "python",
   "name": "python3"
  },
  "language_info": {
   "codemirror_mode": {
    "name": "ipython",
    "version": 3
   },
   "file_extension": ".py",
   "mimetype": "text/x-python",
   "name": "python",
   "nbconvert_exporter": "python",
   "pygments_lexer": "ipython3",
   "version": "3.10.8"
  },
  "orig_nbformat": 4,
  "vscode": {
   "interpreter": {
    "hash": "96a6cbfed5cf98e0219c7cd4ae904280ea58a00c65b173e9e30631888d78e4c5"
   }
  }
 },
 "nbformat": 4,
 "nbformat_minor": 2
}
