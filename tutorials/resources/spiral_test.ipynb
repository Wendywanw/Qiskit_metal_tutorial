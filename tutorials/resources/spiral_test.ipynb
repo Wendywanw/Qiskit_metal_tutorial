{
 "cells": [
  {
   "cell_type": "code",
   "execution_count": 1,
   "metadata": {},
   "outputs": [],
   "source": [
    "from qiskit_metal import designs\n",
    "from qiskit_metal import MetalGUI, Dict\n",
    "\n",
    "design = designs.DesignPlanar()\n",
    "gui = MetalGUI(design)\n",
    "\n",
    "design.variables['cpw_width'] = '10 um'\n",
    "design.variables['cpw_gap'] = '6 um'"
   ]
  },
  {
   "cell_type": "code",
   "execution_count": null,
   "metadata": {},
   "outputs": [],
   "source": []
  },
  {
   "cell_type": "code",
   "execution_count": null,
   "metadata": {},
   "outputs": [],
   "source": [
    "# -*- coding: utf-8 -*-\n",
    "\n",
    "# This code is part of Qiskit.\n",
    "#\n",
    "# (C) Copyright IBM 2017, 2021.\n",
    "#\n",
    "# This code is licensed under the Apache License, Version 2.0. You may\n",
    "# obtain a copy of this license in the LICENSE.txt file in the root directory\n",
    "# of this source tree or at http://www.apache.org/licenses/LICENSE-2.0.\n",
    "#\n",
    "# Any modifications or derivative works of this code must retain this\n",
    "# copyright notice, and modified files need to carry a notice indicating\n",
    "# that they have been altered from the originals.\n",
    "\"\"\"File contains dictionary for NSquareSpiral and the make().\"\"\"\n",
    "\n",
    "from qiskit_metal import draw, Dict\n",
    "from qiskit_metal.qlibrary.core import QComponent\n",
    "import numpy as np\n",
    "\n",
    "\n",
    "class NSquareSpiral(QComponent):\n",
    "    \"\"\"A n count square spiral.\n",
    "\n",
    "    Inherits `QComponent` class.\n",
    "\n",
    "    Description:\n",
    "        A n count square spiral.\n",
    "        ::\n",
    "\n",
    "            ____________\n",
    "            |   _____   |\n",
    "            |  |     |  |\n",
    "            |  |     |  |\n",
    "            |  |________|\n",
    "            |\n",
    "\n",
    "    .. image::\n",
    "        NSquareSpiral.png\n",
    "\n",
    "    .. meta::\n",
    "        N Square Spiral\n",
    "\n",
    "    Default Options:\n",
    "        Convention: Values (unless noted) are strings with units included,\n",
    "        (e.g., '30um')\n",
    "\n",
    "        * n: '3' -- Number of turns of the spiral\n",
    "        * width: '1um' -- the width of the line of the spiral\n",
    "        * radius: '40um' -- The 'radius' of the inner portion of the spiral\n",
    "        * gap: '4um' -- The distance between each layer of the spiral\n",
    "        * subtract: 'False'\n",
    "        * helper: 'False'\n",
    "    \"\"\"\n",
    "\n",
    "    default_options = Dict(n='3',\n",
    "                           width='1um',\n",
    "                           radius='40um',\n",
    "                           gap='4um',\n",
    "                           subtract='False',\n",
    "                           helper='False')\n",
    "    \"\"\"Default drawing options\"\"\"\n",
    "\n",
    "    TOOLTIP = \"\"\"An n count square spiral\"\"\"\n",
    "\n",
    "    def make(self):\n",
    "        \"\"\"The make function implements the logic that creates the geoemtry\n",
    "        (poly, path, etc.) from the qcomponent.options dictionary of\n",
    "        parameters, and the adds them to the design, using\n",
    "        qcomponent.add_qgeometry(...), adding in extra needed information, such\n",
    "        as layer, subtract, etc.\"\"\"\n",
    "        p = self.p  # p for parsed parameters. Access to the parsed options.\n",
    "        n = int(p.n)\n",
    "        # Create the geometry\n",
    "\n",
    "        spiral_list = []\n",
    "\n",
    "        for step in range(n):\n",
    "            point_value = p.radius / 2 + step * (p.width + p.gap)\n",
    "            spiral_list.append((-point_value, -point_value))\n",
    "            spiral_list.append((point_value, -point_value))\n",
    "            spiral_list.append((point_value, point_value))\n",
    "            spiral_list.append((-point_value - (p.width + p.gap), point_value))\n",
    "\n",
    "        point_value = p.radius / 2 + (step + 1) * (p.width + p.gap)\n",
    "        spiral_list.append((-point_value, -point_value))\n",
    "        spiral_list = draw.LineString(spiral_list)\n",
    "\n",
    "        spiral_list = draw.rotate(spiral_list, p.orientation, origin=(0, 0))\n",
    "        spiral_list = draw.translate(spiral_list, p.pos_x, p.pos_y)\n",
    "\n",
    "        ##############################################\n",
    "        # add qgeometry\n",
    "        self.add_qgeometry('path', {'n_spiral': spiral_list},\n",
    "                           width=p.width,\n",
    "                           subtract=p.subtract,\n",
    "                           helper=p.helper,\n",
    "                           layer=p.layer,\n",
    "                           chip=p.chip)\n",
    "\n",
    "        points = np.array(spiral_list.coords)\n",
    "        # FIX POINTS,\n",
    "        self.add_pin('spiralPin',\n",
    "                     points=points[-2:],\n",
    "                     width=p.width,\n",
    "                     input_as_norm=True)\n"
   ]
  },
  {
   "cell_type": "code",
   "execution_count": 1,
   "metadata": {},
   "outputs": [],
   "source": [
    "import numpy as np\n",
    "from collections import OrderedDict\n",
    "\n",
    "def pins_for_spiral(radius,gap,n):\n",
    "    spiral_list = OrderedDict()\n",
    "    for step in range(n):\n",
    "        point_value = radius / 2 + step * (0 + gap)\n",
    "        spiral_list[step*4] = np.array([-point_value, -point_value])\n",
    "        spiral_list[step*4+1] = np.array([point_value, -point_value])\n",
    "        spiral_list[step*4+2] = np.array([point_value, point_value])\n",
    "        spiral_list[step*4+3] = np.array([-point_value - (0 + gap), point_value])\n",
    "\n",
    "    point_value = radius / 2 + (step + 1) * (0 + gap)\n",
    "    spiral_list[step*4+4] = np.array([-point_value, -point_value])\n",
    "    return(spiral_list)"
   ]
  },
  {
   "cell_type": "code",
   "execution_count": 2,
   "metadata": {},
   "outputs": [],
   "source": [
    "%reload_ext autoreload\n",
    "%autoreload 2"
   ]
  },
  {
   "cell_type": "code",
   "execution_count": 3,
   "metadata": {},
   "outputs": [],
   "source": [
    "from qiskit_metal import designs\n",
    "from qiskit_metal import MetalGUI, Dict\n",
    "\n",
    "design = designs.DesignPlanar()\n",
    "gui = MetalGUI(design)\n",
    "\n",
    "# if you disable the next line, then you will need to delete a component [<component>.delete()] before recreating it\n",
    "design.overwrite_enabled = True"
   ]
  },
  {
   "cell_type": "code",
   "execution_count": 4,
   "metadata": {},
   "outputs": [],
   "source": [
    "# for pins:\n",
    "from qiskit_metal.qlibrary.terminations.open_to_ground import OpenToGround\n",
    "from qiskit_metal.qlibrary.terminations.short_to_ground import ShortToGround\n",
    "# for routing:\n",
    "from qiskit_metal.qlibrary.tlines.straight_path import RouteStraight\n",
    "from qiskit_metal.qlibrary.tlines.framed_path import RouteFramed\n",
    "\n",
    "from qiskit_metal import draw, Dict\n",
    "# for jogs:\n",
    "from collections import OrderedDict"
   ]
  },
  {
   "cell_type": "code",
   "execution_count": 50,
   "metadata": {},
   "outputs": [],
   "source": [
    "pin_opt = Dict( hfss_wire_bonds = True,pin_inputs=Dict(start_pin=Dict(\n",
    "                                    component='open1i',\n",
    "                                    pin='open'),\n",
    "                                end_pin=Dict(\n",
    "                                    component='short1o',\n",
    "                                    pin='short')))"
   ]
  },
  {
   "cell_type": "code",
   "execution_count": 69,
   "metadata": {},
   "outputs": [],
   "source": [
    "design.delete_all_components()  #needed only for rebuilds. will get a warning\n",
    "\n",
    "otg11 = OpenToGround(design, 'open1i', options=dict(pos_x='0mm',  pos_y='0mm', orientation='0'))\n",
    "otg12 = ShortToGround(design, 'short1o', options=dict(pos_x='0.2mm',  pos_y='1mm', orientation='90'))\n",
    "# otg3 = ShortToGround(design,x)\n",
    "\n",
    "gui.rebuild()\n",
    "gui.autoscale()"
   ]
  },
  {
   "cell_type": "code",
   "execution_count": 77,
   "metadata": {},
   "outputs": [],
   "source": [
    "anchors = pins_for_spiral(0.2,0.05,3)\n",
    "ops=dict(fillet='40um')"
   ]
  },
  {
   "cell_type": "code",
   "execution_count": 80,
   "metadata": {},
   "outputs": [
    {
     "data": {
      "text/plain": [
       "OrderedDict([(0, array([-0.1, -0.1])),\n",
       "             (1, array([ 0.1, -0.1])),\n",
       "             (2, array([0.1, 0.1])),\n",
       "             (3, array([-0.15,  0.1 ])),\n",
       "             (4, array([-0.15, -0.15])),\n",
       "             (5, array([ 0.15, -0.15])),\n",
       "             (6, array([0.15, 0.15])),\n",
       "             (7, array([-0.2 ,  0.15])),\n",
       "             (8, array([-0.2, -0.2])),\n",
       "             (9, array([ 0.2, -0.2])),\n",
       "             (10, array([0.2, 0.2])),\n",
       "             (11, array([-0.25,  0.2 ])),\n",
       "             (12, array([-0.25, -0.25]))])"
      ]
     },
     "execution_count": 80,
     "metadata": {},
     "output_type": "execute_result"
    }
   ],
   "source": [
    "anchors"
   ]
  },
  {
   "cell_type": "code",
   "execution_count": 87,
   "metadata": {},
   "outputs": [],
   "source": [
    "options = {'pin_inputs': \n",
    "            {'start_pin': {'component': 'open1i', 'pin': 'open'}, \n",
    "             'end_pin': {'component': 'short1o', 'pin': 'short'}},\n",
    "            'lead': {'start_straight': '0um', 'end_straight': '0um'},\n",
    "            'step_size': '0.25mm',\n",
    "            'anchors': anchors,\n",
    "            'total_length':'20mm',\n",
    "            **ops\n",
    "           }"
   ]
  },
  {
   "cell_type": "code",
   "execution_count": 88,
   "metadata": {},
   "outputs": [
    {
     "name": "stderr",
     "output_type": "stream",
     "text": [
      "WARNING:py.warnings:c:\\Users\\slab\\anaconda3\\envs\\qmetal\\lib\\site-packages\\pandas\\core\\dtypes\\cast.py:127: ShapelyDeprecationWarning: The array interface is deprecated and will no longer work in Shapely 2.0. Convert the '.coords' to a numpy array instead.\n",
      "  arr = construct_1d_object_array_from_listlike(values)\n",
      "\n",
      "WARNING:py.warnings:c:\\Users\\slab\\anaconda3\\envs\\qmetal\\lib\\site-packages\\pandas\\core\\dtypes\\cast.py:127: ShapelyDeprecationWarning: The array interface is deprecated and will no longer work in Shapely 2.0. Convert the '.coords' to a numpy array instead.\n",
      "  arr = construct_1d_object_array_from_listlike(values)\n",
      "\n"
     ]
    }
   ],
   "source": [
    "design.delete_component('cpw_1')\n",
    "from qiskit_metal.qlibrary.tlines.pathfinder import RoutePathfinder\n",
    "qa = RoutePathfinder(design, 'cpw_1', options)"
   ]
  },
  {
   "cell_type": "code",
   "execution_count": 89,
   "metadata": {},
   "outputs": [
    {
     "name": "stderr",
     "output_type": "stream",
     "text": [
      "WARNING:py.warnings:c:\\Users\\slab\\anaconda3\\envs\\qmetal\\lib\\site-packages\\pandas\\core\\dtypes\\cast.py:127: ShapelyDeprecationWarning: The array interface is deprecated and will no longer work in Shapely 2.0. Convert the '.coords' to a numpy array instead.\n",
      "  arr = construct_1d_object_array_from_listlike(values)\n",
      "\n",
      "WARNING:py.warnings:c:\\Users\\slab\\anaconda3\\envs\\qmetal\\lib\\site-packages\\pandas\\core\\dtypes\\cast.py:127: ShapelyDeprecationWarning: The array interface is deprecated and will no longer work in Shapely 2.0. Convert the '.coords' to a numpy array instead.\n",
      "  arr = construct_1d_object_array_from_listlike(values)\n",
      "\n"
     ]
    }
   ],
   "source": [
    "gui.rebuild()\n",
    "gui.autoscale()"
   ]
  },
  {
   "cell_type": "code",
   "execution_count": null,
   "metadata": {},
   "outputs": [],
   "source": []
  }
 ],
 "metadata": {
  "kernelspec": {
   "display_name": "qmetal",
   "language": "python",
   "name": "qmetal"
  },
  "language_info": {
   "codemirror_mode": {
    "name": "ipython",
    "version": 3
   },
   "file_extension": ".py",
   "mimetype": "text/x-python",
   "name": "python",
   "nbconvert_exporter": "python",
   "pygments_lexer": "ipython3",
   "version": "3.10.8"
  },
  "orig_nbformat": 4
 },
 "nbformat": 4,
 "nbformat_minor": 2
}
