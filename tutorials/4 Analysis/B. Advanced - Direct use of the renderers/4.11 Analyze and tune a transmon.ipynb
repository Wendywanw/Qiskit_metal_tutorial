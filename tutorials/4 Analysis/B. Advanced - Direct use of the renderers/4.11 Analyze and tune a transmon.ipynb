{
 "cells": [
  {
   "cell_type": "markdown",
   "id": "0d4f2301",
   "metadata": {},
   "source": [
    "# Analyzing and tuning a transmon qubit\n",
    "We will showcase two methods (EPR amd LOM) to analyze the same design. Specifically, we will use here the `advanced` methods to run the simulations and analysis, which directly contorl renderers and external packages. Please refer to the tutorial notebooks 4.1 and 4.2 to follow the `suggested` flow to run the analysis."
   ]
  },
  {
   "cell_type": "markdown",
   "id": "452d9633",
   "metadata": {},
   "source": [
    "## Index\n",
    "#### Transmon design\n",
    "1. Prepare the single transmon qubit layout in qiskit-metal. <br>\n",
    "\n",
    "#### Transmon analysis using EPR method\n",
    "1. Set-up and run a finite element simulate to extract the eigenmode. <br>\n",
    "1. Display EM fields to inspect quality of the setup. <br>\n",
    "1. Identify junction parameters for the EPR analysis. <br>\n",
    "1. Run EPR analysis on single eigenmode. <br>\n",
    "1. Get qubit freq and anharmonicity. <br>\n",
    "1. Calculate EPR of substrate.  <br>\n",
    "\n",
    "#### Transmon analysis using LOM method\n",
    "1. Calculate the capacitance matrix. <br>\n",
    "1. Execute analysis on extracted LOM. <br>"
   ]
  },
  {
   "cell_type": "markdown",
   "id": "94e2b570",
   "metadata": {},
   "source": [
    "## Prerequisite\n",
    "You need to have a working local installation of Ansys.<br>\n",
    "Also you will need the following directives and inports."
   ]
  },
  {
   "cell_type": "code",
   "execution_count": 2,
   "id": "3d5a2f13",
   "metadata": {},
   "outputs": [],
   "source": [
    "%reload_ext autoreload\n",
    "%autoreload 2\n",
    "\n",
    "import qiskit_metal as metal\n",
    "from qiskit_metal import designs, draw\n",
    "from qiskit_metal import MetalGUI, Dict, Headings\n",
    "import pyEPR as epr"
   ]
  },
  {
   "cell_type": "markdown",
   "id": "bf35389b",
   "metadata": {},
   "source": [
    "# 1. Create the Qbit design\n",
    "\n",
    "Fix the design dimensions that you intend to reflect in the design rendering. <br>\n",
    "Note that the design size extends from the origin into the first quadrant."
   ]
  },
  {
   "cell_type": "code",
   "execution_count": 3,
   "id": "1827c12b",
   "metadata": {},
   "outputs": [],
   "source": [
    "design = designs.DesignPlanar({}, True)\n",
    "design.chips.main.size['size_x'] = '2mm'\n",
    "design.chips.main.size['size_y'] = '2mm'\n",
    "\n",
    "gui = MetalGUI(design)"
   ]
  },
  {
   "cell_type": "markdown",
   "id": "c35536ef",
   "metadata": {},
   "source": [
    "Create a single transmon in the center of the chip previously defined."
   ]
  },
  {
   "cell_type": "code",
   "execution_count": 4,
   "id": "464923f3",
   "metadata": {},
   "outputs": [
    {
     "name": "stderr",
     "output_type": "stream",
     "text": [
      "WARNING:py.warnings:c:\\_Lib\\envs\\qmetal\\lib\\site-packages\\pandas\\core\\dtypes\\cast.py:127: ShapelyDeprecationWarning: The array interface is deprecated and will no longer work in Shapely 2.0. Convert the '.coords' to a numpy array instead.\n",
      "  arr = construct_1d_object_array_from_listlike(values)\n",
      "\n",
      "WARNING:py.warnings:c:\\_Lib\\envs\\qmetal\\lib\\site-packages\\pandas\\core\\dtypes\\cast.py:127: ShapelyDeprecationWarning: The array interface is deprecated and will no longer work in Shapely 2.0. Convert the '.coords' to a numpy array instead.\n",
      "  arr = construct_1d_object_array_from_listlike(values)\n",
      "\n",
      "WARNING:py.warnings:c:\\_Lib\\envs\\qmetal\\lib\\site-packages\\pandas\\core\\dtypes\\cast.py:127: ShapelyDeprecationWarning: The array interface is deprecated and will no longer work in Shapely 2.0. Convert the '.coords' to a numpy array instead.\n",
      "  arr = construct_1d_object_array_from_listlike(values)\n",
      "\n",
      "WARNING:py.warnings:c:\\_Lib\\envs\\qmetal\\lib\\site-packages\\pandas\\core\\dtypes\\cast.py:127: ShapelyDeprecationWarning: The array interface is deprecated and will no longer work in Shapely 2.0. Convert the '.coords' to a numpy array instead.\n",
      "  arr = construct_1d_object_array_from_listlike(values)\n",
      "\n",
      "WARNING:py.warnings:c:\\_Lib\\envs\\qmetal\\lib\\site-packages\\pandas\\core\\dtypes\\cast.py:127: ShapelyDeprecationWarning: The array interface is deprecated and will no longer work in Shapely 2.0. Convert the '.coords' to a numpy array instead.\n",
      "  arr = construct_1d_object_array_from_listlike(values)\n",
      "\n",
      "WARNING:py.warnings:c:\\_Lib\\envs\\qmetal\\lib\\site-packages\\pandas\\core\\dtypes\\cast.py:127: ShapelyDeprecationWarning: The array interface is deprecated and will no longer work in Shapely 2.0. Convert the '.coords' to a numpy array instead.\n",
      "  arr = construct_1d_object_array_from_listlike(values)\n",
      "\n"
     ]
    }
   ],
   "source": [
    "from qiskit_metal.qlibrary.qubits.transmon_pocket import TransmonPocket\n",
    "\n",
    "design.delete_all_components()\n",
    "\n",
    "q1 = TransmonPocket(design, 'Q1', options = dict(\n",
    "    pad_width = '425 um', \n",
    "    pocket_height = '650um',\n",
    "    connection_pads=dict(\n",
    "        readout = dict(loc_W=+1,loc_H=+1, pad_width='200um')\n",
    "    )))\n",
    "\n",
    "gui.rebuild()\n",
    "gui.autoscale()"
   ]
  },
  {
   "cell_type": "markdown",
   "id": "1eba8747",
   "metadata": {},
   "source": [
    "# 2. Analyze the transmon using the Eigenmode-EPR method\n",
    "\n",
    "In this section we will use a semi-manual (advanced) analysis flow. Please refer to tutorial 4.2 for the `suggested` method. As illustrated, the methods are equivalent, but the advanced method allows you to directly override some renderer-specific settings.\n",
    "\n",
    "### Finite Element Eigenmode Analysis\n",
    "\n",
    "#### Setup\n",
    "\n",
    "Select the analysis you intend to run from the `qiskit_metal.analyses` collection.<br>\n",
    "Select the design to analyze and the tool to use for any external simulation."
   ]
  },
  {
   "cell_type": "code",
   "execution_count": 9,
   "id": "ee980dc5",
   "metadata": {},
   "outputs": [],
   "source": [
    "from qiskit_metal.analyses.quantization import EPRanalysis\n",
    "eig_qb = EPRanalysis(design, \"hfss\")"
   ]
  },
  {
   "cell_type": "markdown",
   "id": "87ed335b",
   "metadata": {},
   "source": [
    "For the Eigenmode simulation portion, you can either:\n",
    "1. Use the `eig_qb` user-friendly methods (see tutorial 4.2)\n",
    "2. Control directly the simulation tool from the tool's GUI (outside metal - see specific vendor instructions)\n",
    "3. Use the renderer methods\n",
    "In this section we show the advanced method (method 3).\n",
    "\n",
    "The renderer can be reached from the analysis class. Let's give it a shorter alias."
   ]
  },
  {
   "cell_type": "code",
   "execution_count": 10,
   "id": "a4b9c989",
   "metadata": {},
   "outputs": [],
   "source": [
    "hfss = eig_qb.sim.renderer"
   ]
  },
  {
   "cell_type": "markdown",
   "id": "322bc1be",
   "metadata": {},
   "source": [
    "Now we connect to the tool using the unified command."
   ]
  },
  {
   "cell_type": "code",
   "execution_count": 11,
   "id": "c76cc8b7",
   "metadata": {},
   "outputs": [
    {
     "name": "stderr",
     "output_type": "stream",
     "text": [
      "INFO 04:54PM [connect_project]: Connecting to Ansys Desktop API...\n",
      "INFO 04:54PM [load_ansys_project]: \tOpened Ansys App\n",
      "INFO 04:54PM [load_ansys_project]: \tOpened Ansys Desktop v2021.1.0\n",
      "INFO 04:54PM [load_ansys_project]: \tOpened Ansys Project\n",
      "\tFolder:    C:/Users/Berkelium/Documents/Ansoft/\n",
      "\tProject:   Project5\n",
      "INFO 04:54PM [connect_design]: No active design found (or error getting active design).\n",
      "INFO 04:54PM [connect]: \t Connected to project \"Project5\". No design detected\n"
     ]
    },
    {
     "data": {
      "text/plain": [
       "True"
      ]
     },
     "execution_count": 11,
     "metadata": {},
     "output_type": "execute_result"
    }
   ],
   "source": [
    "hfss.start()"
   ]
  },
  {
   "cell_type": "markdown",
   "id": "02920204",
   "metadata": {},
   "source": [
    "The previous command is supposed to open ansys (if closed), create a new project and finally connect this notebook to it.\n",
    "\n",
    "If for any reason the previous cell failed, please try the manual path described in the next three cells:\n",
    "1. uncomment and execute only **one** of the lines in the first cell.\n",
    "1. uncomment and execute the second cell.\n",
    "1. uncomment and execute only **one** of the lines in the third cell."
   ]
  },
  {
   "cell_type": "code",
   "execution_count": null,
   "id": "da04fc5c",
   "metadata": {},
   "outputs": [],
   "source": [
    "# hfss.open_ansys()   # this opens Ansys 2021 R2 if present\n",
    "# hfss.open_ansys(path_var='ANSYSEM_ROOT211')\n",
    "# hfss.open_ansys(path='C:\\\\Program Files\\\\AnsysEM\\\\AnsysEM21.1\\\\Win64')\n",
    "# hfss.open_ansys(path='../../../Program Files/AnsysEM/AnsysEM21.1/Win64'"
   ]
  },
  {
   "cell_type": "code",
   "execution_count": null,
   "id": "12bddd4c",
   "metadata": {},
   "outputs": [],
   "source": [
    "# hfss.new_ansys_project()"
   ]
  },
  {
   "cell_type": "code",
   "execution_count": null,
   "id": "75d81c9f",
   "metadata": {},
   "outputs": [],
   "source": [
    "# hfss.connect_ansys()\n",
    "# hfss.connect_ansys('C:\\\\project_path\\\\', 'Project1')  # will open a saved project before linking the Jupyter session"
   ]
  },
  {
   "cell_type": "markdown",
   "id": "513e6968",
   "metadata": {},
   "source": [
    "#### Execute simulation and verify convergence\n",
    "\n",
    "Create and activate an eigenmode design called \"TransmonQubit\"."
   ]
  },
  {
   "cell_type": "code",
   "execution_count": 1,
   "id": "ff649108",
   "metadata": {},
   "outputs": [
    {
     "ename": "NameError",
     "evalue": "name 'hfss' is not defined",
     "output_type": "error",
     "traceback": [
      "\u001b[1;31m---------------------------------------------------------------------------\u001b[0m",
      "\u001b[1;31mNameError\u001b[0m                                 Traceback (most recent call last)",
      "Cell \u001b[1;32mIn [1], line 1\u001b[0m\n\u001b[1;32m----> 1\u001b[0m hfss\u001b[39m.\u001b[39mactivate_ansys_design(\u001b[39m\"\u001b[39m\u001b[39mTransmonQubit\u001b[39m\u001b[39m\"\u001b[39m, \u001b[39m'\u001b[39m\u001b[39meigenmode\u001b[39m\u001b[39m'\u001b[39m)\n",
      "\u001b[1;31mNameError\u001b[0m: name 'hfss' is not defined"
     ]
    }
   ],
   "source": [
    "hfss.activate_ansys_design(\"TransmonQubit\", 'eigenmode')  # use new_ansys_design() to force creation of a blank design"
   ]
  },
  {
   "cell_type": "markdown",
   "id": "93878a11",
   "metadata": {},
   "source": [
    "Render the single qubit in Metal, called Q1, to \"TransmonQubit\" design in Ansys."
   ]
  },
  {
   "cell_type": "code",
   "execution_count": null,
   "id": "a8fab4c7",
   "metadata": {},
   "outputs": [],
   "source": [
    "hfss.render_design(['Q1'], [])\n",
    "hfss.save_screenshot()"
   ]
  },
  {
   "cell_type": "markdown",
   "id": "f430010e",
   "metadata": {},
   "source": [
    "Set the convergence parameters and junction properties in the Ansys design. <br>\n",
    "Then run the analysis and plot the convergence."
   ]
  },
  {
   "cell_type": "code",
   "execution_count": null,
   "id": "343ceb8b",
   "metadata": {},
   "outputs": [],
   "source": [
    "# Analysis properties\n",
    "setup = hfss.pinfo.setup\n",
    "setup.passes = 10\n",
    "print(f\"\"\"\n",
    "Number of eigenmodes to find             = {setup.n_modes}\n",
    "Number of simulation passes              = {setup.passes}\n",
    "Convergence freq max delta percent diff  = {setup.delta_f}\n",
    "\"\"\")\n",
    "\n",
    "pinfo = hfss.pinfo\n",
    "pinfo.design.set_variable('Lj', '10 nH')\n",
    "pinfo.design.set_variable('Cj', '0 fF')\n",
    "\n",
    "setup.analyze()"
   ]
  },
  {
   "cell_type": "markdown",
   "id": "fd15c25b",
   "metadata": {},
   "source": [
    "To plot the results you can use the `plot_convergences()` method from the `eig_qb.sim` object. The method will read the data from the variables local to the `eig_qb.sim` object, so we first need to assign the simulation results to these two variables. let's do both (assignment and plotting) in the next cell."
   ]
  },
  {
   "cell_type": "code",
   "execution_count": null,
   "id": "b6bafdf4",
   "metadata": {},
   "outputs": [],
   "source": [
    "eig_qb.sim.convergence_t, eig_qb.sim.convergence_f, _ = hfss.get_convergences()\n",
    "eig_qb.sim.plot_convergences()"
   ]
  },
  {
   "cell_type": "markdown",
   "id": "b93a7ed3",
   "metadata": {},
   "source": [
    "#### Plot the EM field for inspection\n",
    "Display the Ansys modeler window and plot the E-field on the chip's surface."
   ]
  },
  {
   "cell_type": "code",
   "execution_count": null,
   "id": "e2199ade",
   "metadata": {},
   "outputs": [],
   "source": [
    "hfss.modeler._modeler.ShowWindow()\n",
    "hfss.plot_fields('main')\n",
    "hfss.save_screenshot()"
   ]
  },
  {
   "cell_type": "markdown",
   "id": "0d946b27",
   "metadata": {},
   "source": [
    "Delete the newly created E-field plot to prepare for the next phase."
   ]
  },
  {
   "cell_type": "code",
   "execution_count": null,
   "id": "5afdb093",
   "metadata": {},
   "outputs": [],
   "source": [
    "hfss.plot_ansys_delete(['Mag_E1'])"
   ]
  },
  {
   "cell_type": "markdown",
   "id": "11e0c0f4",
   "metadata": {},
   "source": [
    "### EPR Analysis\n",
    "In the `suggested` (tutorial 4.2) flow, we would now prepare the setup using `eig_qb.setup` and run the analysis with `eig_qb.run_epr()`. Notice that this method requires previous set of the `eig_qb` variables `convergence_t` and `convergence_f` like we did a thee cells earlier.\n",
    "\n",
    "However we here exemplify the advanced approach, which is Ansys-specific since it uses the pyEPR module methods directly.\n",
    "#### Setup\n",
    "Identify the non-linear (Josephson) junctions in the model. You will need to list the junctions in the epr setup.\n",
    "\n",
    "In this case there's only one junction, namely 'jj'. Let's see what we need to change in the default setup."
   ]
  },
  {
   "cell_type": "code",
   "execution_count": null,
   "id": "660c16e0",
   "metadata": {},
   "outputs": [],
   "source": [
    "pinfo = hfss.pinfo\n",
    "pinfo.junctions['jj'] = {'Lj_variable': 'Lj', 'rect': 'JJ_rect_Lj_Q1_rect_jj', \n",
    "                             'line': 'JJ_Lj_Q1_rect_jj_',  'Cj_variable': 'Cj'}\n",
    "pinfo.validate_junction_info() # Check that valid names of variables and objects have been supplied\n",
    "pinfo.dissipative['dielectrics_bulk'] = ['main'] # Dissipative elements: specify"
   ]
  },
  {
   "cell_type": "markdown",
   "id": "233504ca",
   "metadata": {},
   "source": [
    "#### Execute the energy distribution analysis\n",
    "\n",
    "Execute microwave analysis on eigenmode solutions."
   ]
  },
  {
   "cell_type": "code",
   "execution_count": null,
   "id": "d109932e",
   "metadata": {},
   "outputs": [],
   "source": [
    "eprd = epr.DistributedAnalysis(pinfo)"
   ]
  },
  {
   "cell_type": "markdown",
   "id": "56833ce1",
   "metadata": {},
   "source": [
    "Find the electric and magnetic energy stored in the substrate and the system as a whole."
   ]
  },
  {
   "cell_type": "code",
   "execution_count": null,
   "id": "657f70bf",
   "metadata": {},
   "outputs": [],
   "source": [
    "ℰ_elec = eprd.calc_energy_electric()\n",
    "ℰ_elec_substrate = eprd.calc_energy_electric(None, 'main')\n",
    "ℰ_mag = eprd.calc_energy_magnetic()\n",
    "\n",
    "print(f\"\"\"\n",
    "ℰ_elec_all       = {ℰ_elec}\n",
    "ℰ_elec_substrate = {ℰ_elec_substrate}\n",
    "EPR of substrate = {ℰ_elec_substrate / ℰ_elec * 100 :.1f}%\n",
    "\n",
    "ℰ_mag    = {ℰ_mag}\n",
    "\"\"\")"
   ]
  },
  {
   "cell_type": "markdown",
   "id": "8ee2ae4f",
   "metadata": {},
   "source": [
    "#### Run the EPR analysis\n",
    "\n",
    "Perform EPR analysis for all modes and variations."
   ]
  },
  {
   "cell_type": "code",
   "execution_count": null,
   "id": "7482c82e",
   "metadata": {},
   "outputs": [],
   "source": [
    "eprd.do_EPR_analysis()\n",
    "\n",
    "# 4a. Perform Hamiltonian spectrum post-analysis, building on mw solutions using EPR\n",
    "epra = epr.QuantumAnalysis(eprd.data_filename)\n",
    "epra.analyze_all_variations(cos_trunc = 8, fock_trunc = 7)\n",
    "\n",
    "# 4b. Report solved results\n",
    "swp_variable = 'Lj' # suppose we swept an optimetric analysis vs. inductance Lj_alice\n",
    "epra.plot_hamiltonian_results(swp_variable=swp_variable)\n",
    "epra.report_results(swp_variable=swp_variable, numeric=True)"
   ]
  },
  {
   "cell_type": "markdown",
   "id": "e6bd1d0d",
   "metadata": {},
   "source": [
    "Release Ansys session"
   ]
  },
  {
   "cell_type": "code",
   "execution_count": null,
   "id": "c5e6df56",
   "metadata": {},
   "outputs": [],
   "source": [
    "eig_qb.sim.close()"
   ]
  },
  {
   "cell_type": "markdown",
   "id": "68f0d467",
   "metadata": {},
   "source": [
    "# 3. Analyze the transmon using the LOM method\n",
    "\n",
    "In this section we will use a semi-manual (advanced) analysis flow. Please refer to tutorial 4.1 for the `suggested` method. As illustrated, the methods are equivalent, but the advanced method allows you to directly override some renderer-specific settings.\n",
    "\n",
    "### Capacitance matrix extraction\n",
    "#### Setup\n",
    "Select the analysis you intend to run from the `qiskit_metal.analyses` collection.<br>\n",
    "Select the design to analyze and the tool to use for any external simulation."
   ]
  },
  {
   "cell_type": "code",
   "execution_count": 9,
   "id": "b30b24c5",
   "metadata": {},
   "outputs": [],
   "source": [
    "from qiskit_metal.analyses.quantization import LOManalysis\n",
    "c1 = LOManalysis(design, \"q3d\")"
   ]
  },
  {
   "cell_type": "markdown",
   "id": "393f14f0",
   "metadata": {},
   "source": [
    "For the capacitive simulation portion, you can either:\n",
    "1. Use the `c1` user-friendly methods (see tutorial 4.1)\n",
    "2. Control directly the simulation tool from the tool's GUI (outside metal - see specific vendor instructions)\n",
    "3. Use the renderer methods\n",
    "In this section we show the advanced method (method 3).\n",
    "\n",
    "The renderer can be reached from the analysis class. Let's give it a shorter alias."
   ]
  },
  {
   "cell_type": "code",
   "execution_count": 10,
   "id": "bd731f57",
   "metadata": {},
   "outputs": [],
   "source": [
    "q3d = c1.sim.renderer"
   ]
  },
  {
   "cell_type": "markdown",
   "id": "6181b41e",
   "metadata": {},
   "source": [
    "Now we connect to the simulation tool, similarly to what we have done for the eigenmode analysis."
   ]
  },
  {
   "cell_type": "code",
   "execution_count": 11,
   "id": "79516cc0",
   "metadata": {},
   "outputs": [
    {
     "name": "stderr",
     "output_type": "stream",
     "text": [
      "INFO 04:57PM [connect_project]: Connecting to Ansys Desktop API...\n",
      "INFO 04:57PM [load_ansys_project]: \tOpened Ansys App\n",
      "INFO 04:57PM [load_ansys_project]: \tOpened Ansys Desktop v2021.1.0\n",
      "INFO 04:57PM [load_ansys_project]: \tOpened Ansys Project\n",
      "\tFolder:    C:/Users/Berkelium/Documents/Ansoft/\n",
      "\tProject:   Project6\n",
      "INFO 04:57PM [connect_design]: No active design found (or error getting active design).\n",
      "INFO 04:57PM [connect]: \t Connected to project \"Project6\". No design detected\n"
     ]
    },
    {
     "data": {
      "text/plain": [
       "True"
      ]
     },
     "execution_count": 11,
     "metadata": {},
     "output_type": "execute_result"
    }
   ],
   "source": [
    "q3d.start()"
   ]
  },
  {
   "cell_type": "markdown",
   "id": "d34ef779",
   "metadata": {},
   "source": [
    "If the simulator is already open, the line above will simply connect to the open session, project and design.\n",
    "\n",
    "#### Execute simulation and verify convergence\n",
    "\n",
    "Create and activate a q3d design called \"TransmonQubit_q3d\"."
   ]
  },
  {
   "cell_type": "code",
   "execution_count": 12,
   "id": "05a91bd4",
   "metadata": {},
   "outputs": [
    {
     "name": "stderr",
     "output_type": "stream",
     "text": [
      "04:57PM 43s WARNING [activate_ansys_design]: The design_name=TransmonQubit_q3d was not in active project.  Designs in active project are: \n",
      "[].  A new design will be added to the project.  \n",
      "INFO 04:57PM [connect_design]: \tOpened active design\n",
      "\tDesign:    TransmonQubit_q3d [Solution type: Q3D]\n",
      "WARNING 04:57PM [connect_setup]: \tNo design setup detected.\n",
      "WARNING 04:57PM [connect_setup]: \tCreating Q3D default setup.\n",
      "INFO 04:57PM [get_setup]: \tOpened setup `Setup`  (<class 'pyEPR.ansys.AnsysQ3DSetup'>)\n"
     ]
    }
   ],
   "source": [
    "q3d.activate_ansys_design(\"TransmonQubit_q3d\", 'capacitive')  # use new_ansys_design() to force creation of a blank design"
   ]
  },
  {
   "cell_type": "markdown",
   "id": "d92dad53",
   "metadata": {},
   "source": [
    "Next, we render the qubit to Ansys Q3D for analysis. We set the readout pin of the qubit in the 'open' termination list of the render so its capacitance is properly simulated."
   ]
  },
  {
   "cell_type": "code",
   "execution_count": 13,
   "id": "dd53d528",
   "metadata": {},
   "outputs": [],
   "source": [
    "q3d.render_design(['Q1'], [('Q1','readout')])"
   ]
  },
  {
   "cell_type": "markdown",
   "id": "288a0eb4",
   "metadata": {},
   "source": [
    "Execute the capacitance extraction and verify converengence. This cell analyzes the default setup."
   ]
  },
  {
   "cell_type": "code",
   "execution_count": 15,
   "id": "8f10cdcc",
   "metadata": {},
   "outputs": [
    {
     "name": "stderr",
     "output_type": "stream",
     "text": [
      "INFO 04:58PM [get_setup]: \tOpened setup `Setup`  (<class 'pyEPR.ansys.AnsysQ3DSetup'>)\n",
      "INFO 04:58PM [analyze]: Analyzing setup Setup\n"
     ]
    }
   ],
   "source": [
    "q3d.analyze_setup(\"Setup\")"
   ]
  },
  {
   "cell_type": "markdown",
   "id": "381d7118",
   "metadata": {},
   "source": [
    "This simulation had 4 nets, the two charge islands of the floating transmon, the readout coupler, and the ground, resulting in a 4x4 capacitance matrix. Output is of type DataFrame."
   ]
  },
  {
   "cell_type": "code",
   "execution_count": 16,
   "id": "71554ccd",
   "metadata": {},
   "outputs": [
    {
     "name": "stderr",
     "output_type": "stream",
     "text": [
      "INFO 04:58PM [get_matrix]: Exporting matrix data to (C:\\Users\\BERKEL~1\\AppData\\Local\\Temp\\tmp0rtylz47.txt, C, , Setup:LastAdaptive, \"Original\", \"ohm\", \"nH\", \"fF\", \"mSie\", 5000000000, Maxwell, 1, False\n",
      "INFO 04:58PM [get_matrix]: Exporting matrix data to (C:\\Users\\BERKEL~1\\AppData\\Local\\Temp\\tmpjw_btd3i.txt, C, , Setup:AdaptivePass, \"Original\", \"ohm\", \"nH\", \"fF\", \"mSie\", 5000000000, Maxwell, 1, False\n",
      "INFO 04:58PM [get_matrix]: Exporting matrix data to (C:\\Users\\BERKEL~1\\AppData\\Local\\Temp\\tmppfgne2qo.txt, C, , Setup:AdaptivePass, \"Original\", \"ohm\", \"nH\", \"fF\", \"mSie\", 5000000000, Maxwell, 2, False\n",
      "INFO 04:58PM [get_matrix]: Exporting matrix data to (C:\\Users\\BERKEL~1\\AppData\\Local\\Temp\\tmp75neuf8v.txt, C, , Setup:AdaptivePass, \"Original\", \"ohm\", \"nH\", \"fF\", \"mSie\", 5000000000, Maxwell, 3, False\n",
      "INFO 04:58PM [get_matrix]: Exporting matrix data to (C:\\Users\\BERKEL~1\\AppData\\Local\\Temp\\tmp9zw4avyg.txt, C, , Setup:AdaptivePass, \"Original\", \"ohm\", \"nH\", \"fF\", \"mSie\", 5000000000, Maxwell, 4, False\n",
      "INFO 04:58PM [get_matrix]: Exporting matrix data to (C:\\Users\\BERKEL~1\\AppData\\Local\\Temp\\tmp__wvkuqo.txt, C, , Setup:AdaptivePass, \"Original\", \"ohm\", \"nH\", \"fF\", \"mSie\", 5000000000, Maxwell, 5, False\n",
      "INFO 04:58PM [get_matrix]: Exporting matrix data to (C:\\Users\\BERKEL~1\\AppData\\Local\\Temp\\tmp6onwltgk.txt, C, , Setup:AdaptivePass, \"Original\", \"ohm\", \"nH\", \"fF\", \"mSie\", 5000000000, Maxwell, 6, False\n",
      "INFO 04:58PM [get_matrix]: Exporting matrix data to (C:\\Users\\BERKEL~1\\AppData\\Local\\Temp\\tmpda23q24a.txt, C, , Setup:AdaptivePass, \"Original\", \"ohm\", \"nH\", \"fF\", \"mSie\", 5000000000, Maxwell, 7, False\n",
      "INFO 04:58PM [get_matrix]: Exporting matrix data to (C:\\Users\\BERKEL~1\\AppData\\Local\\Temp\\tmplfqwx9mr.txt, C, , Setup:AdaptivePass, \"Original\", \"ohm\", \"nH\", \"fF\", \"mSie\", 5000000000, Maxwell, 8, False\n",
      "INFO 04:58PM [get_matrix]: Exporting matrix data to (C:\\Users\\BERKEL~1\\AppData\\Local\\Temp\\tmphs265rpx.txt, C, , Setup:AdaptivePass, \"Original\", \"ohm\", \"nH\", \"fF\", \"mSie\", 5000000000, Maxwell, 9, False\n",
      "INFO 04:58PM [get_matrix]: Exporting matrix data to (C:\\Users\\BERKEL~1\\AppData\\Local\\Temp\\tmp8qk43z2r.txt, C, , Setup:AdaptivePass, \"Original\", \"ohm\", \"nH\", \"fF\", \"mSie\", 5000000000, Maxwell, 10, False\n"
     ]
    },
    {
     "data": {
      "text/html": [
       "<div>\n",
       "<style scoped>\n",
       "    .dataframe tbody tr th:only-of-type {\n",
       "        vertical-align: middle;\n",
       "    }\n",
       "\n",
       "    .dataframe tbody tr th {\n",
       "        vertical-align: top;\n",
       "    }\n",
       "\n",
       "    .dataframe thead th {\n",
       "        text-align: right;\n",
       "    }\n",
       "</style>\n",
       "<table border=\"1\" class=\"dataframe\">\n",
       "  <thead>\n",
       "    <tr style=\"text-align: right;\">\n",
       "      <th></th>\n",
       "      <th>ground_main_plane</th>\n",
       "      <th>pad_bot_Q1</th>\n",
       "      <th>pad_top_Q1</th>\n",
       "      <th>readout_connector_pad_Q1</th>\n",
       "    </tr>\n",
       "  </thead>\n",
       "  <tbody>\n",
       "    <tr>\n",
       "      <th>ground_main_plane</th>\n",
       "      <td>177.78538</td>\n",
       "      <td>-44.74611</td>\n",
       "      <td>-38.34722</td>\n",
       "      <td>-37.03041</td>\n",
       "    </tr>\n",
       "    <tr>\n",
       "      <th>pad_bot_Q1</th>\n",
       "      <td>-44.74611</td>\n",
       "      <td>82.84141</td>\n",
       "      <td>-32.48515</td>\n",
       "      <td>-2.30760</td>\n",
       "    </tr>\n",
       "    <tr>\n",
       "      <th>pad_top_Q1</th>\n",
       "      <td>-38.34722</td>\n",
       "      <td>-32.48515</td>\n",
       "      <td>93.38943</td>\n",
       "      <td>-19.67329</td>\n",
       "    </tr>\n",
       "    <tr>\n",
       "      <th>readout_connector_pad_Q1</th>\n",
       "      <td>-37.03041</td>\n",
       "      <td>-2.30760</td>\n",
       "      <td>-19.67329</td>\n",
       "      <td>60.14998</td>\n",
       "    </tr>\n",
       "  </tbody>\n",
       "</table>\n",
       "</div>"
      ],
      "text/plain": [
       "                          ground_main_plane  pad_bot_Q1  pad_top_Q1  \\\n",
       "ground_main_plane                 177.78538   -44.74611   -38.34722   \n",
       "pad_bot_Q1                        -44.74611    82.84141   -32.48515   \n",
       "pad_top_Q1                        -38.34722   -32.48515    93.38943   \n",
       "readout_connector_pad_Q1          -37.03041    -2.30760   -19.67329   \n",
       "\n",
       "                          readout_connector_pad_Q1  \n",
       "ground_main_plane                        -37.03041  \n",
       "pad_bot_Q1                                -2.30760  \n",
       "pad_top_Q1                               -19.67329  \n",
       "readout_connector_pad_Q1                  60.14998  "
      ]
     },
     "execution_count": 16,
     "metadata": {},
     "output_type": "execute_result"
    }
   ],
   "source": [
    "c1.sim.capacitance_matrix, c1.sim.units = q3d.get_capacitance_matrix()\n",
    "c1.sim.capacitance_all_passes, _ = q3d.get_capacitance_all_passes()\n",
    "c1.sim.capacitance_matrix"
   ]
  },
  {
   "cell_type": "markdown",
   "id": "a30bf5ed",
   "metadata": {},
   "source": [
    "### LOM Analysis\n",
    "Now we provide the junction lumped element values, and complete the analysis by plotting the convergence. This is the same steps used in the `suggested` flow from tutorial 4.1."
   ]
  },
  {
   "cell_type": "code",
   "execution_count": 17,
   "id": "a6b31e47",
   "metadata": {},
   "outputs": [
    {
     "name": "stdout",
     "output_type": "stream",
     "text": [
      "[1, 2] [3]\n",
      "Predicted Values\n",
      "\n",
      "Transmon Properties\n",
      "f_Q 5.492369 [GHz]\n",
      "EC 320.340887 [MHz]\n",
      "EJ 13.273404 [GHz]\n",
      "alpha -374.552102 [MHz]\n",
      "dispersion 58.767574 [KHz]\n",
      "Lq 12.305036 [nH]\n",
      "Cq 60.467548 [fF]\n",
      "T1 47.110126 [us]\n",
      "\n",
      "**Coupling Properties**\n",
      "\n",
      "tCqbus1 -7.535751 [fF]\n",
      "gbus1_in_MHz -119.111599 [MHz]\n",
      "χ_bus1 -3.815566 [MHz]\n",
      "1/T1bus1 3378.359561 [Hz]\n",
      "T1bus1 47.110126 [us]\n",
      "Bus-Bus Couplings\n"
     ]
    },
    {
     "data": {
      "text/html": [
       "<div>\n",
       "<style scoped>\n",
       "    .dataframe tbody tr th:only-of-type {\n",
       "        vertical-align: middle;\n",
       "    }\n",
       "\n",
       "    .dataframe tbody tr th {\n",
       "        vertical-align: top;\n",
       "    }\n",
       "\n",
       "    .dataframe thead th {\n",
       "        text-align: right;\n",
       "    }\n",
       "</style>\n",
       "<table border=\"1\" class=\"dataframe\">\n",
       "  <thead>\n",
       "    <tr style=\"text-align: right;\">\n",
       "      <th></th>\n",
       "      <th>fQ</th>\n",
       "      <th>EC</th>\n",
       "      <th>EJ</th>\n",
       "      <th>alpha</th>\n",
       "      <th>dispersion</th>\n",
       "      <th>gbus</th>\n",
       "      <th>chi_in_MHz</th>\n",
       "      <th>χr MHz</th>\n",
       "      <th>gr MHz</th>\n",
       "    </tr>\n",
       "  </thead>\n",
       "  <tbody>\n",
       "    <tr>\n",
       "      <th>1</th>\n",
       "      <td>5.848645</td>\n",
       "      <td>366.675723</td>\n",
       "      <td>13.273404</td>\n",
       "      <td>-435.120535</td>\n",
       "      <td>183.838223</td>\n",
       "      <td>[-120.91915969031888]</td>\n",
       "      <td>[-7.045838787793927]</td>\n",
       "      <td>7.045839</td>\n",
       "      <td>120.919160</td>\n",
       "    </tr>\n",
       "    <tr>\n",
       "      <th>2</th>\n",
       "      <td>5.800484</td>\n",
       "      <td>360.198673</td>\n",
       "      <td>13.273404</td>\n",
       "      <td>-426.554207</td>\n",
       "      <td>158.894188</td>\n",
       "      <td>[-112.57027192270645]</td>\n",
       "      <td>[-5.610759520303457]</td>\n",
       "      <td>5.610760</td>\n",
       "      <td>112.570272</td>\n",
       "    </tr>\n",
       "    <tr>\n",
       "      <th>3</th>\n",
       "      <td>5.728978</td>\n",
       "      <td>350.706154</td>\n",
       "      <td>13.273404</td>\n",
       "      <td>-414.05886</td>\n",
       "      <td>127.373567</td>\n",
       "      <td>[-114.4721344200509]</td>\n",
       "      <td>[-5.13583772345763]</td>\n",
       "      <td>5.135838</td>\n",
       "      <td>114.472134</td>\n",
       "    </tr>\n",
       "    <tr>\n",
       "      <th>4</th>\n",
       "      <td>5.645726</td>\n",
       "      <td>339.839946</td>\n",
       "      <td>13.273404</td>\n",
       "      <td>-399.840701</td>\n",
       "      <td>97.757395</td>\n",
       "      <td>[-113.75236108111946]</td>\n",
       "      <td>[-4.422671613573631]</td>\n",
       "      <td>4.422672</td>\n",
       "      <td>113.752361</td>\n",
       "    </tr>\n",
       "    <tr>\n",
       "      <th>5</th>\n",
       "      <td>5.574615</td>\n",
       "      <td>330.715418</td>\n",
       "      <td>13.273404</td>\n",
       "      <td>-387.971176</td>\n",
       "      <td>77.483483</td>\n",
       "      <td>[-115.42485160814473]</td>\n",
       "      <td>[-4.067027529551065]</td>\n",
       "      <td>4.067028</td>\n",
       "      <td>115.424852</td>\n",
       "    </tr>\n",
       "    <tr>\n",
       "      <th>6</th>\n",
       "      <td>5.552051</td>\n",
       "      <td>327.850119</td>\n",
       "      <td>13.273404</td>\n",
       "      <td>-384.256913</td>\n",
       "      <td>71.883362</td>\n",
       "      <td>[-116.90656488361248]</td>\n",
       "      <td>[-4.027920633489713]</td>\n",
       "      <td>4.027921</td>\n",
       "      <td>116.906565</td>\n",
       "    </tr>\n",
       "    <tr>\n",
       "      <th>7</th>\n",
       "      <td>5.522295</td>\n",
       "      <td>324.093652</td>\n",
       "      <td>13.273404</td>\n",
       "      <td>-379.396816</td>\n",
       "      <td>65.050231</td>\n",
       "      <td>[-118.53068129631139]</td>\n",
       "      <td>[-3.9548493935624265]</td>\n",
       "      <td>3.954849</td>\n",
       "      <td>118.530681</td>\n",
       "    </tr>\n",
       "    <tr>\n",
       "      <th>8</th>\n",
       "      <td>5.508895</td>\n",
       "      <td>322.410099</td>\n",
       "      <td>13.273404</td>\n",
       "      <td>-377.222089</td>\n",
       "      <td>62.166575</td>\n",
       "      <td>[-118.93049750280109]</td>\n",
       "      <td>[-3.9007913880709433]</td>\n",
       "      <td>3.900791</td>\n",
       "      <td>118.930498</td>\n",
       "    </tr>\n",
       "    <tr>\n",
       "      <th>9</th>\n",
       "      <td>5.492369</td>\n",
       "      <td>320.340887</td>\n",
       "      <td>13.273404</td>\n",
       "      <td>-374.552102</td>\n",
       "      <td>58.767574</td>\n",
       "      <td>[-119.11159900747404]</td>\n",
       "      <td>[-3.8155660691693987]</td>\n",
       "      <td>3.815566</td>\n",
       "      <td>119.111599</td>\n",
       "    </tr>\n",
       "  </tbody>\n",
       "</table>\n",
       "</div>"
      ],
      "text/plain": [
       "         fQ          EC         EJ       alpha  dispersion  \\\n",
       "1  5.848645  366.675723  13.273404 -435.120535  183.838223   \n",
       "2  5.800484  360.198673  13.273404 -426.554207  158.894188   \n",
       "3  5.728978  350.706154  13.273404  -414.05886  127.373567   \n",
       "4  5.645726  339.839946  13.273404 -399.840701   97.757395   \n",
       "5  5.574615  330.715418  13.273404 -387.971176   77.483483   \n",
       "6  5.552051  327.850119  13.273404 -384.256913   71.883362   \n",
       "7  5.522295  324.093652  13.273404 -379.396816   65.050231   \n",
       "8  5.508895  322.410099  13.273404 -377.222089   62.166575   \n",
       "9  5.492369  320.340887  13.273404 -374.552102   58.767574   \n",
       "\n",
       "                    gbus             chi_in_MHz    χr MHz      gr MHz  \n",
       "1  [-120.91915969031888]   [-7.045838787793927]  7.045839  120.919160  \n",
       "2  [-112.57027192270645]   [-5.610759520303457]  5.610760  112.570272  \n",
       "3   [-114.4721344200509]    [-5.13583772345763]  5.135838  114.472134  \n",
       "4  [-113.75236108111946]   [-4.422671613573631]  4.422672  113.752361  \n",
       "5  [-115.42485160814473]   [-4.067027529551065]  4.067028  115.424852  \n",
       "6  [-116.90656488361248]   [-4.027920633489713]  4.027921  116.906565  \n",
       "7  [-118.53068129631139]  [-3.9548493935624265]  3.954849  118.530681  \n",
       "8  [-118.93049750280109]  [-3.9007913880709433]  3.900791  118.930498  \n",
       "9  [-119.11159900747404]  [-3.8155660691693987]  3.815566  119.111599  "
      ]
     },
     "execution_count": 17,
     "metadata": {},
     "output_type": "execute_result"
    }
   ],
   "source": [
    "c1.setup.junctions=Dict(Lj=12.31, Cj=2)\n",
    "c1.setup.freq_readout = 7.0\n",
    "c1.setup.freq_bus = []\n",
    "\n",
    "c1.run_lom()\n",
    "c1.lumped_oscillator_all"
   ]
  },
  {
   "cell_type": "markdown",
   "id": "1b04aa9b",
   "metadata": {},
   "source": [
    "And plot the convergence."
   ]
  },
  {
   "cell_type": "code",
   "execution_count": 18,
   "id": "b2b43a26",
   "metadata": {},
   "outputs": [
    {
     "name": "stderr",
     "output_type": "stream",
     "text": [
      "WARNING:py.warnings:c:\\_Lib\\envs\\qmetal\\lib\\site-packages\\pyEPR\\core_distributed_analysis.py:504: FutureWarning: The default dtype for empty Series will be 'object' instead of 'float64' in a future version. Specify a dtype explicitly to silence this warning.\n",
      "  self._hfss_variables[variation] = pd.Series(\n",
      "\n",
      "INFO 04:59PM [hfss_report_full_convergence]: Creating report for variation 0\n"
     ]
    },
    {
     "name": "stdout",
     "output_type": "stream",
     "text": [
      "Design \"TransmonQubit_q3d\" info:\n",
      "\t# eigenmodes    0\n",
      "\t# variations    1\n"
     ]
    }
   ],
   "source": [
    "c1.plot_convergence();\n",
    "c1.plot_convergence_chi()"
   ]
  },
  {
   "cell_type": "markdown",
   "id": "0e537424",
   "metadata": {},
   "source": [
    "Release the simulator and close the analysis."
   ]
  },
  {
   "cell_type": "code",
   "execution_count": null,
   "id": "032a0681",
   "metadata": {},
   "outputs": [],
   "source": [
    "c1.sim.close()"
   ]
  },
  {
   "cell_type": "markdown",
   "id": "66a5b26c",
   "metadata": {},
   "source": [
    "(optional) close the GUI."
   ]
  },
  {
   "cell_type": "code",
   "execution_count": null,
   "id": "353b5d9f",
   "metadata": {},
   "outputs": [],
   "source": [
    "# gui.main_window.close()"
   ]
  }
 ],
 "metadata": {
  "kernelspec": {
   "display_name": "Python 3.10.6 ('qmetal')",
   "language": "python",
   "name": "python3"
  },
  "language_info": {
   "codemirror_mode": {
    "name": "ipython",
    "version": 3
   },
   "file_extension": ".py",
   "mimetype": "text/x-python",
   "name": "python",
   "nbconvert_exporter": "python",
   "pygments_lexer": "ipython3",
   "version": "3.10.6"
  },
  "vscode": {
   "interpreter": {
    "hash": "1916451f7c1187ff7271dfeaf346b65172e65eace79f637eb86c6aea80f7f1a4"
   }
  }
 },
 "nbformat": 4,
 "nbformat_minor": 5
}
