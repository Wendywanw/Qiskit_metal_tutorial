{
 "cells": [
  {
   "cell_type": "markdown",
   "metadata": {},
   "source": [
    "# Capacitance matrix and LOM analysis\n",
    "### Prerequisite\n",
    "You need to have a working local installation of Ansys."
   ]
  },
  {
   "cell_type": "markdown",
   "metadata": {},
   "source": [
    "## 1. Create the design in Metal"
   ]
  },
  {
   "cell_type": "code",
   "execution_count": 1,
   "metadata": {},
   "outputs": [],
   "source": [
    "%reload_ext autoreload\n",
    "%autoreload 2"
   ]
  },
  {
   "cell_type": "code",
   "execution_count": 2,
   "metadata": {},
   "outputs": [],
   "source": [
    "import qiskit_metal as metal\n",
    "from qiskit_metal import designs, draw\n",
    "from qiskit_metal import MetalGUI, Dict, Headings"
   ]
  },
  {
   "cell_type": "code",
   "execution_count": 3,
   "metadata": {},
   "outputs": [],
   "source": [
    "design = designs.DesignPlanar()\n",
    "gui = MetalGUI(design)\n",
    "\n",
    "from qiskit_metal.qlibrary.qubits.transmon_pocket import TransmonPocket\n",
    "from qiskit_metal.qlibrary.tlines.meandered import RouteMeander"
   ]
  },
  {
   "cell_type": "code",
   "execution_count": 4,
   "metadata": {},
   "outputs": [],
   "source": [
    "design.variables['cpw_width'] = '15 um'\n",
    "design.variables['cpw_gap'] = '9 um'"
   ]
  },
  {
   "cell_type": "markdown",
   "metadata": {},
   "source": [
    "### In this example, the design consists of 4 qubits and 4 CPWs"
   ]
  },
  {
   "cell_type": "code",
   "execution_count": 5,
   "metadata": {},
   "outputs": [
    {
     "name": "stderr",
     "output_type": "stream",
     "text": [
      "WARNING:py.warnings:c:\\_Lib\\envs\\qmetal\\lib\\site-packages\\pandas\\core\\dtypes\\cast.py:127: ShapelyDeprecationWarning: The array interface is deprecated and will no longer work in Shapely 2.0. Convert the '.coords' to a numpy array instead.\n",
      "  arr = construct_1d_object_array_from_listlike(values)\n",
      "\n",
      "WARNING:py.warnings:c:\\_Lib\\envs\\qmetal\\lib\\site-packages\\pandas\\core\\dtypes\\cast.py:127: ShapelyDeprecationWarning: The array interface is deprecated and will no longer work in Shapely 2.0. Convert the '.coords' to a numpy array instead.\n",
      "  arr = construct_1d_object_array_from_listlike(values)\n",
      "\n",
      "WARNING:py.warnings:c:\\_Lib\\envs\\qmetal\\lib\\site-packages\\pandas\\core\\dtypes\\cast.py:127: ShapelyDeprecationWarning: The array interface is deprecated and will no longer work in Shapely 2.0. Convert the '.coords' to a numpy array instead.\n",
      "  arr = construct_1d_object_array_from_listlike(values)\n",
      "\n",
      "WARNING:py.warnings:c:\\_Lib\\envs\\qmetal\\lib\\site-packages\\pandas\\core\\dtypes\\cast.py:127: ShapelyDeprecationWarning: The array interface is deprecated and will no longer work in Shapely 2.0. Convert the '.coords' to a numpy array instead.\n",
      "  arr = construct_1d_object_array_from_listlike(values)\n",
      "\n",
      "WARNING:py.warnings:c:\\_Lib\\envs\\qmetal\\lib\\site-packages\\pandas\\core\\dtypes\\cast.py:127: ShapelyDeprecationWarning: The array interface is deprecated and will no longer work in Shapely 2.0. Convert the '.coords' to a numpy array instead.\n",
      "  arr = construct_1d_object_array_from_listlike(values)\n",
      "\n",
      "WARNING:py.warnings:c:\\_Lib\\envs\\qmetal\\lib\\site-packages\\pandas\\core\\dtypes\\cast.py:127: ShapelyDeprecationWarning: The array interface is deprecated and will no longer work in Shapely 2.0. Convert the '.coords' to a numpy array instead.\n",
      "  arr = construct_1d_object_array_from_listlike(values)\n",
      "\n",
      "WARNING:py.warnings:c:\\_Lib\\envs\\qmetal\\lib\\site-packages\\pandas\\core\\dtypes\\cast.py:127: ShapelyDeprecationWarning: The array interface is deprecated and will no longer work in Shapely 2.0. Convert the '.coords' to a numpy array instead.\n",
      "  arr = construct_1d_object_array_from_listlike(values)\n",
      "\n",
      "WARNING:py.warnings:c:\\_Lib\\envs\\qmetal\\lib\\site-packages\\pandas\\core\\dtypes\\cast.py:127: ShapelyDeprecationWarning: The array interface is deprecated and will no longer work in Shapely 2.0. Convert the '.coords' to a numpy array instead.\n",
      "  arr = construct_1d_object_array_from_listlike(values)\n",
      "\n",
      "WARNING:py.warnings:c:\\_Lib\\envs\\qmetal\\lib\\site-packages\\pandas\\core\\dtypes\\cast.py:127: ShapelyDeprecationWarning: The array interface is deprecated and will no longer work in Shapely 2.0. Convert the '.coords' to a numpy array instead.\n",
      "  arr = construct_1d_object_array_from_listlike(values)\n",
      "\n",
      "WARNING:py.warnings:c:\\_Lib\\envs\\qmetal\\lib\\site-packages\\pandas\\core\\dtypes\\cast.py:127: ShapelyDeprecationWarning: The array interface is deprecated and will no longer work in Shapely 2.0. Convert the '.coords' to a numpy array instead.\n",
      "  arr = construct_1d_object_array_from_listlike(values)\n",
      "\n",
      "WARNING:py.warnings:c:\\_Lib\\envs\\qmetal\\lib\\site-packages\\pandas\\core\\dtypes\\cast.py:127: ShapelyDeprecationWarning: The array interface is deprecated and will no longer work in Shapely 2.0. Convert the '.coords' to a numpy array instead.\n",
      "  arr = construct_1d_object_array_from_listlike(values)\n",
      "\n",
      "WARNING:py.warnings:c:\\_Lib\\envs\\qmetal\\lib\\site-packages\\pandas\\core\\dtypes\\cast.py:127: ShapelyDeprecationWarning: The array interface is deprecated and will no longer work in Shapely 2.0. Convert the '.coords' to a numpy array instead.\n",
      "  arr = construct_1d_object_array_from_listlike(values)\n",
      "\n",
      "WARNING:py.warnings:c:\\_Lib\\envs\\qmetal\\lib\\site-packages\\pandas\\core\\dtypes\\cast.py:127: ShapelyDeprecationWarning: The array interface is deprecated and will no longer work in Shapely 2.0. Convert the '.coords' to a numpy array instead.\n",
      "  arr = construct_1d_object_array_from_listlike(values)\n",
      "\n",
      "WARNING:py.warnings:c:\\_Lib\\envs\\qmetal\\lib\\site-packages\\pandas\\core\\dtypes\\cast.py:127: ShapelyDeprecationWarning: The array interface is deprecated and will no longer work in Shapely 2.0. Convert the '.coords' to a numpy array instead.\n",
      "  arr = construct_1d_object_array_from_listlike(values)\n",
      "\n",
      "WARNING:py.warnings:c:\\_Lib\\envs\\qmetal\\lib\\site-packages\\pandas\\core\\dtypes\\cast.py:127: ShapelyDeprecationWarning: The array interface is deprecated and will no longer work in Shapely 2.0. Convert the '.coords' to a numpy array instead.\n",
      "  arr = construct_1d_object_array_from_listlike(values)\n",
      "\n",
      "WARNING:py.warnings:c:\\_Lib\\envs\\qmetal\\lib\\site-packages\\pandas\\core\\dtypes\\cast.py:127: ShapelyDeprecationWarning: The array interface is deprecated and will no longer work in Shapely 2.0. Convert the '.coords' to a numpy array instead.\n",
      "  arr = construct_1d_object_array_from_listlike(values)\n",
      "\n",
      "WARNING:py.warnings:c:\\_Lib\\envs\\qmetal\\lib\\site-packages\\pandas\\core\\dtypes\\cast.py:127: ShapelyDeprecationWarning: The array interface is deprecated and will no longer work in Shapely 2.0. Convert the '.coords' to a numpy array instead.\n",
      "  arr = construct_1d_object_array_from_listlike(values)\n",
      "\n",
      "WARNING:py.warnings:c:\\_Lib\\envs\\qmetal\\lib\\site-packages\\pandas\\core\\dtypes\\cast.py:127: ShapelyDeprecationWarning: The array interface is deprecated and will no longer work in Shapely 2.0. Convert the '.coords' to a numpy array instead.\n",
      "  arr = construct_1d_object_array_from_listlike(values)\n",
      "\n",
      "WARNING:py.warnings:c:\\_Lib\\envs\\qmetal\\lib\\site-packages\\pandas\\core\\dtypes\\cast.py:127: ShapelyDeprecationWarning: The array interface is deprecated and will no longer work in Shapely 2.0. Convert the '.coords' to a numpy array instead.\n",
      "  arr = construct_1d_object_array_from_listlike(values)\n",
      "\n",
      "WARNING:py.warnings:c:\\_Lib\\envs\\qmetal\\lib\\site-packages\\pandas\\core\\dtypes\\cast.py:127: ShapelyDeprecationWarning: The array interface is deprecated and will no longer work in Shapely 2.0. Convert the '.coords' to a numpy array instead.\n",
      "  arr = construct_1d_object_array_from_listlike(values)\n",
      "\n",
      "WARNING:py.warnings:c:\\_Lib\\envs\\qmetal\\lib\\site-packages\\pandas\\core\\dtypes\\cast.py:127: ShapelyDeprecationWarning: The array interface is deprecated and will no longer work in Shapely 2.0. Convert the '.coords' to a numpy array instead.\n",
      "  arr = construct_1d_object_array_from_listlike(values)\n",
      "\n",
      "WARNING:py.warnings:c:\\_Lib\\envs\\qmetal\\lib\\site-packages\\pandas\\core\\dtypes\\cast.py:127: ShapelyDeprecationWarning: The array interface is deprecated and will no longer work in Shapely 2.0. Convert the '.coords' to a numpy array instead.\n",
      "  arr = construct_1d_object_array_from_listlike(values)\n",
      "\n",
      "WARNING:py.warnings:c:\\_Lib\\envs\\qmetal\\lib\\site-packages\\pandas\\core\\dtypes\\cast.py:127: ShapelyDeprecationWarning: The array interface is deprecated and will no longer work in Shapely 2.0. Convert the '.coords' to a numpy array instead.\n",
      "  arr = construct_1d_object_array_from_listlike(values)\n",
      "\n",
      "WARNING:py.warnings:c:\\_Lib\\envs\\qmetal\\lib\\site-packages\\pandas\\core\\dtypes\\cast.py:127: ShapelyDeprecationWarning: The array interface is deprecated and will no longer work in Shapely 2.0. Convert the '.coords' to a numpy array instead.\n",
      "  arr = construct_1d_object_array_from_listlike(values)\n",
      "\n",
      "WARNING:py.warnings:c:\\_Lib\\envs\\qmetal\\lib\\site-packages\\pandas\\core\\dtypes\\cast.py:127: ShapelyDeprecationWarning: The array interface is deprecated and will no longer work in Shapely 2.0. Convert the '.coords' to a numpy array instead.\n",
      "  arr = construct_1d_object_array_from_listlike(values)\n",
      "\n",
      "WARNING:py.warnings:c:\\_Lib\\envs\\qmetal\\lib\\site-packages\\pandas\\core\\dtypes\\cast.py:127: ShapelyDeprecationWarning: The array interface is deprecated and will no longer work in Shapely 2.0. Convert the '.coords' to a numpy array instead.\n",
      "  arr = construct_1d_object_array_from_listlike(values)\n",
      "\n",
      "WARNING:py.warnings:c:\\_Lib\\envs\\qmetal\\lib\\site-packages\\pandas\\core\\dtypes\\cast.py:127: ShapelyDeprecationWarning: The array interface is deprecated and will no longer work in Shapely 2.0. Convert the '.coords' to a numpy array instead.\n",
      "  arr = construct_1d_object_array_from_listlike(values)\n",
      "\n",
      "WARNING:py.warnings:c:\\_Lib\\envs\\qmetal\\lib\\site-packages\\pandas\\core\\dtypes\\cast.py:127: ShapelyDeprecationWarning: The array interface is deprecated and will no longer work in Shapely 2.0. Convert the '.coords' to a numpy array instead.\n",
      "  arr = construct_1d_object_array_from_listlike(values)\n",
      "\n",
      "WARNING:py.warnings:c:\\_Lib\\envs\\qmetal\\lib\\site-packages\\pandas\\core\\dtypes\\cast.py:127: ShapelyDeprecationWarning: The array interface is deprecated and will no longer work in Shapely 2.0. Convert the '.coords' to a numpy array instead.\n",
      "  arr = construct_1d_object_array_from_listlike(values)\n",
      "\n",
      "WARNING:py.warnings:c:\\_Lib\\envs\\qmetal\\lib\\site-packages\\pandas\\core\\dtypes\\cast.py:127: ShapelyDeprecationWarning: The array interface is deprecated and will no longer work in Shapely 2.0. Convert the '.coords' to a numpy array instead.\n",
      "  arr = construct_1d_object_array_from_listlike(values)\n",
      "\n",
      "WARNING:py.warnings:c:\\_Lib\\envs\\qmetal\\lib\\site-packages\\pandas\\core\\dtypes\\cast.py:127: ShapelyDeprecationWarning: The array interface is deprecated and will no longer work in Shapely 2.0. Convert the '.coords' to a numpy array instead.\n",
      "  arr = construct_1d_object_array_from_listlike(values)\n",
      "\n",
      "WARNING:py.warnings:c:\\_Lib\\envs\\qmetal\\lib\\site-packages\\pandas\\core\\dtypes\\cast.py:127: ShapelyDeprecationWarning: The array interface is deprecated and will no longer work in Shapely 2.0. Convert the '.coords' to a numpy array instead.\n",
      "  arr = construct_1d_object_array_from_listlike(values)\n",
      "\n",
      "WARNING:py.warnings:c:\\_Lib\\envs\\qmetal\\lib\\site-packages\\pandas\\core\\dtypes\\cast.py:127: ShapelyDeprecationWarning: The array interface is deprecated and will no longer work in Shapely 2.0. Convert the '.coords' to a numpy array instead.\n",
      "  arr = construct_1d_object_array_from_listlike(values)\n",
      "\n",
      "WARNING:py.warnings:c:\\_Lib\\envs\\qmetal\\lib\\site-packages\\pandas\\core\\dtypes\\cast.py:127: ShapelyDeprecationWarning: The array interface is deprecated and will no longer work in Shapely 2.0. Convert the '.coords' to a numpy array instead.\n",
      "  arr = construct_1d_object_array_from_listlike(values)\n",
      "\n",
      "WARNING:py.warnings:c:\\_Lib\\envs\\qmetal\\lib\\site-packages\\pandas\\core\\dtypes\\cast.py:127: ShapelyDeprecationWarning: The array interface is deprecated and will no longer work in Shapely 2.0. Convert the '.coords' to a numpy array instead.\n",
      "  arr = construct_1d_object_array_from_listlike(values)\n",
      "\n",
      "WARNING:py.warnings:c:\\_Lib\\envs\\qmetal\\lib\\site-packages\\pandas\\core\\dtypes\\cast.py:127: ShapelyDeprecationWarning: The array interface is deprecated and will no longer work in Shapely 2.0. Convert the '.coords' to a numpy array instead.\n",
      "  arr = construct_1d_object_array_from_listlike(values)\n",
      "\n",
      "WARNING:py.warnings:c:\\_Lib\\envs\\qmetal\\lib\\site-packages\\pandas\\core\\dtypes\\cast.py:127: ShapelyDeprecationWarning: The array interface is deprecated and will no longer work in Shapely 2.0. Convert the '.coords' to a numpy array instead.\n",
      "  arr = construct_1d_object_array_from_listlike(values)\n",
      "\n",
      "WARNING:py.warnings:c:\\_Lib\\envs\\qmetal\\lib\\site-packages\\pandas\\core\\dtypes\\cast.py:127: ShapelyDeprecationWarning: The array interface is deprecated and will no longer work in Shapely 2.0. Convert the '.coords' to a numpy array instead.\n",
      "  arr = construct_1d_object_array_from_listlike(values)\n",
      "\n",
      "WARNING:py.warnings:c:\\_Lib\\envs\\qmetal\\lib\\site-packages\\pandas\\core\\dtypes\\cast.py:127: ShapelyDeprecationWarning: The array interface is deprecated and will no longer work in Shapely 2.0. Convert the '.coords' to a numpy array instead.\n",
      "  arr = construct_1d_object_array_from_listlike(values)\n",
      "\n",
      "WARNING:py.warnings:c:\\_Lib\\envs\\qmetal\\lib\\site-packages\\pandas\\core\\dtypes\\cast.py:127: ShapelyDeprecationWarning: The array interface is deprecated and will no longer work in Shapely 2.0. Convert the '.coords' to a numpy array instead.\n",
      "  arr = construct_1d_object_array_from_listlike(values)\n",
      "\n",
      "WARNING:py.warnings:c:\\_Lib\\envs\\qmetal\\lib\\site-packages\\pandas\\core\\dtypes\\cast.py:127: ShapelyDeprecationWarning: The array interface is deprecated and will no longer work in Shapely 2.0. Convert the '.coords' to a numpy array instead.\n",
      "  arr = construct_1d_object_array_from_listlike(values)\n",
      "\n",
      "WARNING:py.warnings:c:\\_Lib\\envs\\qmetal\\lib\\site-packages\\pandas\\core\\dtypes\\cast.py:127: ShapelyDeprecationWarning: The array interface is deprecated and will no longer work in Shapely 2.0. Convert the '.coords' to a numpy array instead.\n",
      "  arr = construct_1d_object_array_from_listlike(values)\n",
      "\n",
      "WARNING:py.warnings:c:\\_Lib\\envs\\qmetal\\lib\\site-packages\\pandas\\core\\dtypes\\cast.py:127: ShapelyDeprecationWarning: The array interface is deprecated and will no longer work in Shapely 2.0. Convert the '.coords' to a numpy array instead.\n",
      "  arr = construct_1d_object_array_from_listlike(values)\n",
      "\n",
      "WARNING:py.warnings:c:\\_Lib\\envs\\qmetal\\lib\\site-packages\\pandas\\core\\dtypes\\cast.py:127: ShapelyDeprecationWarning: The array interface is deprecated and will no longer work in Shapely 2.0. Convert the '.coords' to a numpy array instead.\n",
      "  arr = construct_1d_object_array_from_listlike(values)\n",
      "\n",
      "WARNING:py.warnings:c:\\_Lib\\envs\\qmetal\\lib\\site-packages\\pandas\\core\\dtypes\\cast.py:127: ShapelyDeprecationWarning: The array interface is deprecated and will no longer work in Shapely 2.0. Convert the '.coords' to a numpy array instead.\n",
      "  arr = construct_1d_object_array_from_listlike(values)\n",
      "\n",
      "WARNING:py.warnings:c:\\_Lib\\envs\\qmetal\\lib\\site-packages\\pandas\\core\\dtypes\\cast.py:127: ShapelyDeprecationWarning: The array interface is deprecated and will no longer work in Shapely 2.0. Convert the '.coords' to a numpy array instead.\n",
      "  arr = construct_1d_object_array_from_listlike(values)\n",
      "\n",
      "WARNING:py.warnings:c:\\_Lib\\envs\\qmetal\\lib\\site-packages\\pandas\\core\\dtypes\\cast.py:127: ShapelyDeprecationWarning: The array interface is deprecated and will no longer work in Shapely 2.0. Convert the '.coords' to a numpy array instead.\n",
      "  arr = construct_1d_object_array_from_listlike(values)\n",
      "\n",
      "WARNING:py.warnings:c:\\_Lib\\envs\\qmetal\\lib\\site-packages\\pandas\\core\\dtypes\\cast.py:127: ShapelyDeprecationWarning: The array interface is deprecated and will no longer work in Shapely 2.0. Convert the '.coords' to a numpy array instead.\n",
      "  arr = construct_1d_object_array_from_listlike(values)\n",
      "\n",
      "WARNING:py.warnings:c:\\_Lib\\envs\\qmetal\\lib\\site-packages\\pandas\\core\\dtypes\\cast.py:127: ShapelyDeprecationWarning: The array interface is deprecated and will no longer work in Shapely 2.0. Convert the '.coords' to a numpy array instead.\n",
      "  arr = construct_1d_object_array_from_listlike(values)\n",
      "\n",
      "WARNING:py.warnings:c:\\_Lib\\envs\\qmetal\\lib\\site-packages\\pandas\\core\\dtypes\\cast.py:127: ShapelyDeprecationWarning: The array interface is deprecated and will no longer work in Shapely 2.0. Convert the '.coords' to a numpy array instead.\n",
      "  arr = construct_1d_object_array_from_listlike(values)\n",
      "\n",
      "WARNING:py.warnings:c:\\_Lib\\envs\\qmetal\\lib\\site-packages\\pandas\\core\\dtypes\\cast.py:127: ShapelyDeprecationWarning: The array interface is deprecated and will no longer work in Shapely 2.0. Convert the '.coords' to a numpy array instead.\n",
      "  arr = construct_1d_object_array_from_listlike(values)\n",
      "\n",
      "WARNING:py.warnings:c:\\_Lib\\envs\\qmetal\\lib\\site-packages\\pandas\\core\\dtypes\\cast.py:127: ShapelyDeprecationWarning: The array interface is deprecated and will no longer work in Shapely 2.0. Convert the '.coords' to a numpy array instead.\n",
      "  arr = construct_1d_object_array_from_listlike(values)\n",
      "\n",
      "WARNING:py.warnings:c:\\_Lib\\envs\\qmetal\\lib\\site-packages\\pandas\\core\\dtypes\\cast.py:127: ShapelyDeprecationWarning: The array interface is deprecated and will no longer work in Shapely 2.0. Convert the '.coords' to a numpy array instead.\n",
      "  arr = construct_1d_object_array_from_listlike(values)\n",
      "\n",
      "WARNING:py.warnings:c:\\_Lib\\envs\\qmetal\\lib\\site-packages\\pandas\\core\\dtypes\\cast.py:127: ShapelyDeprecationWarning: The array interface is deprecated and will no longer work in Shapely 2.0. Convert the '.coords' to a numpy array instead.\n",
      "  arr = construct_1d_object_array_from_listlike(values)\n",
      "\n",
      "WARNING:py.warnings:c:\\_Lib\\envs\\qmetal\\lib\\site-packages\\pandas\\core\\dtypes\\cast.py:127: ShapelyDeprecationWarning: The array interface is deprecated and will no longer work in Shapely 2.0. Convert the '.coords' to a numpy array instead.\n",
      "  arr = construct_1d_object_array_from_listlike(values)\n",
      "\n",
      "WARNING:py.warnings:c:\\_Lib\\envs\\qmetal\\lib\\site-packages\\pandas\\core\\dtypes\\cast.py:127: ShapelyDeprecationWarning: The array interface is deprecated and will no longer work in Shapely 2.0. Convert the '.coords' to a numpy array instead.\n",
      "  arr = construct_1d_object_array_from_listlike(values)\n",
      "\n",
      "WARNING:py.warnings:c:\\_Lib\\envs\\qmetal\\lib\\site-packages\\pandas\\core\\dtypes\\cast.py:127: ShapelyDeprecationWarning: The array interface is deprecated and will no longer work in Shapely 2.0. Convert the '.coords' to a numpy array instead.\n",
      "  arr = construct_1d_object_array_from_listlike(values)\n",
      "\n",
      "WARNING:py.warnings:c:\\_Lib\\envs\\qmetal\\lib\\site-packages\\pandas\\core\\dtypes\\cast.py:127: ShapelyDeprecationWarning: The array interface is deprecated and will no longer work in Shapely 2.0. Convert the '.coords' to a numpy array instead.\n",
      "  arr = construct_1d_object_array_from_listlike(values)\n",
      "\n",
      "WARNING:py.warnings:c:\\_Lib\\envs\\qmetal\\lib\\site-packages\\pandas\\core\\dtypes\\cast.py:127: ShapelyDeprecationWarning: The array interface is deprecated and will no longer work in Shapely 2.0. Convert the '.coords' to a numpy array instead.\n",
      "  arr = construct_1d_object_array_from_listlike(values)\n",
      "\n",
      "WARNING:py.warnings:c:\\_Lib\\envs\\qmetal\\lib\\site-packages\\pandas\\core\\dtypes\\cast.py:127: ShapelyDeprecationWarning: The array interface is deprecated and will no longer work in Shapely 2.0. Convert the '.coords' to a numpy array instead.\n",
      "  arr = construct_1d_object_array_from_listlike(values)\n",
      "\n",
      "WARNING:py.warnings:c:\\_Lib\\envs\\qmetal\\lib\\site-packages\\pandas\\core\\dtypes\\cast.py:127: ShapelyDeprecationWarning: The array interface is deprecated and will no longer work in Shapely 2.0. Convert the '.coords' to a numpy array instead.\n",
      "  arr = construct_1d_object_array_from_listlike(values)\n",
      "\n",
      "WARNING:py.warnings:c:\\_Lib\\envs\\qmetal\\lib\\site-packages\\pandas\\core\\dtypes\\cast.py:127: ShapelyDeprecationWarning: The array interface is deprecated and will no longer work in Shapely 2.0. Convert the '.coords' to a numpy array instead.\n",
      "  arr = construct_1d_object_array_from_listlike(values)\n",
      "\n",
      "WARNING:py.warnings:c:\\_Lib\\envs\\qmetal\\lib\\site-packages\\pandas\\core\\dtypes\\cast.py:127: ShapelyDeprecationWarning: The array interface is deprecated and will no longer work in Shapely 2.0. Convert the '.coords' to a numpy array instead.\n",
      "  arr = construct_1d_object_array_from_listlike(values)\n",
      "\n",
      "WARNING:py.warnings:c:\\_Lib\\envs\\qmetal\\lib\\site-packages\\pandas\\core\\dtypes\\cast.py:127: ShapelyDeprecationWarning: The array interface is deprecated and will no longer work in Shapely 2.0. Convert the '.coords' to a numpy array instead.\n",
      "  arr = construct_1d_object_array_from_listlike(values)\n",
      "\n",
      "WARNING:py.warnings:c:\\_Lib\\envs\\qmetal\\lib\\site-packages\\pandas\\core\\dtypes\\cast.py:127: ShapelyDeprecationWarning: The array interface is deprecated and will no longer work in Shapely 2.0. Convert the '.coords' to a numpy array instead.\n",
      "  arr = construct_1d_object_array_from_listlike(values)\n",
      "\n",
      "WARNING:py.warnings:c:\\_Lib\\envs\\qmetal\\lib\\site-packages\\pandas\\core\\dtypes\\cast.py:127: ShapelyDeprecationWarning: The array interface is deprecated and will no longer work in Shapely 2.0. Convert the '.coords' to a numpy array instead.\n",
      "  arr = construct_1d_object_array_from_listlike(values)\n",
      "\n",
      "WARNING:py.warnings:c:\\_Lib\\envs\\qmetal\\lib\\site-packages\\pandas\\core\\dtypes\\cast.py:127: ShapelyDeprecationWarning: The array interface is deprecated and will no longer work in Shapely 2.0. Convert the '.coords' to a numpy array instead.\n",
      "  arr = construct_1d_object_array_from_listlike(values)\n",
      "\n",
      "WARNING:py.warnings:c:\\_Lib\\envs\\qmetal\\lib\\site-packages\\pandas\\core\\dtypes\\cast.py:127: ShapelyDeprecationWarning: The array interface is deprecated and will no longer work in Shapely 2.0. Convert the '.coords' to a numpy array instead.\n",
      "  arr = construct_1d_object_array_from_listlike(values)\n",
      "\n",
      "WARNING:py.warnings:c:\\_Lib\\envs\\qmetal\\lib\\site-packages\\pandas\\core\\dtypes\\cast.py:127: ShapelyDeprecationWarning: The array interface is deprecated and will no longer work in Shapely 2.0. Convert the '.coords' to a numpy array instead.\n",
      "  arr = construct_1d_object_array_from_listlike(values)\n",
      "\n",
      "WARNING:py.warnings:c:\\_Lib\\envs\\qmetal\\lib\\site-packages\\pandas\\core\\dtypes\\cast.py:127: ShapelyDeprecationWarning: The array interface is deprecated and will no longer work in Shapely 2.0. Convert the '.coords' to a numpy array instead.\n",
      "  arr = construct_1d_object_array_from_listlike(values)\n",
      "\n",
      "WARNING:py.warnings:c:\\_Lib\\envs\\qmetal\\lib\\site-packages\\pandas\\core\\dtypes\\cast.py:127: ShapelyDeprecationWarning: The array interface is deprecated and will no longer work in Shapely 2.0. Convert the '.coords' to a numpy array instead.\n",
      "  arr = construct_1d_object_array_from_listlike(values)\n",
      "\n",
      "WARNING:py.warnings:c:\\_Lib\\envs\\qmetal\\lib\\site-packages\\pandas\\core\\dtypes\\cast.py:127: ShapelyDeprecationWarning: The array interface is deprecated and will no longer work in Shapely 2.0. Convert the '.coords' to a numpy array instead.\n",
      "  arr = construct_1d_object_array_from_listlike(values)\n",
      "\n"
     ]
    }
   ],
   "source": [
    "# Allow running the same cell here multiple times to overwrite changes\n",
    "design.overwrite_enabled = True\n",
    "\n",
    "## Custom options for all the transmons\n",
    "options = dict(\n",
    "    # Some options we want to modify from the defaults\n",
    "    # (see below for defaults)\n",
    "    pad_width = '425 um', \n",
    "    pocket_height = '650um',\n",
    "    # Adding 4 connectors (see below for defaults)\n",
    "    connection_pads=dict(\n",
    "        readout = dict(loc_W=+1,loc_H=-1, pad_width='200um'),\n",
    "        bus1 = dict(loc_W=-1,loc_H=+1, pad_height='30um'),\n",
    "        bus2 = dict(loc_W=-1,loc_H=-1, pad_height='50um')\n",
    "    )\n",
    ")\n",
    "\n",
    "## Create 4 transmons\n",
    "\n",
    "q1 = TransmonPocket(design, 'Q1', options = dict(\n",
    "    pos_x='+2.42251mm', pos_y='+0.0mm', **options))\n",
    "q2 = TransmonPocket(design, 'Q2', options = dict(\n",
    "    pos_x='+0.0mm', pos_y='-0.95mm', orientation = '270', **options))\n",
    "q3 = TransmonPocket(design, 'Q3', options = dict(\n",
    "    pos_x='-2.42251mm', pos_y='+0.0mm', orientation = '180', **options))\n",
    "q4 = TransmonPocket(design, 'Q4', options = dict(\n",
    "    pos_x='+0.0mm', pos_y='+0.95mm', orientation = '90', **options))\n",
    "\n",
    "RouteMeander.get_template_options(design)\n",
    "\n",
    "options = Dict(\n",
    "        lead=Dict(\n",
    "            start_straight='0.2mm',\n",
    "            end_straight='0.2mm'),\n",
    "        trace_gap='9um',\n",
    "        trace_width='15um')\n",
    "\n",
    "def connect(component_name: str, component1: str, pin1: str, component2: str, pin2: str,\n",
    "            length: str, asymmetry='0 um', flip=False, fillet='90um'):\n",
    "    \"\"\"Connect two pins with a CPW.\"\"\"\n",
    "    myoptions = Dict(\n",
    "        fillet=fillet,\n",
    "        hfss_wire_bonds = True,\n",
    "        pin_inputs=Dict(\n",
    "            start_pin=Dict(\n",
    "                component=component1,\n",
    "                pin=pin1),\n",
    "            end_pin=Dict(\n",
    "                component=component2,\n",
    "                pin=pin2)),\n",
    "        total_length=length)\n",
    "    myoptions.update(options)\n",
    "    myoptions.meander.asymmetry = asymmetry\n",
    "    myoptions.meander.lead_direction_inverted = 'true' if flip else 'false'\n",
    "    return RouteMeander(design, component_name, myoptions)\n",
    "\n",
    "asym = 140\n",
    "cpw1 = connect('cpw1', 'Q1', 'bus2', 'Q2', 'bus1', '6.0 mm', f'+{asym}um')\n",
    "cpw2 = connect('cpw2', 'Q3', 'bus1', 'Q2', 'bus2', '6.1 mm', f'-{asym}um', flip=True)\n",
    "cpw3 = connect('cpw3', 'Q3', 'bus2', 'Q4', 'bus1', '6.0 mm', f'+{asym}um')\n",
    "cpw4 = connect('cpw4', 'Q1', 'bus1', 'Q4', 'bus2', '6.1 mm', f'-{asym}um', flip=True)\n",
    "\n",
    "gui.rebuild()\n",
    "gui.autoscale()"
   ]
  },
  {
   "cell_type": "markdown",
   "metadata": {},
   "source": [
    "## 2. Capacitance Analysis and LOM derivation using the analysis package - most users"
   ]
  },
  {
   "cell_type": "markdown",
   "metadata": {},
   "source": [
    "### Capacitance Analysis\n",
    "Select the analysis you intend to run from the `qiskit_metal.analyses` collection.<br>\n",
    "Select the design to analyze and the tool to use for any external simulation"
   ]
  },
  {
   "cell_type": "code",
   "execution_count": 6,
   "metadata": {},
   "outputs": [],
   "source": [
    "from qiskit_metal.analyses.quantization import LOManalysis\n",
    "c1 = LOManalysis(design, \"q3d\")"
   ]
  },
  {
   "cell_type": "markdown",
   "metadata": {},
   "source": [
    "(optional) You can review and update the Analysis default setup following the examples in the next two cells."
   ]
  },
  {
   "cell_type": "code",
   "execution_count": 7,
   "metadata": {},
   "outputs": [
    {
     "data": {
      "text/plain": [
       "{'name': 'Setup',\n",
       " 'reuse_selected_design': True,\n",
       " 'reuse_setup': True,\n",
       " 'freq_ghz': 5.0,\n",
       " 'save_fields': False,\n",
       " 'enabled': True,\n",
       " 'max_passes': 15,\n",
       " 'min_passes': 2,\n",
       " 'min_converged_passes': 2,\n",
       " 'percent_error': 0.5,\n",
       " 'percent_refinement': 30,\n",
       " 'auto_increase_solution_order': True,\n",
       " 'solution_order': 'High',\n",
       " 'solver_type': 'Iterative'}"
      ]
     },
     "execution_count": 7,
     "metadata": {},
     "output_type": "execute_result"
    }
   ],
   "source": [
    "c1.sim.setup"
   ]
  },
  {
   "cell_type": "code",
   "execution_count": 8,
   "metadata": {},
   "outputs": [
    {
     "data": {
      "text/plain": [
       "{'name': 'Setup',\n",
       " 'reuse_selected_design': True,\n",
       " 'reuse_setup': True,\n",
       " 'freq_ghz': 5.0,\n",
       " 'save_fields': False,\n",
       " 'enabled': True,\n",
       " 'max_passes': 6,\n",
       " 'min_passes': 2,\n",
       " 'min_converged_passes': 2,\n",
       " 'percent_error': 0.5,\n",
       " 'percent_refinement': 30,\n",
       " 'auto_increase_solution_order': 'False',\n",
       " 'solution_order': 'Medium',\n",
       " 'solver_type': 'Iterative'}"
      ]
     },
     "execution_count": 8,
     "metadata": {},
     "output_type": "execute_result"
    }
   ],
   "source": [
    "# example: update single setting\n",
    "c1.sim.setup.max_passes = 6\n",
    "# example: update multiple settings\n",
    "c1.sim.setup_update(solution_order = 'Medium', auto_increase_solution_order = 'False')\n",
    "\n",
    "c1.sim.setup"
   ]
  },
  {
   "cell_type": "markdown",
   "metadata": {},
   "source": [
    "Analyze a single qubit with 2 endcaps using the default (or edited) analysis setup. Then show the capacitance matrix (from the last pass).\n",
    "\n",
    "You can use the method `run()` instead of `sim.run()` in the following cell if you want to run both cap extraction and lom analysis in a single step. If so, make sure to also tweak the setup for the lom analysis. The input parameters are otherwise the same for the two methods. "
   ]
  },
  {
   "cell_type": "code",
   "execution_count": 9,
   "metadata": {
    "scrolled": false
   },
   "outputs": [
    {
     "name": "stderr",
     "output_type": "stream",
     "text": [
      "INFO 10:32PM [connect_project]: Connecting to Ansys Desktop API...\n",
      "INFO 10:32PM [load_ansys_project]: \tOpened Ansys App\n",
      "INFO 10:32PM [load_ansys_project]: \tOpened Ansys Desktop v2021.1.0\n",
      "INFO 10:32PM [load_ansys_project]: \tOpened Ansys Project\n",
      "\tFolder:    C:/Users/Berkelium/Documents/Ansoft/\n",
      "\tProject:   Project7\n",
      "INFO 10:32PM [connect_design]: No active design found (or error getting active design).\n",
      "INFO 10:32PM [connect]: \t Connected to project \"Project7\". No design detected\n",
      "INFO 10:32PM [connect_design]: \tOpened active design\n",
      "\tDesign:    Design_q3d [Solution type: Q3D]\n",
      "WARNING 10:32PM [connect_setup]: \tNo design setup detected.\n",
      "WARNING 10:32PM [connect_setup]: \tCreating Q3D default setup.\n",
      "INFO 10:32PM [get_setup]: \tOpened setup `Setup`  (<class 'pyEPR.ansys.AnsysQ3DSetup'>)\n",
      "INFO 10:32PM [get_setup]: \tOpened setup `Setup`  (<class 'pyEPR.ansys.AnsysQ3DSetup'>)\n",
      "INFO 10:32PM [analyze]: Analyzing setup Setup\n",
      "INFO 10:32PM [get_matrix]: Exporting matrix data to (C:\\Users\\BERKEL~1\\AppData\\Local\\Temp\\tmpt_knor60.txt, C, , Setup:LastAdaptive, \"Original\", \"ohm\", \"nH\", \"fF\", \"mSie\", 5000000000, Maxwell, 1, False\n",
      "INFO 10:32PM [get_matrix]: Exporting matrix data to (C:\\Users\\BERKEL~1\\AppData\\Local\\Temp\\tmp3voc9wua.txt, C, , Setup:AdaptivePass, \"Original\", \"ohm\", \"nH\", \"fF\", \"mSie\", 5000000000, Maxwell, 1, False\n",
      "INFO 10:32PM [get_matrix]: Exporting matrix data to (C:\\Users\\BERKEL~1\\AppData\\Local\\Temp\\tmprmwpgm2z.txt, C, , Setup:AdaptivePass, \"Original\", \"ohm\", \"nH\", \"fF\", \"mSie\", 5000000000, Maxwell, 2, False\n",
      "INFO 10:32PM [get_matrix]: Exporting matrix data to (C:\\Users\\BERKEL~1\\AppData\\Local\\Temp\\tmpi_908zq4.txt, C, , Setup:AdaptivePass, \"Original\", \"ohm\", \"nH\", \"fF\", \"mSie\", 5000000000, Maxwell, 3, False\n",
      "INFO 10:32PM [get_matrix]: Exporting matrix data to (C:\\Users\\BERKEL~1\\AppData\\Local\\Temp\\tmp79k8viw0.txt, C, , Setup:AdaptivePass, \"Original\", \"ohm\", \"nH\", \"fF\", \"mSie\", 5000000000, Maxwell, 4, False\n",
      "INFO 10:32PM [get_matrix]: Exporting matrix data to (C:\\Users\\BERKEL~1\\AppData\\Local\\Temp\\tmpz2pafqmf.txt, C, , Setup:AdaptivePass, \"Original\", \"ohm\", \"nH\", \"fF\", \"mSie\", 5000000000, Maxwell, 5, False\n",
      "INFO 10:32PM [get_matrix]: Exporting matrix data to (C:\\Users\\BERKEL~1\\AppData\\Local\\Temp\\tmppkwydx3n.txt, C, , Setup:AdaptivePass, \"Original\", \"ohm\", \"nH\", \"fF\", \"mSie\", 5000000000, Maxwell, 6, False\n",
      "INFO 10:32PM [get_matrix]: Exporting matrix data to (C:\\Users\\BERKEL~1\\AppData\\Local\\Temp\\tmpp268vyhv.txt, C, , Setup:AdaptivePass, \"Original\", \"ohm\", \"nH\", \"fF\", \"mSie\", 5000000000, Maxwell, 7, False\n"
     ]
    },
    {
     "data": {
      "text/html": [
       "<div>\n",
       "<style scoped>\n",
       "    .dataframe tbody tr th:only-of-type {\n",
       "        vertical-align: middle;\n",
       "    }\n",
       "\n",
       "    .dataframe tbody tr th {\n",
       "        vertical-align: top;\n",
       "    }\n",
       "\n",
       "    .dataframe thead th {\n",
       "        text-align: right;\n",
       "    }\n",
       "</style>\n",
       "<table border=\"1\" class=\"dataframe\">\n",
       "  <thead>\n",
       "    <tr style=\"text-align: right;\">\n",
       "      <th></th>\n",
       "      <th>bus1_connector_pad_Q1</th>\n",
       "      <th>bus2_connector_pad_Q1</th>\n",
       "      <th>ground_main_plane</th>\n",
       "      <th>pad_bot_Q1</th>\n",
       "      <th>pad_top_Q1</th>\n",
       "      <th>readout_connector_pad_Q1</th>\n",
       "    </tr>\n",
       "  </thead>\n",
       "  <tbody>\n",
       "    <tr>\n",
       "      <th>bus1_connector_pad_Q1</th>\n",
       "      <td>49.77799</td>\n",
       "      <td>-0.42560</td>\n",
       "      <td>-33.50863</td>\n",
       "      <td>-1.57029</td>\n",
       "      <td>-13.15538</td>\n",
       "      <td>-0.20494</td>\n",
       "    </tr>\n",
       "    <tr>\n",
       "      <th>bus2_connector_pad_Q1</th>\n",
       "      <td>-0.42560</td>\n",
       "      <td>54.01891</td>\n",
       "      <td>-35.77524</td>\n",
       "      <td>-13.99741</td>\n",
       "      <td>-1.82852</td>\n",
       "      <td>-1.01319</td>\n",
       "    </tr>\n",
       "    <tr>\n",
       "      <th>ground_main_plane</th>\n",
       "      <td>-33.50863</td>\n",
       "      <td>-35.77524</td>\n",
       "      <td>237.69032</td>\n",
       "      <td>-31.53486</td>\n",
       "      <td>-37.88738</td>\n",
       "      <td>-36.55732</td>\n",
       "    </tr>\n",
       "    <tr>\n",
       "      <th>pad_bot_Q1</th>\n",
       "      <td>-1.57029</td>\n",
       "      <td>-13.99741</td>\n",
       "      <td>-31.53486</td>\n",
       "      <td>98.20669</td>\n",
       "      <td>-30.07382</td>\n",
       "      <td>-18.86490</td>\n",
       "    </tr>\n",
       "    <tr>\n",
       "      <th>pad_top_Q1</th>\n",
       "      <td>-13.15538</td>\n",
       "      <td>-1.82852</td>\n",
       "      <td>-37.88738</td>\n",
       "      <td>-30.07382</td>\n",
       "      <td>87.85084</td>\n",
       "      <td>-2.20122</td>\n",
       "    </tr>\n",
       "    <tr>\n",
       "      <th>readout_connector_pad_Q1</th>\n",
       "      <td>-0.20494</td>\n",
       "      <td>-1.01319</td>\n",
       "      <td>-36.55732</td>\n",
       "      <td>-18.86490</td>\n",
       "      <td>-2.20122</td>\n",
       "      <td>59.92352</td>\n",
       "    </tr>\n",
       "  </tbody>\n",
       "</table>\n",
       "</div>"
      ],
      "text/plain": [
       "                          bus1_connector_pad_Q1  bus2_connector_pad_Q1  \\\n",
       "bus1_connector_pad_Q1                  49.77799               -0.42560   \n",
       "bus2_connector_pad_Q1                  -0.42560               54.01891   \n",
       "ground_main_plane                     -33.50863              -35.77524   \n",
       "pad_bot_Q1                             -1.57029              -13.99741   \n",
       "pad_top_Q1                            -13.15538               -1.82852   \n",
       "readout_connector_pad_Q1               -0.20494               -1.01319   \n",
       "\n",
       "                          ground_main_plane  pad_bot_Q1  pad_top_Q1  \\\n",
       "bus1_connector_pad_Q1             -33.50863    -1.57029   -13.15538   \n",
       "bus2_connector_pad_Q1             -35.77524   -13.99741    -1.82852   \n",
       "ground_main_plane                 237.69032   -31.53486   -37.88738   \n",
       "pad_bot_Q1                        -31.53486    98.20669   -30.07382   \n",
       "pad_top_Q1                        -37.88738   -30.07382    87.85084   \n",
       "readout_connector_pad_Q1          -36.55732   -18.86490    -2.20122   \n",
       "\n",
       "                          readout_connector_pad_Q1  \n",
       "bus1_connector_pad_Q1                     -0.20494  \n",
       "bus2_connector_pad_Q1                     -1.01319  \n",
       "ground_main_plane                        -36.55732  \n",
       "pad_bot_Q1                               -18.86490  \n",
       "pad_top_Q1                                -2.20122  \n",
       "readout_connector_pad_Q1                  59.92352  "
      ]
     },
     "execution_count": 9,
     "metadata": {},
     "output_type": "execute_result"
    }
   ],
   "source": [
    "c1.sim.run(components=['Q1'], open_terminations=[('Q1', 'readout'), ('Q1', 'bus1'), ('Q1', 'bus2')])\n",
    "c1.sim.capacitance_matrix\n",
    "# Chicago VPN"
   ]
  },
  {
   "cell_type": "markdown",
   "metadata": {},
   "source": [
    "(otional - case-dependent)<br>If the previous cell was interrupted due to license limitations and for any reason you finally manually launched the simulation from the renderer GUI (outside qiskit-metal) you might be able to recover the simulation results by uncommenting and executing the following cell"
   ]
  },
  {
   "cell_type": "code",
   "execution_count": 10,
   "metadata": {},
   "outputs": [
    {
     "name": "stderr",
     "output_type": "stream",
     "text": [
      "INFO 08:49PM [get_matrix]: Exporting matrix data to (C:\\Users\\BERKEL~1\\AppData\\Local\\Temp\\tmp1u8dqky6.txt, C, , Setup:LastAdaptive, \"Original\", \"ohm\", \"nH\", \"fF\", \"mSie\", 5000000000, Maxwell, 1, False\n",
      "INFO 08:49PM [get_matrix]: Exporting matrix data to (C:\\Users\\BERKEL~1\\AppData\\Local\\Temp\\tmp3njcbr8d.txt, C, , Setup:AdaptivePass, \"Original\", \"ohm\", \"nH\", \"fF\", \"mSie\", 5000000000, Maxwell, 1, False\n",
      "INFO 08:49PM [get_matrix]: Exporting matrix data to (C:\\Users\\BERKEL~1\\AppData\\Local\\Temp\\tmp4ua37_93.txt, C, , Setup:AdaptivePass, \"Original\", \"ohm\", \"nH\", \"fF\", \"mSie\", 5000000000, Maxwell, 2, False\n",
      "INFO 08:49PM [get_matrix]: Exporting matrix data to (C:\\Users\\BERKEL~1\\AppData\\Local\\Temp\\tmp3oa6gr8z.txt, C, , Setup:AdaptivePass, \"Original\", \"ohm\", \"nH\", \"fF\", \"mSie\", 5000000000, Maxwell, 3, False\n",
      "INFO 08:49PM [get_matrix]: Exporting matrix data to (C:\\Users\\BERKEL~1\\AppData\\Local\\Temp\\tmpemgolu7w.txt, C, , Setup:AdaptivePass, \"Original\", \"ohm\", \"nH\", \"fF\", \"mSie\", 5000000000, Maxwell, 4, False\n",
      "INFO 08:49PM [get_matrix]: Exporting matrix data to (C:\\Users\\BERKEL~1\\AppData\\Local\\Temp\\tmp6rwdg88n.txt, C, , Setup:AdaptivePass, \"Original\", \"ohm\", \"nH\", \"fF\", \"mSie\", 5000000000, Maxwell, 5, False\n",
      "INFO 08:49PM [get_matrix]: Exporting matrix data to (C:\\Users\\BERKEL~1\\AppData\\Local\\Temp\\tmp87o0f1mg.txt, C, , Setup:AdaptivePass, \"Original\", \"ohm\", \"nH\", \"fF\", \"mSie\", 5000000000, Maxwell, 6, False\n",
      "INFO 08:49PM [get_matrix]: Exporting matrix data to (C:\\Users\\BERKEL~1\\AppData\\Local\\Temp\\tmpo6_4r9d_.txt, C, , Setup:AdaptivePass, \"Original\", \"ohm\", \"nH\", \"fF\", \"mSie\", 5000000000, Maxwell, 7, False\n"
     ]
    },
    {
     "data": {
      "text/html": [
       "<div>\n",
       "<style scoped>\n",
       "    .dataframe tbody tr th:only-of-type {\n",
       "        vertical-align: middle;\n",
       "    }\n",
       "\n",
       "    .dataframe tbody tr th {\n",
       "        vertical-align: top;\n",
       "    }\n",
       "\n",
       "    .dataframe thead th {\n",
       "        text-align: right;\n",
       "    }\n",
       "</style>\n",
       "<table border=\"1\" class=\"dataframe\">\n",
       "  <thead>\n",
       "    <tr style=\"text-align: right;\">\n",
       "      <th></th>\n",
       "      <th>bus1_connector_pad_Q1</th>\n",
       "      <th>bus2_connector_pad_Q1</th>\n",
       "      <th>ground_main_plane</th>\n",
       "      <th>pad_bot_Q1</th>\n",
       "      <th>pad_top_Q1</th>\n",
       "      <th>readout_connector_pad_Q1</th>\n",
       "    </tr>\n",
       "  </thead>\n",
       "  <tbody>\n",
       "    <tr>\n",
       "      <th>bus1_connector_pad_Q1</th>\n",
       "      <td>49.77799</td>\n",
       "      <td>-0.42560</td>\n",
       "      <td>-33.50862</td>\n",
       "      <td>-1.57029</td>\n",
       "      <td>-13.15539</td>\n",
       "      <td>-0.20494</td>\n",
       "    </tr>\n",
       "    <tr>\n",
       "      <th>bus2_connector_pad_Q1</th>\n",
       "      <td>-0.42560</td>\n",
       "      <td>54.01890</td>\n",
       "      <td>-35.77522</td>\n",
       "      <td>-13.99741</td>\n",
       "      <td>-1.82852</td>\n",
       "      <td>-1.01319</td>\n",
       "    </tr>\n",
       "    <tr>\n",
       "      <th>ground_main_plane</th>\n",
       "      <td>-33.50862</td>\n",
       "      <td>-35.77522</td>\n",
       "      <td>237.69040</td>\n",
       "      <td>-31.53489</td>\n",
       "      <td>-37.88740</td>\n",
       "      <td>-36.55732</td>\n",
       "    </tr>\n",
       "    <tr>\n",
       "      <th>pad_bot_Q1</th>\n",
       "      <td>-1.57029</td>\n",
       "      <td>-13.99741</td>\n",
       "      <td>-31.53489</td>\n",
       "      <td>98.20673</td>\n",
       "      <td>-30.07382</td>\n",
       "      <td>-18.86491</td>\n",
       "    </tr>\n",
       "    <tr>\n",
       "      <th>pad_top_Q1</th>\n",
       "      <td>-13.15539</td>\n",
       "      <td>-1.82852</td>\n",
       "      <td>-37.88740</td>\n",
       "      <td>-30.07382</td>\n",
       "      <td>87.85082</td>\n",
       "      <td>-2.20122</td>\n",
       "    </tr>\n",
       "    <tr>\n",
       "      <th>readout_connector_pad_Q1</th>\n",
       "      <td>-0.20494</td>\n",
       "      <td>-1.01319</td>\n",
       "      <td>-36.55732</td>\n",
       "      <td>-18.86491</td>\n",
       "      <td>-2.20122</td>\n",
       "      <td>59.92353</td>\n",
       "    </tr>\n",
       "  </tbody>\n",
       "</table>\n",
       "</div>"
      ],
      "text/plain": [
       "                          bus1_connector_pad_Q1  bus2_connector_pad_Q1  \\\n",
       "bus1_connector_pad_Q1                  49.77799               -0.42560   \n",
       "bus2_connector_pad_Q1                  -0.42560               54.01890   \n",
       "ground_main_plane                     -33.50862              -35.77522   \n",
       "pad_bot_Q1                             -1.57029              -13.99741   \n",
       "pad_top_Q1                            -13.15539               -1.82852   \n",
       "readout_connector_pad_Q1               -0.20494               -1.01319   \n",
       "\n",
       "                          ground_main_plane  pad_bot_Q1  pad_top_Q1  \\\n",
       "bus1_connector_pad_Q1             -33.50862    -1.57029   -13.15539   \n",
       "bus2_connector_pad_Q1             -35.77522   -13.99741    -1.82852   \n",
       "ground_main_plane                 237.69040   -31.53489   -37.88740   \n",
       "pad_bot_Q1                        -31.53489    98.20673   -30.07382   \n",
       "pad_top_Q1                        -37.88740   -30.07382    87.85082   \n",
       "readout_connector_pad_Q1          -36.55732   -18.86491    -2.20122   \n",
       "\n",
       "                          readout_connector_pad_Q1  \n",
       "bus1_connector_pad_Q1                     -0.20494  \n",
       "bus2_connector_pad_Q1                     -1.01319  \n",
       "ground_main_plane                        -36.55732  \n",
       "pad_bot_Q1                               -18.86491  \n",
       "pad_top_Q1                                -2.20122  \n",
       "readout_connector_pad_Q1                  59.92353  "
      ]
     },
     "execution_count": 10,
     "metadata": {},
     "output_type": "execute_result"
    }
   ],
   "source": [
    "c1.sim._get_results_from_renderer()\n",
    "c1.sim.capacitance_matrix"
   ]
  },
  {
   "cell_type": "markdown",
   "metadata": {},
   "source": [
    "The last variables you pass to the `run()` or `sim.run()` methods, will be stored in the `sim.setup` dictionary under the key `run`. You can recall the information passed by either accessing the dictionary directly, or by using the print handle below."
   ]
  },
  {
   "cell_type": "code",
   "execution_count": 11,
   "metadata": {},
   "outputs": [
    {
     "name": "stdout",
     "output_type": "stream",
     "text": [
      "This analysis object run with the following kwargs:\n",
      "{'name': None, 'components': ['Q1'], 'open_terminations': [('Q1', 'readout'), ('Q1', 'bus1'), ('Q1', 'bus2')], 'box_plus_buffer': True}\n",
      "\n"
     ]
    }
   ],
   "source": [
    "# c1.setup.run    <- direct access\n",
    "c1.sim.print_run_args()"
   ]
  },
  {
   "cell_type": "markdown",
   "metadata": {},
   "source": [
    "You can re-run the analysis after varying the parameters.<br>\n",
    "Not passing the parameter `components` to the `sim.run()` method, skips the rendering and tries to run the analysis on the latest design. If a design is not found, the full metal design is rendered."
   ]
  },
  {
   "cell_type": "code",
   "execution_count": 12,
   "metadata": {},
   "outputs": [
    {
     "name": "stderr",
     "output_type": "stream",
     "text": [
      "INFO 08:49PM [get_setup]: \tOpened setup `Setup`  (<class 'pyEPR.ansys.AnsysQ3DSetup'>)\n",
      "INFO 08:49PM [analyze]: Analyzing setup Setup\n",
      "INFO 08:50PM [get_matrix]: Exporting matrix data to (C:\\Users\\BERKEL~1\\AppData\\Local\\Temp\\tmpsl1opv0r.txt, C, , Setup:LastAdaptive, \"Original\", \"ohm\", \"nH\", \"fF\", \"mSie\", 4800000000, Maxwell, 1, False\n",
      "INFO 08:50PM [get_matrix]: Exporting matrix data to (C:\\Users\\BERKEL~1\\AppData\\Local\\Temp\\tmp_xe_j6ui.txt, C, , Setup:AdaptivePass, \"Original\", \"ohm\", \"nH\", \"fF\", \"mSie\", 4800000000, Maxwell, 1, False\n",
      "INFO 08:50PM [get_matrix]: Exporting matrix data to (C:\\Users\\BERKEL~1\\AppData\\Local\\Temp\\tmp5kaam8bt.txt, C, , Setup:AdaptivePass, \"Original\", \"ohm\", \"nH\", \"fF\", \"mSie\", 4800000000, Maxwell, 2, False\n",
      "INFO 08:50PM [get_matrix]: Exporting matrix data to (C:\\Users\\BERKEL~1\\AppData\\Local\\Temp\\tmpqkpqj6vu.txt, C, , Setup:AdaptivePass, \"Original\", \"ohm\", \"nH\", \"fF\", \"mSie\", 4800000000, Maxwell, 3, False\n",
      "INFO 08:50PM [get_matrix]: Exporting matrix data to (C:\\Users\\BERKEL~1\\AppData\\Local\\Temp\\tmpmioflhpb.txt, C, , Setup:AdaptivePass, \"Original\", \"ohm\", \"nH\", \"fF\", \"mSie\", 4800000000, Maxwell, 4, False\n",
      "INFO 08:50PM [get_matrix]: Exporting matrix data to (C:\\Users\\BERKEL~1\\AppData\\Local\\Temp\\tmpguqtf1fs.txt, C, , Setup:AdaptivePass, \"Original\", \"ohm\", \"nH\", \"fF\", \"mSie\", 4800000000, Maxwell, 5, False\n",
      "INFO 08:50PM [get_matrix]: Exporting matrix data to (C:\\Users\\BERKEL~1\\AppData\\Local\\Temp\\tmp0ziobsmd.txt, C, , Setup:AdaptivePass, \"Original\", \"ohm\", \"nH\", \"fF\", \"mSie\", 4800000000, Maxwell, 6, False\n",
      "INFO 08:50PM [get_matrix]: Exporting matrix data to (C:\\Users\\BERKEL~1\\AppData\\Local\\Temp\\tmp_iaecp36.txt, C, , Setup:AdaptivePass, \"Original\", \"ohm\", \"nH\", \"fF\", \"mSie\", 4800000000, Maxwell, 7, False\n"
     ]
    },
    {
     "data": {
      "text/html": [
       "<div>\n",
       "<style scoped>\n",
       "    .dataframe tbody tr th:only-of-type {\n",
       "        vertical-align: middle;\n",
       "    }\n",
       "\n",
       "    .dataframe tbody tr th {\n",
       "        vertical-align: top;\n",
       "    }\n",
       "\n",
       "    .dataframe thead th {\n",
       "        text-align: right;\n",
       "    }\n",
       "</style>\n",
       "<table border=\"1\" class=\"dataframe\">\n",
       "  <thead>\n",
       "    <tr style=\"text-align: right;\">\n",
       "      <th></th>\n",
       "      <th>bus1_connector_pad_Q1</th>\n",
       "      <th>bus2_connector_pad_Q1</th>\n",
       "      <th>ground_main_plane</th>\n",
       "      <th>pad_bot_Q1</th>\n",
       "      <th>pad_top_Q1</th>\n",
       "      <th>readout_connector_pad_Q1</th>\n",
       "    </tr>\n",
       "  </thead>\n",
       "  <tbody>\n",
       "    <tr>\n",
       "      <th>bus1_connector_pad_Q1</th>\n",
       "      <td>49.77799</td>\n",
       "      <td>-0.42560</td>\n",
       "      <td>-33.50862</td>\n",
       "      <td>-1.57029</td>\n",
       "      <td>-13.15539</td>\n",
       "      <td>-0.20494</td>\n",
       "    </tr>\n",
       "    <tr>\n",
       "      <th>bus2_connector_pad_Q1</th>\n",
       "      <td>-0.42560</td>\n",
       "      <td>54.01890</td>\n",
       "      <td>-35.77523</td>\n",
       "      <td>-13.99741</td>\n",
       "      <td>-1.82852</td>\n",
       "      <td>-1.01319</td>\n",
       "    </tr>\n",
       "    <tr>\n",
       "      <th>ground_main_plane</th>\n",
       "      <td>-33.50862</td>\n",
       "      <td>-35.77523</td>\n",
       "      <td>237.69029</td>\n",
       "      <td>-31.53489</td>\n",
       "      <td>-37.88740</td>\n",
       "      <td>-36.55731</td>\n",
       "    </tr>\n",
       "    <tr>\n",
       "      <th>pad_bot_Q1</th>\n",
       "      <td>-1.57029</td>\n",
       "      <td>-13.99741</td>\n",
       "      <td>-31.53489</td>\n",
       "      <td>98.20670</td>\n",
       "      <td>-30.07382</td>\n",
       "      <td>-18.86490</td>\n",
       "    </tr>\n",
       "    <tr>\n",
       "      <th>pad_top_Q1</th>\n",
       "      <td>-13.15539</td>\n",
       "      <td>-1.82852</td>\n",
       "      <td>-37.88740</td>\n",
       "      <td>-30.07382</td>\n",
       "      <td>87.85082</td>\n",
       "      <td>-2.20122</td>\n",
       "    </tr>\n",
       "    <tr>\n",
       "      <th>readout_connector_pad_Q1</th>\n",
       "      <td>-0.20494</td>\n",
       "      <td>-1.01319</td>\n",
       "      <td>-36.55731</td>\n",
       "      <td>-18.86490</td>\n",
       "      <td>-2.20122</td>\n",
       "      <td>59.92353</td>\n",
       "    </tr>\n",
       "  </tbody>\n",
       "</table>\n",
       "</div>"
      ],
      "text/plain": [
       "                          bus1_connector_pad_Q1  bus2_connector_pad_Q1  \\\n",
       "bus1_connector_pad_Q1                  49.77799               -0.42560   \n",
       "bus2_connector_pad_Q1                  -0.42560               54.01890   \n",
       "ground_main_plane                     -33.50862              -35.77523   \n",
       "pad_bot_Q1                             -1.57029              -13.99741   \n",
       "pad_top_Q1                            -13.15539               -1.82852   \n",
       "readout_connector_pad_Q1               -0.20494               -1.01319   \n",
       "\n",
       "                          ground_main_plane  pad_bot_Q1  pad_top_Q1  \\\n",
       "bus1_connector_pad_Q1             -33.50862    -1.57029   -13.15539   \n",
       "bus2_connector_pad_Q1             -35.77523   -13.99741    -1.82852   \n",
       "ground_main_plane                 237.69029   -31.53489   -37.88740   \n",
       "pad_bot_Q1                        -31.53489    98.20670   -30.07382   \n",
       "pad_top_Q1                        -37.88740   -30.07382    87.85082   \n",
       "readout_connector_pad_Q1          -36.55731   -18.86490    -2.20122   \n",
       "\n",
       "                          readout_connector_pad_Q1  \n",
       "bus1_connector_pad_Q1                     -0.20494  \n",
       "bus2_connector_pad_Q1                     -1.01319  \n",
       "ground_main_plane                        -36.55731  \n",
       "pad_bot_Q1                               -18.86490  \n",
       "pad_top_Q1                                -2.20122  \n",
       "readout_connector_pad_Q1                  59.92353  "
      ]
     },
     "execution_count": 12,
     "metadata": {},
     "output_type": "execute_result"
    }
   ],
   "source": [
    "c1.sim.setup.freq_ghz = 4.8\n",
    "c1.sim.run()\n",
    "c1.sim.capacitance_matrix"
   ]
  },
  {
   "cell_type": "code",
   "execution_count": 13,
   "metadata": {},
   "outputs": [
    {
     "data": {
      "text/plain": [
       "pandas.core.frame.DataFrame"
      ]
     },
     "execution_count": 13,
     "metadata": {},
     "output_type": "execute_result"
    }
   ],
   "source": [
    "type(c1.sim.capacitance_matrix)"
   ]
  },
  {
   "cell_type": "markdown",
   "metadata": {},
   "source": [
    "### Lumped oscillator model (LOM)\n",
    "\n",
    "Using capacitance matrices obtained from each pass, save the many parameters of the Hamiltonian of the system. `get_lumped_oscillator()` operates on 4 setup parameters: <br><br>\n",
    "Lj: float <br>\n",
    "Cj: float <br>\n",
    "fr: Union[list, float] <br>\n",
    "fb: Union[list, float] <br>"
   ]
  },
  {
   "cell_type": "code",
   "execution_count": 14,
   "metadata": {},
   "outputs": [
    {
     "name": "stdout",
     "output_type": "stream",
     "text": [
      "[3, 4] [5 0 1]\n",
      "Predicted Values\n",
      "\n",
      "Transmon Properties\n",
      "f_Q 5.424935 [GHz]\n",
      "EC 311.976918 [MHz]\n",
      "EJ 13.273404 [GHz]\n",
      "alpha -363.792367 [MHz]\n",
      "dispersion 46.550314 [KHz]\n",
      "Lq 12.305036 [nH]\n",
      "Cq 62.088658 [fF]\n",
      "T1 35.336799 [us]\n",
      "\n",
      "**Coupling Properties**\n",
      "\n",
      "tCqbus1 7.383746 [fF]\n",
      "gbus1_in_MHz 114.265732 [MHz]\n",
      "χ_bus1 -3.174186 [MHz]\n",
      "1/T1bus1 2809.273359 [Hz]\n",
      "T1bus1 56.653420 [us]\n",
      "\n",
      "tCqbus2 -6.455288 [fF]\n",
      "gbus2_in_MHz -85.831896 [MHz]\n",
      "χ_bus2 -9.970481 [MHz]\n",
      "1/T1bus2 1205.470576 [Hz]\n",
      "T1bus2 132.027232 [us]\n",
      "\n",
      "tCqbus3 5.372189 [fF]\n",
      "gbus3_in_MHz 73.765138 [MHz]\n",
      "χ_bus3 -4.515409 [MHz]\n",
      "1/T1bus3 489.199420 [Hz]\n",
      "T1bus3 325.337555 [us]\n",
      "Bus-Bus Couplings\n",
      "gbus1_2 7.097125 [MHz]\n",
      "gbus1_3 9.957493 [MHz]\n",
      "gbus2_3 5.377147 [MHz]\n"
     ]
    },
    {
     "data": {
      "text/html": [
       "<div>\n",
       "<style scoped>\n",
       "    .dataframe tbody tr th:only-of-type {\n",
       "        vertical-align: middle;\n",
       "    }\n",
       "\n",
       "    .dataframe tbody tr th {\n",
       "        vertical-align: top;\n",
       "    }\n",
       "\n",
       "    .dataframe thead th {\n",
       "        text-align: right;\n",
       "    }\n",
       "</style>\n",
       "<table border=\"1\" class=\"dataframe\">\n",
       "  <thead>\n",
       "    <tr style=\"text-align: right;\">\n",
       "      <th></th>\n",
       "      <th>fQ</th>\n",
       "      <th>EC</th>\n",
       "      <th>EJ</th>\n",
       "      <th>alpha</th>\n",
       "      <th>dispersion</th>\n",
       "      <th>gbus</th>\n",
       "      <th>chi_in_MHz</th>\n",
       "      <th>χr MHz</th>\n",
       "      <th>gr MHz</th>\n",
       "    </tr>\n",
       "  </thead>\n",
       "  <tbody>\n",
       "    <tr>\n",
       "      <th>1</th>\n",
       "      <td>5.748489</td>\n",
       "      <td>353.281567</td>\n",
       "      <td>13.273404</td>\n",
       "      <td>-417.442056</td>\n",
       "      <td>135.370169</td>\n",
       "      <td>[108.79957542005573, -73.52733007390835, 76.41...</td>\n",
       "      <td>[-4.7943959017659425, -26.860775172557044, -12...</td>\n",
       "      <td>4.794396</td>\n",
       "      <td>108.799575</td>\n",
       "    </tr>\n",
       "    <tr>\n",
       "      <th>2</th>\n",
       "      <td>5.664672</td>\n",
       "      <td>342.295447</td>\n",
       "      <td>13.273404</td>\n",
       "      <td>-403.045739</td>\n",
       "      <td>103.898327</td>\n",
       "      <td>[112.48409525888225, -82.16156406673579, 68.80...</td>\n",
       "      <td>[-4.459432619242897, -22.018835553935617, -7.6...</td>\n",
       "      <td>4.459433</td>\n",
       "      <td>112.484095</td>\n",
       "    </tr>\n",
       "    <tr>\n",
       "      <th>3</th>\n",
       "      <td>5.574019</td>\n",
       "      <td>330.639518</td>\n",
       "      <td>13.273404</td>\n",
       "      <td>-387.872708</td>\n",
       "      <td>77.33065</td>\n",
       "      <td>[111.33606664467419, -84.09229880840773, 71.77...</td>\n",
       "      <td>[-3.7804610319489638, -15.865603230264805, -6....</td>\n",
       "      <td>3.780461</td>\n",
       "      <td>111.336067</td>\n",
       "    </tr>\n",
       "    <tr>\n",
       "      <th>4</th>\n",
       "      <td>5.523032</td>\n",
       "      <td>324.186368</td>\n",
       "      <td>13.273404</td>\n",
       "      <td>-379.516644</td>\n",
       "      <td>65.212187</td>\n",
       "      <td>[110.9979164488654, -84.10821840534823, 72.871...</td>\n",
       "      <td>[-3.4720731057285845, -13.185858860300666, -5....</td>\n",
       "      <td>3.472073</td>\n",
       "      <td>110.997916</td>\n",
       "    </tr>\n",
       "    <tr>\n",
       "      <th>5</th>\n",
       "      <td>5.463771</td>\n",
       "      <td>316.778212</td>\n",
       "      <td>13.273404</td>\n",
       "      <td>-369.962552</td>\n",
       "      <td>53.275072</td>\n",
       "      <td>[113.07908562313109, -84.87713624747481, 72.79...</td>\n",
       "      <td>[-3.293714791194252, -11.011714806665136, -4.8...</td>\n",
       "      <td>3.293715</td>\n",
       "      <td>113.079086</td>\n",
       "    </tr>\n",
       "    <tr>\n",
       "      <th>6</th>\n",
       "      <td>5.424935</td>\n",
       "      <td>311.976918</td>\n",
       "      <td>13.273404</td>\n",
       "      <td>-363.792367</td>\n",
       "      <td>46.550314</td>\n",
       "      <td>[114.26573185996786, -85.83189588470036, 73.76...</td>\n",
       "      <td>[-3.174186270585896, -9.970480757204722, -4.51...</td>\n",
       "      <td>3.174186</td>\n",
       "      <td>114.265732</td>\n",
       "    </tr>\n",
       "  </tbody>\n",
       "</table>\n",
       "</div>"
      ],
      "text/plain": [
       "         fQ          EC         EJ       alpha  dispersion  \\\n",
       "1  5.748489  353.281567  13.273404 -417.442056  135.370169   \n",
       "2  5.664672  342.295447  13.273404 -403.045739  103.898327   \n",
       "3  5.574019  330.639518  13.273404 -387.872708    77.33065   \n",
       "4  5.523032  324.186368  13.273404 -379.516644   65.212187   \n",
       "5  5.463771  316.778212  13.273404 -369.962552   53.275072   \n",
       "6  5.424935  311.976918  13.273404 -363.792367   46.550314   \n",
       "\n",
       "                                                gbus  \\\n",
       "1  [108.79957542005573, -73.52733007390835, 76.41...   \n",
       "2  [112.48409525888225, -82.16156406673579, 68.80...   \n",
       "3  [111.33606664467419, -84.09229880840773, 71.77...   \n",
       "4  [110.9979164488654, -84.10821840534823, 72.871...   \n",
       "5  [113.07908562313109, -84.87713624747481, 72.79...   \n",
       "6  [114.26573185996786, -85.83189588470036, 73.76...   \n",
       "\n",
       "                                          chi_in_MHz    χr MHz      gr MHz  \n",
       "1  [-4.7943959017659425, -26.860775172557044, -12...  4.794396  108.799575  \n",
       "2  [-4.459432619242897, -22.018835553935617, -7.6...  4.459433  112.484095  \n",
       "3  [-3.7804610319489638, -15.865603230264805, -6....  3.780461  111.336067  \n",
       "4  [-3.4720731057285845, -13.185858860300666, -5....  3.472073  110.997916  \n",
       "5  [-3.293714791194252, -11.011714806665136, -4.8...  3.293715  113.079086  \n",
       "6  [-3.174186270585896, -9.970480757204722, -4.51...  3.174186  114.265732  "
      ]
     },
     "execution_count": 14,
     "metadata": {},
     "output_type": "execute_result"
    }
   ],
   "source": [
    "c1.setup.junctions = Dict({'Lj': 12.31, 'Cj': 2})\n",
    "c1.setup.freq_readout = 7.0\n",
    "c1.setup.freq_bus = [6.0, 6.2]\n",
    "\n",
    "c1.run_lom()\n",
    "c1.lumped_oscillator_all"
   ]
  },
  {
   "cell_type": "code",
   "execution_count": 15,
   "metadata": {},
   "outputs": [
    {
     "name": "stderr",
     "output_type": "stream",
     "text": [
      "WARNING:py.warnings:c:\\_Lib\\envs\\qmetal\\lib\\site-packages\\pyEPR\\core_distributed_analysis.py:504: FutureWarning: The default dtype for empty Series will be 'object' instead of 'float64' in a future version. Specify a dtype explicitly to silence this warning.\n",
      "  self._hfss_variables[variation] = pd.Series(\n",
      "\n",
      "INFO 08:52PM [hfss_report_full_convergence]: Creating report for variation 0\n"
     ]
    },
    {
     "name": "stdout",
     "output_type": "stream",
     "text": [
      "Design \"Design_q3d\" info:\n",
      "\t# eigenmodes    0\n",
      "\t# variations    1\n"
     ]
    }
   ],
   "source": [
    "c1.plot_convergence();\n",
    "c1.plot_convergence_chi()"
   ]
  },
  {
   "cell_type": "markdown",
   "metadata": {},
   "source": [
    "Once you are done with your analysis, please close it with `close()`. This will free up resources currently occupied by qiskit-metal to communiate with the tool."
   ]
  },
  {
   "cell_type": "code",
   "execution_count": 16,
   "metadata": {},
   "outputs": [],
   "source": [
    "c1.sim.close()"
   ]
  },
  {
   "cell_type": "markdown",
   "metadata": {},
   "source": [
    "## 3. Directly access the renderer to modify other parameters"
   ]
  },
  {
   "cell_type": "code",
   "execution_count": 17,
   "metadata": {},
   "outputs": [
    {
     "name": "stderr",
     "output_type": "stream",
     "text": [
      "INFO 08:52PM [connect_project]: Connecting to Ansys Desktop API...\n",
      "INFO 08:52PM [load_ansys_project]: \tOpened Ansys App\n",
      "INFO 08:52PM [load_ansys_project]: \tOpened Ansys Desktop v2021.1.0\n",
      "INFO 08:52PM [load_ansys_project]: \tOpened Ansys Project\n",
      "\tFolder:    C:/Users/Berkelium/Documents/Ansoft/temp/\n",
      "\tProject:   project_cap\n",
      "INFO 08:52PM [connect_design]: \tOpened active design\n",
      "\tDesign:    Design_q3d [Solution type: Q3D]\n",
      "INFO 08:52PM [get_setup]: \tOpened setup `Setup`  (<class 'pyEPR.ansys.AnsysQ3DSetup'>)\n",
      "INFO 08:52PM [connect]: \tConnected to project \"project_cap\" and design \"Design_q3d\" 😀 \n",
      "\n"
     ]
    },
    {
     "data": {
      "text/plain": [
       "<qiskit_metal.renderers.renderer_ansys.q3d_renderer.QQ3DRenderer at 0x17508f81240>"
      ]
     },
     "execution_count": 17,
     "metadata": {},
     "output_type": "execute_result"
    }
   ],
   "source": [
    "c1.sim.start()\n",
    "c1.sim.renderer"
   ]
  },
  {
   "cell_type": "markdown",
   "metadata": {},
   "source": [
    "Every renderer will have its own collection of methods. Below an example with q3d"
   ]
  },
  {
   "cell_type": "markdown",
   "metadata": {},
   "source": [
    "##### Prepare and run a collection of predefined setups\n",
    "\n",
    "This is equivalent to going to the Project Manager panel in Ansys, right clicking on Analysis within the active Q3D design, selecting \"Add Solution Setup...\", and choosing/entering default values in the resulting popup window. You might want to do this to keep track of different solution setups, giving each of them a different/specific name."
   ]
  },
  {
   "cell_type": "code",
   "execution_count": 18,
   "metadata": {},
   "outputs": [],
   "source": [
    "setup = c1.sim.renderer.new_ansys_setup(name = \"Setup_demo\", max_passes = 6)"
   ]
  },
  {
   "cell_type": "markdown",
   "metadata": {},
   "source": [
    "You can directly pass to `new_ansys_setup` all the setup parameters. Of course you will then need to run the individual setups by name as well."
   ]
  },
  {
   "cell_type": "code",
   "execution_count": 19,
   "metadata": {},
   "outputs": [
    {
     "name": "stderr",
     "output_type": "stream",
     "text": [
      "INFO 08:52PM [get_setup]: \tOpened setup `Setup_demo`  (<class 'pyEPR.ansys.AnsysQ3DSetup'>)\n",
      "INFO 08:52PM [analyze]: Analyzing setup Setup_demo\n"
     ]
    }
   ],
   "source": [
    "c1.sim.renderer.analyze_setup(setup.name)"
   ]
  },
  {
   "cell_type": "markdown",
   "metadata": {},
   "source": [
    "##### Get the capactiance matrix at a different pass\n",
    "\n",
    "You might want to use this if you intend to know what was the matrix at a different pass of the simulation."
   ]
  },
  {
   "cell_type": "code",
   "execution_count": 20,
   "metadata": {},
   "outputs": [
    {
     "name": "stderr",
     "output_type": "stream",
     "text": [
      "INFO 08:53PM [get_matrix]: Exporting matrix data to (C:\\Users\\BERKEL~1\\AppData\\Local\\Temp\\tmpbm5m04z9.txt, C, , Setup_demo:AdaptivePass, \"Original\", \"ohm\", \"nH\", \"fF\", \"mSie\", 5000000000, Maxwell, 5, False\n"
     ]
    },
    {
     "data": {
      "text/plain": [
       "(                          bus1_connector_pad_Q1  bus2_connector_pad_Q1  \\\n",
       " bus1_connector_pad_Q1                  48.92803               -0.42235   \n",
       " bus2_connector_pad_Q1                  -0.42235               53.06961   \n",
       " ground_main_plane                     -33.01607              -35.14374   \n",
       " pad_bot_Q1                             -1.53861              -13.67515   \n",
       " pad_top_Q1                            -12.84517               -1.81368   \n",
       " readout_connector_pad_Q1               -0.20677               -0.99928   \n",
       " \n",
       "                           ground_main_plane  pad_bot_Q1  pad_top_Q1  \\\n",
       " bus1_connector_pad_Q1             -33.01607    -1.53861   -12.84517   \n",
       " bus2_connector_pad_Q1             -35.14374   -13.67515    -1.81368   \n",
       " ground_main_plane                 234.01567   -31.50558   -37.64437   \n",
       " pad_bot_Q1                        -31.50558    96.95568   -29.44070   \n",
       " pad_top_Q1                        -37.64437   -29.44070    86.62922   \n",
       " readout_connector_pad_Q1          -36.15710   -18.48102    -2.19686   \n",
       " \n",
       "                           readout_connector_pad_Q1  \n",
       " bus1_connector_pad_Q1                     -0.20677  \n",
       " bus2_connector_pad_Q1                     -0.99928  \n",
       " ground_main_plane                        -36.15710  \n",
       " pad_bot_Q1                               -18.48102  \n",
       " pad_top_Q1                                -2.19686  \n",
       " readout_connector_pad_Q1                  59.14496  ,\n",
       " 'fF')"
      ]
     },
     "execution_count": 20,
     "metadata": {},
     "output_type": "execute_result"
    }
   ],
   "source": [
    "# Using the analysis results, get its capacitance matrix as a dataframe.\n",
    "c1.sim.renderer.get_capacitance_matrix(variation = '', solution_kind = 'AdaptivePass', pass_number = 5)"
   ]
  },
  {
   "cell_type": "markdown",
   "metadata": {},
   "source": [
    "### Code to swap rows and columns in capacitance matrix\n",
    "from qiskit_metal.analyses.quantization.lumped_capacitive import df_reorder_matrix_basis\n",
    "\n",
    "df_reorder_matrix_basis(fourq_q3d.get_capacitance_matrix(), 1, 2)"
   ]
  },
  {
   "cell_type": "markdown",
   "metadata": {},
   "source": [
    "##### Close the renderer"
   ]
  },
  {
   "cell_type": "code",
   "execution_count": 21,
   "metadata": {},
   "outputs": [],
   "source": [
    "c1.sim.close()"
   ]
  },
  {
   "cell_type": "code",
   "execution_count": null,
   "metadata": {},
   "outputs": [],
   "source": []
  }
 ],
 "metadata": {
  "kernelspec": {
   "display_name": "Python 3.10.6 ('qmetal')",
   "language": "python",
   "name": "python3"
  },
  "language_info": {
   "codemirror_mode": {
    "name": "ipython",
    "version": 3
   },
   "file_extension": ".py",
   "mimetype": "text/x-python",
   "name": "python",
   "nbconvert_exporter": "python",
   "pygments_lexer": "ipython3",
   "version": "3.10.6"
  },
  "vscode": {
   "interpreter": {
    "hash": "1916451f7c1187ff7271dfeaf346b65172e65eace79f637eb86c6aea80f7f1a4"
   }
  }
 },
 "nbformat": 4,
 "nbformat_minor": 4
}
