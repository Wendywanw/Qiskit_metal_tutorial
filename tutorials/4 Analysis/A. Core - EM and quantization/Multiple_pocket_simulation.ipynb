{
 "cells": [
  {
   "cell_type": "markdown",
   "metadata": {},
   "source": [
    "# Two Qubit Design"
   ]
  },
  {
   "attachments": {},
   "cell_type": "markdown",
   "metadata": {},
   "source": [
    "## Coupled Tee Construction"
   ]
  },
  {
   "cell_type": "code",
   "execution_count": 1,
   "metadata": {},
   "outputs": [],
   "source": [
    "%reload_ext autoreload\n",
    "%autoreload 2"
   ]
  },
  {
   "cell_type": "code",
   "execution_count": 2,
   "metadata": {},
   "outputs": [],
   "source": [
    "#This imports the necessary path to draw the single pad transmon design. \n",
    "import sys\n",
    "sys.path.append('../../resources')\n",
    "from single_pad_transmon_pocket import TransmonPocket_Single\n",
    "\n",
    "import shapely\n",
    "import warnings\n",
    "from shapely.errors import ShapelyDeprecationWarning\n",
    "warnings.filterwarnings(\"ignore\", category=ShapelyDeprecationWarning)"
   ]
  },
  {
   "cell_type": "code",
   "execution_count": 7,
   "metadata": {},
   "outputs": [],
   "source": [
    "from qiskit_metal import designs, draw\n",
    "from qiskit_metal import MetalGUI, Dict, Headings\n",
    "\n",
    "from qiskit_metal.qlibrary.terminations.short_to_ground import ShortToGround\n",
    "from qiskit_metal.qlibrary.terminations.open_to_ground import OpenToGround\n",
    "\n",
    "from qiskit_metal.qlibrary.tlines.mixed_path import RouteMixed\n",
    "from qiskit_metal.qlibrary.tlines.straight_path import RouteStraight\n",
    "\n",
    "from qiskit_metal.qlibrary.couplers.coupled_line_tee import CoupledLineTee\n",
    "\n",
    "import pyEPR as epr"
   ]
  },
  {
   "cell_type": "code",
   "execution_count": 4,
   "metadata": {},
   "outputs": [],
   "source": [
    "design = designs.DesignPlanar({}, True)\n",
    "design.chips.main.size['size_x'] = '10 mm'\n",
    "design.chips.main.size['size_y'] = '10 mm'\n",
    "\n",
    "design.variables['cpw_width'] = '15 um'\n",
    "design.variables['cpw_gap'] = '9 um'\n",
    "\n",
    "gui = MetalGUI(design)"
   ]
  },
  {
   "cell_type": "code",
   "execution_count": 60,
   "metadata": {},
   "outputs": [],
   "source": [
    "design.delete_all_components()"
   ]
  },
  {
   "cell_type": "code",
   "execution_count": 107,
   "metadata": {},
   "outputs": [
    {
     "data": {
      "text/plain": [
       "False"
      ]
     },
     "execution_count": 107,
     "metadata": {},
     "output_type": "execute_result"
    }
   ],
   "source": [
    "design.delete_component('cpw_2')"
   ]
  },
  {
   "cell_type": "code",
   "execution_count": 109,
   "metadata": {},
   "outputs": [],
   "source": [
    "design.overwrite_enabled = True #This makes it possible to edit the designs later on. \n",
    "\n",
    "\n",
    "\n",
    "options = dict(pad_width = '250 um',\n",
    "pocket_width = '300 um',\n",
    "pad_pocket_distance_top = '60 um',\n",
    "pad_height = '200 um',\n",
    "connection_pads = dict(\n",
    "    a = dict(loc_W  = 1, \n",
    "             loc_H =  1, \n",
    "             pad_gap = '10 um',\n",
    "             pad_height = '20 um',\n",
    "             pad_width = '100 um',\n",
    "             pad_cpw_extent =  '10 um',\n",
    "             pocket_rise = '0 um',\n",
    "             cpw_extend = '5 um')))\n",
    "\n",
    "q1 = TransmonPocket_Single(design,'Q1',options = dict(pos_x = '1 mm', pos_y = '0', **options))\n",
    "q2 = TransmonPocket_Single(design,'Q2',options = dict(pos_x = '0.3 mm', pos_y = '-0.7', **options))\n",
    "\n",
    "gui.rebuild()\n",
    "gui.zoom_on_components(['Q1','Q2'])"
   ]
  },
  {
   "cell_type": "code",
   "execution_count": 63,
   "metadata": {},
   "outputs": [
    {
     "data": {
      "text/plain": [
       "'15 um'"
      ]
     },
     "execution_count": 63,
     "metadata": {},
     "output_type": "execute_result"
    }
   ],
   "source": [
    "design.variables['cpw_width']"
   ]
  },
  {
   "cell_type": "code",
   "execution_count": 113,
   "metadata": {},
   "outputs": [],
   "source": [
    "# design.delete_all_components()\n",
    "\n",
    "# prime_width='10um',\n",
    "#                            prime_gap='6um',\n",
    "#                            second_width='10um',\n",
    "#                            second_gap='6um',\n",
    "#                            coupling_space='3um',\n",
    "#                            coupling_length='100um',\n",
    "#                            down_length='100um',\n",
    "#                            fillet='25um',\n",
    "#                            mirror=False,\n",
    "#                            open_termination=True)\n",
    "\n",
    "TQ_options = dict(prime_width = design.variables['cpw_width'],\n",
    "               prime_gap = design.variables['cpw_gap'],\n",
    "               second_width = design.variables['cpw_width'],\n",
    "               second_gap = design.variables['cpw_gap'],\n",
    "               downlength = '30um')\n",
    "\n",
    "TQ1 = CoupledLineTee(design, 'TQ1', options=dict(pos_x='1.35 mm',\n",
    "                                             pos_y='0.5 mm',\n",
    "                                             coupling_length='200 um', **TQ_options))\n",
    "TQ2 = CoupledLineTee(design, 'TQ2', options=dict(pos_x='0.1 mm',\n",
    "                                             pos_y='0.5 mm',\n",
    "                                             coupling_length='200 um', mirror = True, **TQ_options))\n",
    "\n",
    "gui.rebuild()\n",
    "gui.autoscale()"
   ]
  },
  {
   "cell_type": "code",
   "execution_count": 70,
   "metadata": {},
   "outputs": [],
   "source": [
    "import numpy as np\n",
    "from collections import OrderedDict\n",
    "\n",
    "def pins_for_spiral(radius,gap,n,dis = (0,0),no_last = False):\n",
    "    spiral_list = OrderedDict()\n",
    "    x,y = dis\n",
    "    for step in range(n):\n",
    "        point_value = radius / 2 + step * (0 + gap)\n",
    "        spiral_list[step*4] = np.array([x+point_value, y-point_value])\n",
    "        spiral_list[step*4+1] = np.array([x-point_value, y-point_value])\n",
    "        spiral_list[step*4+2] = np.array([x-point_value, y+point_value])\n",
    "        if no_last & (step==n-1):\n",
    "            # spiral_list[step*4+3] = np.array([x+point_value + (0 + gap), y+point_value])\n",
    "            break\n",
    "        spiral_list[step*4+3] = np.array([x+point_value + (0 + gap), y+point_value])\n",
    "\n",
    "    point_value = radius / 2 + (step + 1) * (0 + gap)\n",
    "    # spiral_list[step*4+4] = np.array([-point_value, -point_value])\n",
    "    return(spiral_list)"
   ]
  },
  {
   "cell_type": "code",
   "execution_count": 110,
   "metadata": {},
   "outputs": [
    {
     "name": "stdout",
     "output_type": "stream",
     "text": [
      "OrderedDict([(0, array([ 1.2, -0.2])), (1, array([ 0.8, -0.2])), (2, array([0.8, 0.2])), (3, array([1.3, 0.2])), (4, array([ 1.3, -0.3])), (5, array([ 0.7, -0.3])), (6, array([0.7, 0.3])), (7, array([1.4, 0.3]))])\n",
      "OrderedDict([(0, array([ 0.5, -0.9])), (1, array([ 0.1, -0.9])), (2, array([ 0.1, -0.5])), (3, array([ 0.6, -0.5])), (4, array([ 0.6, -1. ])), (5, array([-5.55111512e-17, -1.00000000e+00])), (6, array([-5.55111512e-17, -4.00000000e-01]))])\n"
     ]
    }
   ],
   "source": [
    "anchors_1 = pins_for_spiral(0.4,0.1,2,dis = (1,0))\n",
    "anchors_2 = pins_for_spiral(0.4,0.1,2,dis = (0.3,-0.7),no_last=True)\n",
    "print(anchors_1)\n",
    "print(anchors_2)"
   ]
  },
  {
   "cell_type": "code",
   "execution_count": 111,
   "metadata": {},
   "outputs": [],
   "source": [
    "options_1 = Dict(total_length='4 mm',\n",
    "        hfss_wire_bonds = True,\n",
    "        q3d_wire_bonds = True,\n",
    "        fillet='20 um',\n",
    "        lead = dict(start_straight='20 um', end_straight = '0 um'),\n",
    "        anchors = anchors_1,\n",
    "        pin_inputs=Dict(\n",
    "            start_pin=Dict(component='Q1', pin='a'),\n",
    "            end_pin=Dict(component='TQ1', pin='second_end')), )\n",
    "\n",
    "options_2 = Dict(total_length='6 mm',\n",
    "        hfss_wire_bonds = True,\n",
    "        q3d_wire_bonds = True,\n",
    "        fillet='20 um',\n",
    "        lead = dict(start_straight='20 um', end_straight = '0 um'),\n",
    "        anchors = anchors_2,\n",
    "        pin_inputs=Dict(\n",
    "            start_pin=Dict(component='Q2', pin='a'),\n",
    "            end_pin=Dict(component='TQ2', pin='second_end')), )"
   ]
  },
  {
   "cell_type": "code",
   "execution_count": 112,
   "metadata": {},
   "outputs": [
    {
     "name": "stderr",
     "output_type": "stream",
     "text": [
      "01:53PM 39s WARNING [check_lengths]: For path table, component=cpw_2, key=trace has short segments that could cause issues with fillet. Values in (9-9)  are index(es) in shapely geometry.\n",
      "01:53PM 39s WARNING [check_lengths]: For path table, component=cpw_2, key=cut has short segments that could cause issues with fillet. Values in (9-9)  are index(es) in shapely geometry.\n",
      "01:53PM 39s WARNING [check_lengths]: For path table, component=cpw_2, key=trace has short segments that could cause issues with fillet. Values in (9-9)  are index(es) in shapely geometry.\n",
      "01:53PM 39s WARNING [check_lengths]: For path table, component=cpw_2, key=cut has short segments that could cause issues with fillet. Values in (9-9)  are index(es) in shapely geometry.\n"
     ]
    }
   ],
   "source": [
    "CPW1 = RouteMixed(design, 'cpw_1', options_1)\n",
    "CPW2 = RouteMixed(design, 'cpw_2', options_2)\n",
    "\n",
    "\n",
    "\n",
    "gui.rebuild()\n",
    "gui.autoscale()"
   ]
  },
  {
   "cell_type": "code",
   "execution_count": 114,
   "metadata": {},
   "outputs": [],
   "source": [
    "ops_mid = Dict(hfss_wire_bonds = True,\n",
    "               pin_inputs=Dict(\n",
    "                 start_pin=Dict(\n",
    "                     component='TQ1',\n",
    "                     pin='prime_start'),\n",
    "                 end_pin=Dict(\n",
    "                     component='TQ2',\n",
    "                     pin='prime_end')))\n",
    "\n",
    "cpw_middle = RouteStraight(design, 'cpw_middle', options=ops_mid)\n",
    "\n",
    "gui.rebuild()\n",
    "gui.autoscale()"
   ]
  },
  {
   "cell_type": "code",
   "execution_count": null,
   "metadata": {},
   "outputs": [],
   "source": []
  }
 ],
 "metadata": {
  "kernelspec": {
   "display_name": "qmetal",
   "language": "python",
   "name": "qmetal"
  },
  "language_info": {
   "codemirror_mode": {
    "name": "ipython",
    "version": 3
   },
   "file_extension": ".py",
   "mimetype": "text/x-python",
   "name": "python",
   "nbconvert_exporter": "python",
   "pygments_lexer": "ipython3",
   "version": "3.10.8"
  },
  "orig_nbformat": 4
 },
 "nbformat": 4,
 "nbformat_minor": 2
}
