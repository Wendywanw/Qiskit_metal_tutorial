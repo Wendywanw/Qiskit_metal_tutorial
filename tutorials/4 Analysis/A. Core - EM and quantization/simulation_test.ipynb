{
 "cells": [
  {
   "cell_type": "code",
   "execution_count": 1,
   "metadata": {},
   "outputs": [],
   "source": [
    "%reload_ext autoreload\n",
    "%autoreload 2"
   ]
  },
  {
   "cell_type": "code",
   "execution_count": 2,
   "metadata": {},
   "outputs": [],
   "source": [
    "import sys\n",
    "sys.path.append('../../resources')\n",
    "from single_pad_transmon_pocket import TransmonPocket_Single"
   ]
  },
  {
   "cell_type": "code",
   "execution_count": 3,
   "metadata": {},
   "outputs": [],
   "source": [
    "import qiskit_metal as metal\n",
    "from qiskit_metal import designs, draw\n",
    "from qiskit_metal import MetalGUI, Dict, Headings"
   ]
  },
  {
   "cell_type": "code",
   "execution_count": 4,
   "metadata": {},
   "outputs": [],
   "source": [
    "design = designs.DesignPlanar()\n",
    "gui = MetalGUI(design)\n",
    "\n",
    "from qiskit_metal.qlibrary.qubits.transmon_pocket import TransmonPocket\n",
    "from qiskit_metal.qlibrary.tlines.meandered import RouteMeander"
   ]
  },
  {
   "cell_type": "code",
   "execution_count": 5,
   "metadata": {},
   "outputs": [],
   "source": [
    "design.variables['cpw_width'] = '15 um'\n",
    "design.variables['cpw_gap'] = '9 um'"
   ]
  },
  {
   "cell_type": "code",
   "execution_count": 6,
   "metadata": {},
   "outputs": [
    {
     "name": "stderr",
     "output_type": "stream",
     "text": [
      "WARNING:py.warnings:c:\\_Lib\\envs\\qmetal\\lib\\site-packages\\pandas\\core\\dtypes\\cast.py:127: ShapelyDeprecationWarning: The array interface is deprecated and will no longer work in Shapely 2.0. Convert the '.coords' to a numpy array instead.\n",
      "  arr = construct_1d_object_array_from_listlike(values)\n",
      "\n"
     ]
    }
   ],
   "source": [
    "design.overwrite_enabled = True\n",
    "\n",
    "options = dict()\n",
    "\n",
    "q1 = TransmonPocket_Single(design,'Q1',options = dict(pad_width = '500um'))"
   ]
  },
  {
   "cell_type": "code",
   "execution_count": 7,
   "metadata": {},
   "outputs": [
    {
     "name": "stderr",
     "output_type": "stream",
     "text": [
      "WARNING:py.warnings:c:\\_Lib\\envs\\qmetal\\lib\\site-packages\\pandas\\core\\dtypes\\cast.py:127: ShapelyDeprecationWarning: The array interface is deprecated and will no longer work in Shapely 2.0. Convert the '.coords' to a numpy array instead.\n",
      "  arr = construct_1d_object_array_from_listlike(values)\n",
      "\n"
     ]
    }
   ],
   "source": [
    "gui.rebuild()\n",
    "gui.autoscale()"
   ]
  },
  {
   "cell_type": "code",
   "execution_count": 8,
   "metadata": {},
   "outputs": [],
   "source": [
    "from qiskit_metal.analyses.quantization import LOManalysis\n",
    "c1 = LOManalysis(design, \"q3d\")"
   ]
  },
  {
   "cell_type": "code",
   "execution_count": 9,
   "metadata": {},
   "outputs": [
    {
     "data": {
      "text/plain": [
       "{'name': 'Setup',\n",
       " 'reuse_selected_design': True,\n",
       " 'reuse_setup': True,\n",
       " 'freq_ghz': 5.0,\n",
       " 'save_fields': False,\n",
       " 'enabled': True,\n",
       " 'max_passes': 15,\n",
       " 'min_passes': 2,\n",
       " 'min_converged_passes': 2,\n",
       " 'percent_error': 0.5,\n",
       " 'percent_refinement': 30,\n",
       " 'auto_increase_solution_order': True,\n",
       " 'solution_order': 'High',\n",
       " 'solver_type': 'Iterative'}"
      ]
     },
     "execution_count": 9,
     "metadata": {},
     "output_type": "execute_result"
    }
   ],
   "source": [
    "c1.sim.setup"
   ]
  },
  {
   "cell_type": "code",
   "execution_count": 10,
   "metadata": {},
   "outputs": [
    {
     "name": "stderr",
     "output_type": "stream",
     "text": [
      "INFO 01:09PM [connect_project]: Connecting to Ansys Desktop API...\n",
      "INFO 01:09PM [load_ansys_project]: \tOpened Ansys App\n",
      "INFO 01:09PM [load_ansys_project]: \tOpened Ansys Desktop v2021.1.0\n",
      "INFO 01:09PM [load_ansys_project]: \tOpened Ansys Project\n",
      "\tFolder:    C:/Users/Berkelium/Documents/Ansoft/\n",
      "\tProject:   Project8\n",
      "INFO 01:09PM [connect_design]: No active design found (or error getting active design).\n",
      "INFO 01:09PM [connect]: \t Connected to project \"Project8\". No design detected\n",
      "INFO 01:09PM [connect_design]: \tOpened active design\n",
      "\tDesign:    Design_q3d [Solution type: Q3D]\n",
      "WARNING 01:09PM [connect_setup]: \tNo design setup detected.\n",
      "WARNING 01:09PM [connect_setup]: \tCreating Q3D default setup.\n",
      "INFO 01:09PM [get_setup]: \tOpened setup `Setup`  (<class 'pyEPR.ansys.AnsysQ3DSetup'>)\n",
      "INFO 01:09PM [get_setup]: \tOpened setup `Setup`  (<class 'pyEPR.ansys.AnsysQ3DSetup'>)\n",
      "INFO 01:09PM [analyze]: Analyzing setup Setup\n",
      "INFO 01:10PM [get_matrix]: Exporting matrix data to (C:\\Users\\BERKEL~1\\AppData\\Local\\Temp\\tmphtywi0zw.txt, C, , Setup:LastAdaptive, \"Original\", \"ohm\", \"nH\", \"fF\", \"mSie\", 5000000000, Maxwell, 1, False\n",
      "INFO 01:10PM [get_matrix]: Exporting matrix data to (C:\\Users\\BERKEL~1\\AppData\\Local\\Temp\\tmpwd_osluc.txt, C, , Setup:AdaptivePass, \"Original\", \"ohm\", \"nH\", \"fF\", \"mSie\", 5000000000, Maxwell, 1, False\n",
      "INFO 01:10PM [get_matrix]: Exporting matrix data to (C:\\Users\\BERKEL~1\\AppData\\Local\\Temp\\tmpyvbrg4iu.txt, C, , Setup:AdaptivePass, \"Original\", \"ohm\", \"nH\", \"fF\", \"mSie\", 5000000000, Maxwell, 2, False\n",
      "INFO 01:10PM [get_matrix]: Exporting matrix data to (C:\\Users\\BERKEL~1\\AppData\\Local\\Temp\\tmpiauop74u.txt, C, , Setup:AdaptivePass, \"Original\", \"ohm\", \"nH\", \"fF\", \"mSie\", 5000000000, Maxwell, 3, False\n",
      "INFO 01:10PM [get_matrix]: Exporting matrix data to (C:\\Users\\BERKEL~1\\AppData\\Local\\Temp\\tmpun8qze31.txt, C, , Setup:AdaptivePass, \"Original\", \"ohm\", \"nH\", \"fF\", \"mSie\", 5000000000, Maxwell, 4, False\n",
      "INFO 01:10PM [get_matrix]: Exporting matrix data to (C:\\Users\\BERKEL~1\\AppData\\Local\\Temp\\tmp8sy_1mxz.txt, C, , Setup:AdaptivePass, \"Original\", \"ohm\", \"nH\", \"fF\", \"mSie\", 5000000000, Maxwell, 5, False\n",
      "INFO 01:10PM [get_matrix]: Exporting matrix data to (C:\\Users\\BERKEL~1\\AppData\\Local\\Temp\\tmp7oo2ulpc.txt, C, , Setup:AdaptivePass, \"Original\", \"ohm\", \"nH\", \"fF\", \"mSie\", 5000000000, Maxwell, 6, False\n",
      "INFO 01:10PM [get_matrix]: Exporting matrix data to (C:\\Users\\BERKEL~1\\AppData\\Local\\Temp\\tmplu7kylph.txt, C, , Setup:AdaptivePass, \"Original\", \"ohm\", \"nH\", \"fF\", \"mSie\", 5000000000, Maxwell, 7, False\n",
      "INFO 01:10PM [get_matrix]: Exporting matrix data to (C:\\Users\\BERKEL~1\\AppData\\Local\\Temp\\tmp5_a80met.txt, C, , Setup:AdaptivePass, \"Original\", \"ohm\", \"nH\", \"fF\", \"mSie\", 5000000000, Maxwell, 8, False\n",
      "INFO 01:10PM [get_matrix]: Exporting matrix data to (C:\\Users\\BERKEL~1\\AppData\\Local\\Temp\\tmp7fgeefbv.txt, C, , Setup:AdaptivePass, \"Original\", \"ohm\", \"nH\", \"fF\", \"mSie\", 5000000000, Maxwell, 9, False\n",
      "INFO 01:10PM [get_matrix]: Exporting matrix data to (C:\\Users\\BERKEL~1\\AppData\\Local\\Temp\\tmpc6v22f3s.txt, C, , Setup:AdaptivePass, \"Original\", \"ohm\", \"nH\", \"fF\", \"mSie\", 5000000000, Maxwell, 10, False\n",
      "INFO 01:10PM [get_matrix]: Exporting matrix data to (C:\\Users\\BERKEL~1\\AppData\\Local\\Temp\\tmpd3idoh5v.txt, C, , Setup:AdaptivePass, \"Original\", \"ohm\", \"nH\", \"fF\", \"mSie\", 5000000000, Maxwell, 11, False\n",
      "INFO 01:10PM [get_matrix]: Exporting matrix data to (C:\\Users\\BERKEL~1\\AppData\\Local\\Temp\\tmp1zr7bl5b.txt, C, , Setup:AdaptivePass, \"Original\", \"ohm\", \"nH\", \"fF\", \"mSie\", 5000000000, Maxwell, 12, False\n",
      "INFO 01:10PM [get_matrix]: Exporting matrix data to (C:\\Users\\BERKEL~1\\AppData\\Local\\Temp\\tmpfjhr9ru6.txt, C, , Setup:AdaptivePass, \"Original\", \"ohm\", \"nH\", \"fF\", \"mSie\", 5000000000, Maxwell, 13, False\n"
     ]
    },
    {
     "data": {
      "text/html": [
       "<div>\n",
       "<style scoped>\n",
       "    .dataframe tbody tr th:only-of-type {\n",
       "        vertical-align: middle;\n",
       "    }\n",
       "\n",
       "    .dataframe tbody tr th {\n",
       "        vertical-align: top;\n",
       "    }\n",
       "\n",
       "    .dataframe thead th {\n",
       "        text-align: right;\n",
       "    }\n",
       "</style>\n",
       "<table border=\"1\" class=\"dataframe\">\n",
       "  <thead>\n",
       "    <tr style=\"text-align: right;\">\n",
       "      <th></th>\n",
       "      <th>ground_main_plane</th>\n",
       "      <th>pad_top_Q1</th>\n",
       "    </tr>\n",
       "  </thead>\n",
       "  <tbody>\n",
       "    <tr>\n",
       "      <th>ground_main_plane</th>\n",
       "      <td>159.70849</td>\n",
       "      <td>-114.59787</td>\n",
       "    </tr>\n",
       "    <tr>\n",
       "      <th>pad_top_Q1</th>\n",
       "      <td>-114.59787</td>\n",
       "      <td>118.14222</td>\n",
       "    </tr>\n",
       "  </tbody>\n",
       "</table>\n",
       "</div>"
      ],
      "text/plain": [
       "                   ground_main_plane  pad_top_Q1\n",
       "ground_main_plane          159.70849  -114.59787\n",
       "pad_top_Q1                -114.59787   118.14222"
      ]
     },
     "execution_count": 10,
     "metadata": {},
     "output_type": "execute_result"
    }
   ],
   "source": [
    "c1.sim.run(components=['Q1'])#, open_terminations=[('Q1', 'readout'), ('Q1', 'bus1'), ('Q1', 'bus2')])\n",
    "c1.sim.capacitance_matrix #455um"
   ]
  },
  {
   "cell_type": "code",
   "execution_count": 11,
   "metadata": {},
   "outputs": [
    {
     "name": "stderr",
     "output_type": "stream",
     "text": [
      "INFO 01:11PM [get_matrix]: Exporting matrix data to (C:\\Users\\BERKEL~1\\AppData\\Local\\Temp\\tmptwqx14g_.txt, C, , Setup:LastAdaptive, \"Original\", \"ohm\", \"nH\", \"fF\", \"mSie\", 5000000000, Maxwell, 1, False\n",
      "INFO 01:11PM [get_matrix]: Exporting matrix data to (C:\\Users\\BERKEL~1\\AppData\\Local\\Temp\\tmps30ju9c_.txt, C, , Setup:AdaptivePass, \"Original\", \"ohm\", \"nH\", \"fF\", \"mSie\", 5000000000, Maxwell, 1, False\n",
      "INFO 01:11PM [get_matrix]: Exporting matrix data to (C:\\Users\\BERKEL~1\\AppData\\Local\\Temp\\tmpr4hdbjog.txt, C, , Setup:AdaptivePass, \"Original\", \"ohm\", \"nH\", \"fF\", \"mSie\", 5000000000, Maxwell, 2, False\n",
      "INFO 01:11PM [get_matrix]: Exporting matrix data to (C:\\Users\\BERKEL~1\\AppData\\Local\\Temp\\tmpv7agthie.txt, C, , Setup:AdaptivePass, \"Original\", \"ohm\", \"nH\", \"fF\", \"mSie\", 5000000000, Maxwell, 3, False\n",
      "INFO 01:11PM [get_matrix]: Exporting matrix data to (C:\\Users\\BERKEL~1\\AppData\\Local\\Temp\\tmph908ve5j.txt, C, , Setup:AdaptivePass, \"Original\", \"ohm\", \"nH\", \"fF\", \"mSie\", 5000000000, Maxwell, 4, False\n",
      "INFO 01:11PM [get_matrix]: Exporting matrix data to (C:\\Users\\BERKEL~1\\AppData\\Local\\Temp\\tmpl_p588ua.txt, C, , Setup:AdaptivePass, \"Original\", \"ohm\", \"nH\", \"fF\", \"mSie\", 5000000000, Maxwell, 5, False\n",
      "INFO 01:11PM [get_matrix]: Exporting matrix data to (C:\\Users\\BERKEL~1\\AppData\\Local\\Temp\\tmp9nlbi2hb.txt, C, , Setup:AdaptivePass, \"Original\", \"ohm\", \"nH\", \"fF\", \"mSie\", 5000000000, Maxwell, 6, False\n",
      "INFO 01:11PM [get_matrix]: Exporting matrix data to (C:\\Users\\BERKEL~1\\AppData\\Local\\Temp\\tmpa6rifnrx.txt, C, , Setup:AdaptivePass, \"Original\", \"ohm\", \"nH\", \"fF\", \"mSie\", 5000000000, Maxwell, 7, False\n",
      "INFO 01:11PM [get_matrix]: Exporting matrix data to (C:\\Users\\BERKEL~1\\AppData\\Local\\Temp\\tmp0k27bqoy.txt, C, , Setup:AdaptivePass, \"Original\", \"ohm\", \"nH\", \"fF\", \"mSie\", 5000000000, Maxwell, 8, False\n",
      "INFO 01:11PM [get_matrix]: Exporting matrix data to (C:\\Users\\BERKEL~1\\AppData\\Local\\Temp\\tmp2_bab2gw.txt, C, , Setup:AdaptivePass, \"Original\", \"ohm\", \"nH\", \"fF\", \"mSie\", 5000000000, Maxwell, 9, False\n",
      "INFO 01:11PM [get_matrix]: Exporting matrix data to (C:\\Users\\BERKEL~1\\AppData\\Local\\Temp\\tmpnr_spl4o.txt, C, , Setup:AdaptivePass, \"Original\", \"ohm\", \"nH\", \"fF\", \"mSie\", 5000000000, Maxwell, 10, False\n",
      "INFO 01:11PM [get_matrix]: Exporting matrix data to (C:\\Users\\BERKEL~1\\AppData\\Local\\Temp\\tmptidi7y93.txt, C, , Setup:AdaptivePass, \"Original\", \"ohm\", \"nH\", \"fF\", \"mSie\", 5000000000, Maxwell, 11, False\n",
      "INFO 01:11PM [get_matrix]: Exporting matrix data to (C:\\Users\\BERKEL~1\\AppData\\Local\\Temp\\tmpolgo22r_.txt, C, , Setup:AdaptivePass, \"Original\", \"ohm\", \"nH\", \"fF\", \"mSie\", 5000000000, Maxwell, 12, False\n",
      "INFO 01:11PM [get_matrix]: Exporting matrix data to (C:\\Users\\BERKEL~1\\AppData\\Local\\Temp\\tmppar1jw7n.txt, C, , Setup:AdaptivePass, \"Original\", \"ohm\", \"nH\", \"fF\", \"mSie\", 5000000000, Maxwell, 13, False\n"
     ]
    }
   ],
   "source": [
    "c1.sim._get_results_from_renderer()\n",
    "c_mat = c1.sim.capacitance_matrix"
   ]
  },
  {
   "cell_type": "code",
   "execution_count": 18,
   "metadata": {},
   "outputs": [],
   "source": [
    "cap = -c_mat['ground_main_plane']['pad_top_Q1']"
   ]
  },
  {
   "cell_type": "code",
   "execution_count": null,
   "metadata": {},
   "outputs": [],
   "source": [
    "Ejs = []"
   ]
  },
  {
   "cell_type": "code",
   "execution_count": 4,
   "metadata": {},
   "outputs": [],
   "source": [
    "import numpy as np\n",
    "import scipy.linalg as la\n",
    "import qutip as q\n",
    "import astropy.units as u\n",
    "import astropy.constants as con"
   ]
  },
  {
   "cell_type": "code",
   "execution_count": 6,
   "metadata": {},
   "outputs": [],
   "source": [
    "## Default constant\n",
    "eq = 1.602e-19*u.C \n",
    "epsilon = con.eps0\n",
    "h = 6.636/10**34\n",
    "hbar = con.hbar\n",
    "kb = con.k_B\n",
    "Tc = 1.2\n",
    "delta = 1.764*kb*Tc\n",
    "phi0 = con.h/2/eq\n",
    "dielectric = 9.34*epsilon"
   ]
  },
  {
   "cell_type": "code",
   "execution_count": 8,
   "metadata": {},
   "outputs": [
    {
     "data": {
      "text/latex": [
       "$\\mathrm{fF}$"
      ],
      "text/plain": [
       "Unit(\"fF\")"
      ]
     },
     "execution_count": 8,
     "metadata": {},
     "output_type": "execute_result"
    }
   ],
   "source": [
    "u.fF"
   ]
  },
  {
   "cell_type": "code",
   "execution_count": null,
   "metadata": {},
   "outputs": [],
   "source": [
    "import numpy as np\n",
    "import scipy.linalg as la\n",
    "import qutip as q\n",
    "import astropy.units as u\n",
    "import astropy.constants as con\n",
    "\n",
    "class Single_Transmon_Circuit:\n",
    "    ## Default constant\n",
    "    eq = 1.602e-19*u.C \n",
    "    epsilon = con.eps0\n",
    "    h = 6.636/10**34\n",
    "    hbar = con.hbar\n",
    "    kb = con.k_B\n",
    "    Tc = 1.2\n",
    "    delta = 1.764*kb*Tc\n",
    "    phi0 = con.h/2/eq\n",
    "    dielectric = 9.34*epsilon\n",
    "    def __init__(self,cap_mat,pad_name,CPW_name,ground_plane_name = 'ground_main_plane') -> None:\n",
    "        self.c_couple = -cap_mat[pad_name][CPW_name]*u.fF\n",
    "        self.c_to_ground = cap_mat[pad_name][pad_name]\n",
    "        self.c_CPW = cap_mat[CPW_name][CPW_name]"
   ]
  }
 ],
 "metadata": {
  "kernelspec": {
   "display_name": "Python 3.8.11 ('base')",
   "language": "python",
   "name": "python3"
  },
  "language_info": {
   "codemirror_mode": {
    "name": "ipython",
    "version": 3
   },
   "file_extension": ".py",
   "mimetype": "text/x-python",
   "name": "python",
   "nbconvert_exporter": "python",
   "pygments_lexer": "ipython3",
   "version": "3.8.11"
  },
  "orig_nbformat": 4,
  "vscode": {
   "interpreter": {
    "hash": "0bcb55c05498582b3be6be80d3c0e4106f7faec13eb9977b9ab58fbea281cbfd"
   }
  }
 },
 "nbformat": 4,
 "nbformat_minor": 2
}
