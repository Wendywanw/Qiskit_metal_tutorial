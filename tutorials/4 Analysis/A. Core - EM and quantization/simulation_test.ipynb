{
 "cells": [
  {
   "cell_type": "code",
   "execution_count": 14,
   "metadata": {},
   "outputs": [],
   "source": [
    "%reload_ext autoreload\n",
    "%autoreload 2"
   ]
  },
  {
   "cell_type": "code",
   "execution_count": 15,
   "metadata": {},
   "outputs": [],
   "source": [
    "import sys\n",
    "sys.path.append('../../resources')\n",
    "from single_pad_transmon_pocket import TransmonPocket_Single"
   ]
  },
  {
   "cell_type": "code",
   "execution_count": 16,
   "metadata": {},
   "outputs": [],
   "source": [
    "import qiskit_metal as metal\n",
    "from qiskit_metal import designs, draw\n",
    "from qiskit_metal import MetalGUI, Dict, Headings"
   ]
  },
  {
   "cell_type": "code",
   "execution_count": 17,
   "metadata": {},
   "outputs": [],
   "source": [
    "design = designs.DesignPlanar()\n",
    "gui = MetalGUI(design)\n",
    "\n",
    "from qiskit_metal.qlibrary.qubits.transmon_pocket import TransmonPocket\n",
    "from qiskit_metal.qlibrary.tlines.meandered import RouteMeander"
   ]
  },
  {
   "cell_type": "code",
   "execution_count": 18,
   "metadata": {},
   "outputs": [],
   "source": [
    "design.variables['cpw_width'] = '15 um'\n",
    "design.variables['cpw_gap'] = '9 um'"
   ]
  },
  {
   "cell_type": "code",
   "execution_count": 21,
   "metadata": {},
   "outputs": [
    {
     "name": "stderr",
     "output_type": "stream",
     "text": [
      "WARNING:py.warnings:c:\\_Lib\\envs\\qmetal\\lib\\site-packages\\pandas\\core\\dtypes\\cast.py:127: ShapelyDeprecationWarning: The array interface is deprecated and will no longer work in Shapely 2.0. Convert the '.coords' to a numpy array instead.\n",
      "  arr = construct_1d_object_array_from_listlike(values)\n",
      "\n"
     ]
    }
   ],
   "source": [
    "design.overwrite_enabled = True\n",
    "\n",
    "options = dict()\n",
    "\n",
    "q1 = TransmonPocket_Single(design,'Q1',options = dict(pad_width = '500um'))"
   ]
  },
  {
   "cell_type": "code",
   "execution_count": null,
   "metadata": {},
   "outputs": [
    {
     "name": "stderr",
     "output_type": "stream",
     "text": [
      "WARNING:py.warnings:c:\\_Lib\\envs\\qmetal\\lib\\site-packages\\pandas\\core\\dtypes\\cast.py:127: ShapelyDeprecationWarning: The array interface is deprecated and will no longer work in Shapely 2.0. Convert the '.coords' to a numpy array instead.\n",
      "  arr = construct_1d_object_array_from_listlike(values)\n",
      "\n"
     ]
    },
    {
     "name": "stderr",
     "output_type": "stream",
     "text": [
      "ocuments\\qiskit-metal\\qiskit_metal\\_gui\\styles\\metal_dark\\rc\\transparent.pnge  WARNING: Could not create pixmap from c:\\users�rkelium\n",
      "\n",
      "ocuments\\qiskit-metal\\qiskit_metal\\_gui\\styles\\metal_dark\\rc\\transparent.pnge  WARNING: Could not create pixmap from c:\\users�rkelium\n",
      "\n",
      "ocuments\\qiskit-metal\\qiskit_metal\\_gui\\styles\\metal_dark\\rc\\transparent.pnge  WARNING: Could not create pixmap from c:\\users�rkelium\n",
      "\n",
      "ocuments\\qiskit-metal\\qiskit_metal\\_gui\\styles\\metal_dark\\rc\\transparent.pnge  WARNING: Could not create pixmap from c:\\users�rkelium\n",
      "\n",
      "ocuments\\qiskit-metal\\qiskit_metal\\_gui\\styles\\metal_dark\\rc\\transparent.pnge  WARNING: Could not create pixmap from c:\\users�rkelium\n",
      "\n",
      "ocuments\\qiskit-metal\\qiskit_metal\\_gui\\styles\\metal_dark\\rc\\transparent.pnge  WARNING: Could not create pixmap from c:\\users�rkelium\n",
      "\n",
      "ocuments\\qiskit-metal\\qiskit_metal\\_gui\\styles\\metal_dark\\rc\\transparent.pnge  WARNING: Could not create pixmap from c:\\users�rkelium\n",
      "\n",
      "ocuments\\qiskit-metal\\qiskit_metal\\_gui\\styles\\metal_dark\\rc\\transparent.pnge  WARNING: Could not create pixmap from c:\\users�rkelium\n",
      "\n",
      "ocuments\\qiskit-metal\\qiskit_metal\\_gui\\styles\\metal_dark\\rc\\transparent.pnge  WARNING: Could not create pixmap from c:\\users�rkelium\n",
      "\n",
      "ocuments\\qiskit-metal\\qiskit_metal\\_gui\\styles\\metal_dark\\rc\\transparent.pnge  WARNING: Could not create pixmap from c:\\users�rkelium\n",
      "\n",
      "ocuments\\qiskit-metal\\qiskit_metal\\_gui\\styles\\metal_dark\\rc\\transparent.pnge  WARNING: Could not create pixmap from c:\\users�rkelium\n",
      "\n",
      "ocuments\\qiskit-metal\\qiskit_metal\\_gui\\styles\\metal_dark\\rc\\transparent.pnge  WARNING: Could not create pixmap from c:\\users�rkelium\n",
      "\n"
     ]
    }
   ],
   "source": [
    "gui.rebuild()\n",
    "gui.autoscale()"
   ]
  },
  {
   "cell_type": "code",
   "execution_count": 23,
   "metadata": {},
   "outputs": [],
   "source": [
    "from qiskit_metal.analyses.quantization import LOManalysis\n",
    "c1 = LOManalysis(design, \"q3d\")"
   ]
  },
  {
   "cell_type": "code",
   "execution_count": 24,
   "metadata": {},
   "outputs": [
    {
     "data": {
      "text/plain": [
       "{'name': 'Setup',\n",
       " 'reuse_selected_design': True,\n",
       " 'reuse_setup': True,\n",
       " 'freq_ghz': 5.0,\n",
       " 'save_fields': False,\n",
       " 'enabled': True,\n",
       " 'max_passes': 15,\n",
       " 'min_passes': 2,\n",
       " 'min_converged_passes': 2,\n",
       " 'percent_error': 0.5,\n",
       " 'percent_refinement': 30,\n",
       " 'auto_increase_solution_order': True,\n",
       " 'solution_order': 'High',\n",
       " 'solver_type': 'Iterative'}"
      ]
     },
     "execution_count": 24,
     "metadata": {},
     "output_type": "execute_result"
    }
   ],
   "source": [
    "c1.sim.setup"
   ]
  },
  {
   "cell_type": "code",
   "execution_count": 10,
   "metadata": {},
   "outputs": [
    {
     "name": "stderr",
     "output_type": "stream",
     "text": [
      "INFO 10:34PM [connect_project]: Connecting to Ansys Desktop API...\n",
      "INFO 10:34PM [load_ansys_project]: \tOpened Ansys App\n",
      "INFO 10:34PM [load_ansys_project]: \tOpened Ansys Desktop v2021.1.0\n",
      "INFO 10:34PM [load_ansys_project]: \tOpened Ansys Project\n",
      "\tFolder:    C:/Users/Berkelium/Documents/Ansoft/\n",
      "\tProject:   Project4\n",
      "INFO 10:34PM [connect_design]: No active design found (or error getting active design).\n",
      "INFO 10:34PM [connect]: \t Connected to project \"Project4\". No design detected\n",
      "INFO 10:34PM [connect_design]: \tOpened active design\n",
      "\tDesign:    Design_q3d [Solution type: Q3D]\n",
      "WARNING 10:34PM [connect_setup]: \tNo design setup detected.\n",
      "WARNING 10:34PM [connect_setup]: \tCreating Q3D default setup.\n",
      "INFO 10:34PM [get_setup]: \tOpened setup `Setup`  (<class 'pyEPR.ansys.AnsysQ3DSetup'>)\n",
      "INFO 10:34PM [get_setup]: \tOpened setup `Setup`  (<class 'pyEPR.ansys.AnsysQ3DSetup'>)\n",
      "INFO 10:34PM [analyze]: Analyzing setup Setup\n",
      "INFO 10:35PM [get_matrix]: Exporting matrix data to (C:\\Users\\BERKEL~1\\AppData\\Local\\Temp\\tmp8fl28jwj.txt, C, , Setup:LastAdaptive, \"Original\", \"ohm\", \"nH\", \"fF\", \"mSie\", 5000000000, Maxwell, 1, False\n",
      "INFO 10:35PM [get_matrix]: Exporting matrix data to (C:\\Users\\BERKEL~1\\AppData\\Local\\Temp\\tmpf6ik4iwy.txt, C, , Setup:AdaptivePass, \"Original\", \"ohm\", \"nH\", \"fF\", \"mSie\", 5000000000, Maxwell, 1, False\n",
      "INFO 10:35PM [get_matrix]: Exporting matrix data to (C:\\Users\\BERKEL~1\\AppData\\Local\\Temp\\tmplts2c_1q.txt, C, , Setup:AdaptivePass, \"Original\", \"ohm\", \"nH\", \"fF\", \"mSie\", 5000000000, Maxwell, 2, False\n",
      "INFO 10:35PM [get_matrix]: Exporting matrix data to (C:\\Users\\BERKEL~1\\AppData\\Local\\Temp\\tmpiy38ky6p.txt, C, , Setup:AdaptivePass, \"Original\", \"ohm\", \"nH\", \"fF\", \"mSie\", 5000000000, Maxwell, 3, False\n",
      "INFO 10:35PM [get_matrix]: Exporting matrix data to (C:\\Users\\BERKEL~1\\AppData\\Local\\Temp\\tmpj9ph2q5h.txt, C, , Setup:AdaptivePass, \"Original\", \"ohm\", \"nH\", \"fF\", \"mSie\", 5000000000, Maxwell, 4, False\n",
      "INFO 10:35PM [get_matrix]: Exporting matrix data to (C:\\Users\\BERKEL~1\\AppData\\Local\\Temp\\tmpmm963sdu.txt, C, , Setup:AdaptivePass, \"Original\", \"ohm\", \"nH\", \"fF\", \"mSie\", 5000000000, Maxwell, 5, False\n",
      "INFO 10:35PM [get_matrix]: Exporting matrix data to (C:\\Users\\BERKEL~1\\AppData\\Local\\Temp\\tmpra_bzxne.txt, C, , Setup:AdaptivePass, \"Original\", \"ohm\", \"nH\", \"fF\", \"mSie\", 5000000000, Maxwell, 6, False\n",
      "INFO 10:35PM [get_matrix]: Exporting matrix data to (C:\\Users\\BERKEL~1\\AppData\\Local\\Temp\\tmpl0vlrh03.txt, C, , Setup:AdaptivePass, \"Original\", \"ohm\", \"nH\", \"fF\", \"mSie\", 5000000000, Maxwell, 7, False\n",
      "INFO 10:35PM [get_matrix]: Exporting matrix data to (C:\\Users\\BERKEL~1\\AppData\\Local\\Temp\\tmpied92u_c.txt, C, , Setup:AdaptivePass, \"Original\", \"ohm\", \"nH\", \"fF\", \"mSie\", 5000000000, Maxwell, 8, False\n",
      "INFO 10:35PM [get_matrix]: Exporting matrix data to (C:\\Users\\BERKEL~1\\AppData\\Local\\Temp\\tmpv70_j2ck.txt, C, , Setup:AdaptivePass, \"Original\", \"ohm\", \"nH\", \"fF\", \"mSie\", 5000000000, Maxwell, 9, False\n",
      "INFO 10:35PM [get_matrix]: Exporting matrix data to (C:\\Users\\BERKEL~1\\AppData\\Local\\Temp\\tmp9_f3eznd.txt, C, , Setup:AdaptivePass, \"Original\", \"ohm\", \"nH\", \"fF\", \"mSie\", 5000000000, Maxwell, 10, False\n",
      "INFO 10:35PM [get_matrix]: Exporting matrix data to (C:\\Users\\BERKEL~1\\AppData\\Local\\Temp\\tmptsqn0g4_.txt, C, , Setup:AdaptivePass, \"Original\", \"ohm\", \"nH\", \"fF\", \"mSie\", 5000000000, Maxwell, 11, False\n",
      "INFO 10:35PM [get_matrix]: Exporting matrix data to (C:\\Users\\BERKEL~1\\AppData\\Local\\Temp\\tmpnjjzta1x.txt, C, , Setup:AdaptivePass, \"Original\", \"ohm\", \"nH\", \"fF\", \"mSie\", 5000000000, Maxwell, 12, False\n"
     ]
    },
    {
     "data": {
      "text/html": [
       "<div>\n",
       "<style scoped>\n",
       "    .dataframe tbody tr th:only-of-type {\n",
       "        vertical-align: middle;\n",
       "    }\n",
       "\n",
       "    .dataframe tbody tr th {\n",
       "        vertical-align: top;\n",
       "    }\n",
       "\n",
       "    .dataframe thead th {\n",
       "        text-align: right;\n",
       "    }\n",
       "</style>\n",
       "<table border=\"1\" class=\"dataframe\">\n",
       "  <thead>\n",
       "    <tr style=\"text-align: right;\">\n",
       "      <th></th>\n",
       "      <th>ground_main_plane</th>\n",
       "      <th>pad_top_Q1</th>\n",
       "    </tr>\n",
       "  </thead>\n",
       "  <tbody>\n",
       "    <tr>\n",
       "      <th>ground_main_plane</th>\n",
       "      <td>150.56855</td>\n",
       "      <td>-105.22016</td>\n",
       "    </tr>\n",
       "    <tr>\n",
       "      <th>pad_top_Q1</th>\n",
       "      <td>-105.22016</td>\n",
       "      <td>108.50586</td>\n",
       "    </tr>\n",
       "  </tbody>\n",
       "</table>\n",
       "</div>"
      ],
      "text/plain": [
       "                   ground_main_plane  pad_top_Q1\n",
       "ground_main_plane          150.56855  -105.22016\n",
       "pad_top_Q1                -105.22016   108.50586"
      ]
     },
     "execution_count": 10,
     "metadata": {},
     "output_type": "execute_result"
    }
   ],
   "source": [
    "c1.sim.run(components=['Q1'])#, open_terminations=[('Q1', 'readout'), ('Q1', 'bus1'), ('Q1', 'bus2')])\n",
    "c1.sim.capacitance_matrix #455um"
   ]
  },
  {
   "cell_type": "code",
   "execution_count": 26,
   "metadata": {},
   "outputs": [
    {
     "name": "stderr",
     "output_type": "stream",
     "text": [
      "INFO 04:37PM [connect_design]: \tOpened active design\n",
      "\tDesign:    Design_q3d [Solution type: Q3D]\n",
      "INFO 04:37PM [get_setup]: \tOpened setup `Setup`  (<class 'pyEPR.ansys.AnsysQ3DSetup'>)\n",
      "INFO 04:37PM [analyze]: Analyzing setup Setup\n",
      "INFO 04:38PM [get_matrix]: Exporting matrix data to (C:\\Users\\BERKEL~1\\AppData\\Local\\Temp\\tmpu1n9co6y.txt, C, , Setup:LastAdaptive, \"Original\", \"ohm\", \"nH\", \"fF\", \"mSie\", 5000000000, Maxwell, 1, False\n",
      "INFO 04:38PM [get_matrix]: Exporting matrix data to (C:\\Users\\BERKEL~1\\AppData\\Local\\Temp\\tmp47dgj6ou.txt, C, , Setup:AdaptivePass, \"Original\", \"ohm\", \"nH\", \"fF\", \"mSie\", 5000000000, Maxwell, 1, False\n",
      "INFO 04:38PM [get_matrix]: Exporting matrix data to (C:\\Users\\BERKEL~1\\AppData\\Local\\Temp\\tmp7ujq486b.txt, C, , Setup:AdaptivePass, \"Original\", \"ohm\", \"nH\", \"fF\", \"mSie\", 5000000000, Maxwell, 2, False\n",
      "INFO 04:38PM [get_matrix]: Exporting matrix data to (C:\\Users\\BERKEL~1\\AppData\\Local\\Temp\\tmphyenrs8o.txt, C, , Setup:AdaptivePass, \"Original\", \"ohm\", \"nH\", \"fF\", \"mSie\", 5000000000, Maxwell, 3, False\n",
      "INFO 04:38PM [get_matrix]: Exporting matrix data to (C:\\Users\\BERKEL~1\\AppData\\Local\\Temp\\tmp3leyjsvj.txt, C, , Setup:AdaptivePass, \"Original\", \"ohm\", \"nH\", \"fF\", \"mSie\", 5000000000, Maxwell, 4, False\n",
      "INFO 04:38PM [get_matrix]: Exporting matrix data to (C:\\Users\\BERKEL~1\\AppData\\Local\\Temp\\tmppbvsmsbk.txt, C, , Setup:AdaptivePass, \"Original\", \"ohm\", \"nH\", \"fF\", \"mSie\", 5000000000, Maxwell, 5, False\n",
      "INFO 04:38PM [get_matrix]: Exporting matrix data to (C:\\Users\\BERKEL~1\\AppData\\Local\\Temp\\tmpmfuxm0w8.txt, C, , Setup:AdaptivePass, \"Original\", \"ohm\", \"nH\", \"fF\", \"mSie\", 5000000000, Maxwell, 6, False\n",
      "INFO 04:38PM [get_matrix]: Exporting matrix data to (C:\\Users\\BERKEL~1\\AppData\\Local\\Temp\\tmpmh7y67_u.txt, C, , Setup:AdaptivePass, \"Original\", \"ohm\", \"nH\", \"fF\", \"mSie\", 5000000000, Maxwell, 7, False\n",
      "INFO 04:38PM [get_matrix]: Exporting matrix data to (C:\\Users\\BERKEL~1\\AppData\\Local\\Temp\\tmpdihwx2yx.txt, C, , Setup:AdaptivePass, \"Original\", \"ohm\", \"nH\", \"fF\", \"mSie\", 5000000000, Maxwell, 8, False\n",
      "INFO 04:38PM [get_matrix]: Exporting matrix data to (C:\\Users\\BERKEL~1\\AppData\\Local\\Temp\\tmp7726xyc2.txt, C, , Setup:AdaptivePass, \"Original\", \"ohm\", \"nH\", \"fF\", \"mSie\", 5000000000, Maxwell, 9, False\n",
      "INFO 04:38PM [get_matrix]: Exporting matrix data to (C:\\Users\\BERKEL~1\\AppData\\Local\\Temp\\tmpifnrr7u1.txt, C, , Setup:AdaptivePass, \"Original\", \"ohm\", \"nH\", \"fF\", \"mSie\", 5000000000, Maxwell, 10, False\n",
      "INFO 04:38PM [get_matrix]: Exporting matrix data to (C:\\Users\\BERKEL~1\\AppData\\Local\\Temp\\tmpbn6pj0z9.txt, C, , Setup:AdaptivePass, \"Original\", \"ohm\", \"nH\", \"fF\", \"mSie\", 5000000000, Maxwell, 11, False\n",
      "INFO 04:38PM [get_matrix]: Exporting matrix data to (C:\\Users\\BERKEL~1\\AppData\\Local\\Temp\\tmprp0x0h02.txt, C, , Setup:AdaptivePass, \"Original\", \"ohm\", \"nH\", \"fF\", \"mSie\", 5000000000, Maxwell, 12, False\n",
      "INFO 04:38PM [get_matrix]: Exporting matrix data to (C:\\Users\\BERKEL~1\\AppData\\Local\\Temp\\tmpmo9vxui1.txt, C, , Setup:AdaptivePass, \"Original\", \"ohm\", \"nH\", \"fF\", \"mSie\", 5000000000, Maxwell, 13, False\n"
     ]
    },
    {
     "data": {
      "text/html": [
       "<div>\n",
       "<style scoped>\n",
       "    .dataframe tbody tr th:only-of-type {\n",
       "        vertical-align: middle;\n",
       "    }\n",
       "\n",
       "    .dataframe tbody tr th {\n",
       "        vertical-align: top;\n",
       "    }\n",
       "\n",
       "    .dataframe thead th {\n",
       "        text-align: right;\n",
       "    }\n",
       "</style>\n",
       "<table border=\"1\" class=\"dataframe\">\n",
       "  <thead>\n",
       "    <tr style=\"text-align: right;\">\n",
       "      <th></th>\n",
       "      <th>ground_main_plane</th>\n",
       "      <th>pad_top_Q1</th>\n",
       "    </tr>\n",
       "  </thead>\n",
       "  <tbody>\n",
       "    <tr>\n",
       "      <th>ground_main_plane</th>\n",
       "      <td>159.70849</td>\n",
       "      <td>-114.59787</td>\n",
       "    </tr>\n",
       "    <tr>\n",
       "      <th>pad_top_Q1</th>\n",
       "      <td>-114.59787</td>\n",
       "      <td>118.14222</td>\n",
       "    </tr>\n",
       "  </tbody>\n",
       "</table>\n",
       "</div>"
      ],
      "text/plain": [
       "                   ground_main_plane  pad_top_Q1\n",
       "ground_main_plane          159.70849  -114.59787\n",
       "pad_top_Q1                -114.59787   118.14222"
      ]
     },
     "execution_count": 26,
     "metadata": {},
     "output_type": "execute_result"
    }
   ],
   "source": [
    "c1.sim.run(components=['Q1'])#, open_terminations=[('Q1', 'readout'), ('Q1', 'bus1'), ('Q1', 'bus2')])\n",
    "c1.sim.capacitance_matrix #500um"
   ]
  },
  {
   "cell_type": "code",
   "execution_count": 12,
   "metadata": {},
   "outputs": [
    {
     "ename": "ValueError",
     "evalue": "Capacitance matrix is not the right size",
     "output_type": "error",
     "traceback": [
      "\u001b[1;31m---------------------------------------------------------------------------\u001b[0m",
      "\u001b[1;31mValueError\u001b[0m                                Traceback (most recent call last)",
      "Cell \u001b[1;32mIn [12], line 4\u001b[0m\n\u001b[0;32m      1\u001b[0m c1\u001b[39m.\u001b[39msetup\u001b[39m.\u001b[39mjunctions \u001b[39m=\u001b[39m Dict({\u001b[39m'\u001b[39m\u001b[39mLj\u001b[39m\u001b[39m'\u001b[39m: \u001b[39m12.31\u001b[39m, \u001b[39m'\u001b[39m\u001b[39mCj\u001b[39m\u001b[39m'\u001b[39m: \u001b[39m2\u001b[39m})\n\u001b[1;32m----> 4\u001b[0m c1\u001b[39m.\u001b[39;49mrun_lom()\n\u001b[0;32m      5\u001b[0m c1\u001b[39m.\u001b[39mlumped_oscillator_all\n",
      "File \u001b[1;32mc:\\users\\berkelium\\documents\\qiskit-metal\\qiskit_metal\\analyses\\quantization\\lumped_oscillator_model.py:171\u001b[0m, in \u001b[0;36mLOManalysis.run_lom\u001b[1;34m(self)\u001b[0m\n\u001b[0;32m    169\u001b[0m all_res \u001b[39m=\u001b[39m {}\n\u001b[0;32m    170\u001b[0m \u001b[39mfor\u001b[39;00m idx_cmat, df_cmat \u001b[39min\u001b[39;00m \u001b[39mself\u001b[39m\u001b[39m.\u001b[39msim\u001b[39m.\u001b[39mcapacitance_all_passes\u001b[39m.\u001b[39mitems():\n\u001b[1;32m--> 171\u001b[0m     res \u001b[39m=\u001b[39m extract_transmon_coupled_Noscillator(\n\u001b[0;32m    172\u001b[0m         df_cmat,\n\u001b[0;32m    173\u001b[0m         ic_amps,\n\u001b[0;32m    174\u001b[0m         cj,\n\u001b[0;32m    175\u001b[0m         num_cpads,\n\u001b[0;32m    176\u001b[0m         fbus,\n\u001b[0;32m    177\u001b[0m         fread,\n\u001b[0;32m    178\u001b[0m         g_scale\u001b[39m=\u001b[39;49m\u001b[39m1\u001b[39;49m,\n\u001b[0;32m    179\u001b[0m         print_info\u001b[39m=\u001b[39;49m\u001b[39mbool\u001b[39;49m(\n\u001b[0;32m    180\u001b[0m             idx_cmat \u001b[39m==\u001b[39;49m \u001b[39mlen\u001b[39;49m(\u001b[39mself\u001b[39;49m\u001b[39m.\u001b[39;49msim\u001b[39m.\u001b[39;49mcapacitance_all_passes)))\n\u001b[0;32m    181\u001b[0m     all_res[idx_cmat] \u001b[39m=\u001b[39m res\n\u001b[0;32m    182\u001b[0m \u001b[39mself\u001b[39m\u001b[39m.\u001b[39mlumped_oscillator \u001b[39m=\u001b[39m all_res[\u001b[39mlen\u001b[39m(\u001b[39mself\u001b[39m\u001b[39m.\u001b[39msim\u001b[39m.\u001b[39mcapacitance_all_passes)]\n",
      "File \u001b[1;32mc:\\users\\berkelium\\documents\\qiskit-metal\\qiskit_metal\\analyses\\quantization\\lumped_capacitive.py:198\u001b[0m, in \u001b[0;36mextract_transmon_coupled_Noscillator\u001b[1;34m(capMatrix, Ic, CJ, N, fb, fr, res_L4_corr, g_scale, print_info)\u001b[0m\n\u001b[0;32m    196\u001b[0m     \u001b[39mraise\u001b[39;00m \u001b[39mValueError\u001b[39;00m(\u001b[39m'\u001b[39m\u001b[39mN must positive\u001b[39m\u001b[39m'\u001b[39m)\n\u001b[0;32m    197\u001b[0m \u001b[39mif\u001b[39;00m \u001b[39mlen\u001b[39m(capMatrix) \u001b[39m!=\u001b[39m (N \u001b[39m+\u001b[39m \u001b[39m3\u001b[39m):\n\u001b[1;32m--> 198\u001b[0m     \u001b[39mraise\u001b[39;00m \u001b[39mValueError\u001b[39;00m(\u001b[39m'\u001b[39m\u001b[39mCapacitance matrix is not the right size\u001b[39m\u001b[39m'\u001b[39m)\n\u001b[0;32m    200\u001b[0m \u001b[39m# make list of angular frequencies of resonators\u001b[39;00m\n\u001b[0;32m    201\u001b[0m wr \u001b[39m=\u001b[39m np\u001b[39m.\u001b[39mzeros(N)  \u001b[39m# angular freq of resonators (GHz-rad)\u001b[39;00m\n",
      "\u001b[1;31mValueError\u001b[0m: Capacitance matrix is not the right size"
     ]
    }
   ],
   "source": [
    "c1.setup.junctions = Dict({'Lj': 12.31, 'Cj': 2})\n",
    "\n",
    "\n",
    "c1.run_lom()\n",
    "c1.lumped_oscillator_all"
   ]
  },
  {
   "cell_type": "code",
   "execution_count": 13,
   "metadata": {},
   "outputs": [
    {
     "ename": "AttributeError",
     "evalue": "'DesignPlanar' object has no attribute 'options'",
     "output_type": "error",
     "traceback": [
      "\u001b[1;31m---------------------------------------------------------------------------\u001b[0m",
      "\u001b[1;31mAttributeError\u001b[0m                            Traceback (most recent call last)",
      "Cell \u001b[1;32mIn [13], line 1\u001b[0m\n\u001b[1;32m----> 1\u001b[0m design\u001b[39m.\u001b[39;49moptions\n",
      "\u001b[1;31mAttributeError\u001b[0m: 'DesignPlanar' object has no attribute 'options'"
     ]
    }
   ],
   "source": [
    "design.options"
   ]
  },
  {
   "cell_type": "code",
   "execution_count": null,
   "metadata": {},
   "outputs": [],
   "source": []
  }
 ],
 "metadata": {
  "kernelspec": {
   "display_name": "Python 3.10.6 ('qmetal')",
   "language": "python",
   "name": "python3"
  },
  "language_info": {
   "codemirror_mode": {
    "name": "ipython",
    "version": 3
   },
   "file_extension": ".py",
   "mimetype": "text/x-python",
   "name": "python",
   "nbconvert_exporter": "python",
   "pygments_lexer": "ipython3",
   "version": "3.10.6"
  },
  "orig_nbformat": 4,
  "vscode": {
   "interpreter": {
    "hash": "1916451f7c1187ff7271dfeaf346b65172e65eace79f637eb86c6aea80f7f1a4"
   }
  }
 },
 "nbformat": 4,
 "nbformat_minor": 2
}
